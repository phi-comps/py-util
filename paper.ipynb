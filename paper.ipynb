{
 "cells": [
  {
   "cell_type": "code",
   "execution_count": 1,
   "metadata": {},
   "outputs": [],
   "source": [
    "from util import *\n",
    "import sympy as sy\n",
    "from sympy import Rational\n",
    "sy.init_printing()"
   ]
  },
  {
   "cell_type": "code",
   "execution_count": 2,
   "metadata": {},
   "outputs": [
    {
     "data": {
      "text/latex": [
       "$$\\gamma + m^{4} + 4 m^{3} \\left(- \\gamma + x\\right)^{2} + 2 m^{3} + 6 m^{2} \\left(- \\gamma + x\\right)^{4} + 4 m^{2} \\left(- \\gamma + x\\right)^{2} + m^{2} + 4 m \\left(- \\gamma + x\\right)^{6} + 2 m \\left(- \\gamma + x\\right)^{4} + m + \\left(- \\gamma + x\\right)^{8}$$"
      ],
      "text/plain": [
       "     4      3         2      3      2         4      2         2    2         \n",
       "γ + m  + 4⋅m ⋅(-γ + x)  + 2⋅m  + 6⋅m ⋅(-γ + x)  + 4⋅m ⋅(-γ + x)  + m  + 4⋅m⋅(-\n",
       "\n",
       "      6               4               8\n",
       "γ + x)  + 2⋅m⋅(-γ + x)  + m + (-γ + x) "
      ]
     },
     "execution_count": 2,
     "metadata": {},
     "output_type": "execute_result"
    }
   ],
   "source": [
    "f_it(3).subs(xg, x - gamma)"
   ]
  },
  {
   "cell_type": "code",
   "execution_count": 3,
   "metadata": {},
   "outputs": [
    {
     "data": {
      "text/latex": [
       "$$\\gamma + m^{4} + 4 m^{3} \\left(- \\gamma + x\\right)^{2} + 2 m^{3} + 6 m^{2} \\left(- \\gamma + x\\right)^{4} + 4 m^{2} \\left(- \\gamma + x\\right)^{2} + m^{2} + 4 m \\left(- \\gamma + x\\right)^{6} + 2 m \\left(- \\gamma + x\\right)^{4} + m + \\left(- \\gamma + x\\right)^{8}$$"
      ],
      "text/plain": [
       "     4      3         2      3      2         4      2         2    2         \n",
       "γ + m  + 4⋅m ⋅(-γ + x)  + 2⋅m  + 6⋅m ⋅(-γ + x)  + 4⋅m ⋅(-γ + x)  + m  + 4⋅m⋅(-\n",
       "\n",
       "      6               4               8\n",
       "γ + x)  + 2⋅m⋅(-γ + x)  + m + (-γ + x) "
      ]
     },
     "execution_count": 3,
     "metadata": {},
     "output_type": "execute_result"
    }
   ],
   "source": [
    "f_it(3).factor().subs(xg, x - gamma)"
   ]
  },
  {
   "cell_type": "code",
   "execution_count": 24,
   "metadata": {},
   "outputs": [
    {
     "data": {
      "text/latex": [
       "$$\\frac{1}{256} \\left(16 xg^{4} - 16 xg^{3} - 48 xg^{2} + 36 xg + 11\\right) \\left(16 xg^{4} + 16 xg^{3} - 48 xg^{2} - 36 xg + 11\\right)$$"
      ],
      "text/plain": [
       "⎛     4        3        2             ⎞ ⎛     4        3        2             \n",
       "⎝16⋅xg  - 16⋅xg  - 48⋅xg  + 36⋅xg + 11⎠⋅⎝16⋅xg  + 16⋅xg  - 48⋅xg  - 36⋅xg + 11\n",
       "──────────────────────────────────────────────────────────────────────────────\n",
       "                                      256                                     \n",
       "\n",
       "⎞\n",
       "⎠\n",
       "─\n",
       " "
      ]
     },
     "execution_count": 24,
     "metadata": {},
     "output_type": "execute_result"
    }
   ],
   "source": [
    "f_it(3).subs(gamma, Rational(1,2)).subs(m, -Rational(7,4)).factor()"
   ]
  },
  {
   "cell_type": "code",
   "execution_count": 11,
   "metadata": {},
   "outputs": [
    {
     "data": {
      "text/latex": [
       "$$x^{2} - x - 1$$"
      ],
      "text/plain": [
       " 2        \n",
       "x  - x - 1"
      ]
     },
     "execution_count": 11,
     "metadata": {},
     "output_type": "execute_result"
    }
   ],
   "source": [
    "f_it(1).subs(xg, x - gamma).subs(gamma, Rational(1,2)).subs(m, -Rational(7,4)).expand()"
   ]
  },
  {
   "cell_type": "code",
   "execution_count": 6,
   "metadata": {},
   "outputs": [
    {
     "data": {
      "text/latex": [
       "$$\\frac{1}{2}$$"
      ],
      "text/plain": [
       "1/2"
      ]
     },
     "execution_count": 6,
     "metadata": {},
     "output_type": "execute_result"
    }
   ],
   "source": [
    "Rational(1,2)"
   ]
  },
  {
   "cell_type": "code",
   "execution_count": null,
   "metadata": {},
   "outputs": [],
   "source": []
  }
 ],
 "metadata": {
  "kernelspec": {
   "display_name": "Python 3",
   "language": "python",
   "name": "python3"
  },
  "language_info": {
   "codemirror_mode": {
    "name": "ipython",
    "version": 3
   },
   "file_extension": ".py",
   "mimetype": "text/x-python",
   "name": "python",
   "nbconvert_exporter": "python",
   "pygments_lexer": "ipython3",
   "version": "3.6.4"
  }
 },
 "nbformat": 4,
 "nbformat_minor": 2
}

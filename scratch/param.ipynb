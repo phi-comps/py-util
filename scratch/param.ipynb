{
 "cells": [
  {
   "cell_type": "code",
   "execution_count": 2,
   "metadata": {},
   "outputs": [],
   "source": [
    "import sys\n",
    "sys.path.append('..')\n",
    "\n",
    "import sympy as sy\n",
    "from sympy import Symbol, Eq, Rational, sqrt, solve\n",
    "from sympy.abc import a, b, c, d, m, r, s, t, x, y, alpha, beta, gamma, M\n",
    "\n",
    "from IPython.display import display, Latex\n",
    "\n",
    "from util import *\n",
    "from transform import *\n",
    "from points import *\n",
    "from ec import EllipticCurve, Point"
   ]
  },
  {
   "cell_type": "code",
   "execution_count": 3,
   "metadata": {},
   "outputs": [
    {
     "data": {
      "text/latex": [
       "$$y^{2} = M^{2} + d^{4} - 4 d^{2} - 4$$"
      ],
      "text/plain": [
       " 2    2    4      2    \n",
       "y  = M  + d  - 4⋅d  - 4"
      ]
     },
     "execution_count": 3,
     "metadata": {},
     "output_type": "execute_result"
    }
   ],
   "source": [
    "M_ = 4*m+d**2+2\n",
    "qqq = M**2+(d**4-4*d**2-4)\n",
    "assert qq == qqq.subs(M, M_).expand()\n",
    "eq = Eq(y**2, qqq)\n",
    "eq"
   ]
  },
  {
   "cell_type": "code",
   "execution_count": 4,
   "metadata": {},
   "outputs": [
    {
     "data": {
      "text/latex": [
       "$$\\frac{1}{8 r} \\left(d^{4} - 4 d^{2} - r \\left(2 d^{2} + r + 4\\right) - 4\\right)$$"
      ],
      "text/plain": [
       " 4      2     ⎛   2        ⎞    \n",
       "d  - 4⋅d  - r⋅⎝2⋅d  + r + 4⎠ - 4\n",
       "────────────────────────────────\n",
       "              8⋅r               "
      ]
     },
     "execution_count": 4,
     "metadata": {},
     "output_type": "execute_result"
    }
   ],
   "source": [
    "m_ = solve(Eq(0,(eq.rhs-(M+r)**2).subs(M, M_).expand()), m)[0].expand().simplify()\n",
    "m_"
   ]
  },
  {
   "cell_type": "code",
   "execution_count": 5,
   "metadata": {},
   "outputs": [],
   "source": [
    "def mat(r_, d_):\n",
    "    return m_.subs(r, r_).subs(d, d_)\n",
    "\n",
    "y_ = (d**4-4*d**2+r**2-4)/(2*r)\n",
    "def yat(r_, d_):\n",
    "    return y_.subs(r, r_).subs(d, d_)"
   ]
  },
  {
   "cell_type": "code",
   "execution_count": 6,
   "metadata": {},
   "outputs": [
    {
     "data": {
      "text/latex": [
       "$$\\frac{1}{4}$$"
      ],
      "text/plain": [
       "1/4"
      ]
     },
     "execution_count": 6,
     "metadata": {},
     "output_type": "execute_result"
    }
   ],
   "source": [
    "mat(-1, -1)"
   ]
  },
  {
   "cell_type": "code",
   "execution_count": 7,
   "metadata": {},
   "outputs": [
    {
     "data": {
      "text/latex": [
       "$$-1$$"
      ],
      "text/plain": [
       "-1"
      ]
     },
     "execution_count": 7,
     "metadata": {},
     "output_type": "execute_result"
    }
   ],
   "source": [
    "mat(-2, 2)"
   ]
  },
  {
   "cell_type": "code",
   "execution_count": 8,
   "metadata": {},
   "outputs": [
    {
     "data": {
      "text/latex": [
       "$$9$$"
      ],
      "text/plain": [
       "9"
      ]
     },
     "execution_count": 8,
     "metadata": {},
     "output_type": "execute_result"
    }
   ],
   "source": [
    "qq.subs(m, Rational(1,4)).subs(d, -1)"
   ]
  },
  {
   "cell_type": "code",
   "execution_count": 9,
   "metadata": {},
   "outputs": [],
   "source": [
    "tt_ = gamma + m + m**2\n",
    "ss_ = -2*m + 2*t"
   ]
  },
  {
   "cell_type": "code",
   "execution_count": 10,
   "metadata": {},
   "outputs": [
    {
     "data": {
      "text/latex": [
       "$$\\frac{d^{24}}{16384 r^{4}} - \\frac{3 d^{22}}{4096 r^{3}} - \\frac{3 d^{22}}{2048 r^{4}} + \\frac{d^{20}}{256 r^{2}} + \\frac{15 d^{20}}{1024 r^{3}} + \\frac{d^{20}}{64 r^{4}} - \\frac{25 d^{18}}{2048 r} - \\frac{65 d^{18}}{1024 r^{2}} - \\frac{65 d^{18}}{512 r^{3}} - \\frac{25 d^{18}}{256 r^{4}} + \\frac{203 d^{16}}{8192} + \\frac{5 d^{16}}{32 r} + \\frac{437 d^{16}}{1024 r^{2}} - \\frac{d^{16} t}{128 r^{3}} + \\frac{313 d^{16}}{512 r^{3}} + \\frac{191 d^{16}}{512 r^{4}} - \\frac{35 r}{1024} d^{14} - \\frac{123 d^{14}}{512} - \\frac{97 d^{14}}{128 r} + \\frac{d^{14} t}{16 r^{2}} - \\frac{45 d^{14}}{32 r^{2}} + \\frac{d^{14} t}{8 r^{3}} - \\frac{97 d^{14}}{64 r^{3}} - \\frac{23 d^{14}}{32 r^{4}} + \\frac{133 d^{12}}{4096} r^{2} + \\frac{61 r}{256} d^{12} + \\frac{757 d^{12}}{1024} - \\frac{25 d^{12} t}{128 r} + \\frac{641 d^{12}}{512 r} - \\frac{23 d^{12} t}{32 r^{2}} + \\frac{285 d^{12}}{256 r^{2}} - \\frac{23 d^{12} t}{32 r^{3}} + \\frac{39 d^{12}}{128 r^{3}} - \\frac{9 d^{12}}{64 r^{4}} - \\frac{43 d^{10}}{2048} r^{3} - \\frac{155 d^{10}}{1024} r^{2} - \\frac{179 r}{512} d^{10} + \\frac{19 t}{64} d^{10} + \\frac{17 d^{10}}{128} + \\frac{45 d^{10} t}{32 r} + \\frac{165 d^{10}}{64 r} + \\frac{39 d^{10} t}{16 r^{2}} + \\frac{25 d^{10}}{4 r^{2}} + \\frac{13 d^{10} t}{8 r^{3}} + \\frac{109 d^{10}}{16 r^{3}} + \\frac{47 d^{10}}{16 r^{4}} + \\frac{145 d^{8}}{16384} r^{4} + \\frac{15 d^{8}}{256} r^{3} + \\frac{23 d^{8}}{1024} r^{2} - \\frac{27 r}{128} d^{8} t - \\frac{453 r}{512} d^{8} - \\frac{15 t}{16} d^{8} - \\frac{1981 d^{8}}{512} - \\frac{5 d^{8} t}{4 r} - \\frac{67 d^{8}}{8 r} - \\frac{5 d^{8} t}{8 r^{2}} - \\frac{665 d^{8}}{64 r^{2}} - \\frac{d^{8} t}{8 r^{3}} - \\frac{223 d^{8}}{32 r^{3}} - \\frac{127 d^{8}}{64 r^{4}} - \\frac{9 d^{6}}{4096} r^{5} - \\frac{25 d^{6}}{2048} r^{4} + \\frac{9 d^{6}}{256} r^{3} + \\frac{d^{6} t}{32} r^{2} + \\frac{3 d^{6}}{8} r^{2} - \\frac{3 r}{16} d^{6} t + \\frac{83 r}{128} d^{6} - \\frac{5 t}{2} d^{6} - \\frac{107 d^{6}}{64} - \\frac{15 d^{6} t}{2 r} - \\frac{143 d^{6}}{16 r} - \\frac{19 d^{6} t}{2 r^{2}} - \\frac{65 d^{6}}{4 r^{2}} - \\frac{5 t}{r^{3}} d^{6} - \\frac{229 d^{6}}{16 r^{3}} - \\frac{41 d^{6}}{8 r^{4}} + \\frac{d^{4} r^{6}}{4096} + \\frac{d^{4} r^{5}}{1024} - \\frac{d^{4} r^{4}}{1024} + \\frac{5 t}{128} d^{4} r^{3} + \\frac{27 d^{4}}{512} r^{3} + \\frac{13 t}{32} d^{4} r^{2} + \\frac{23 d^{4}}{32} r^{2} + \\frac{61 r}{32} d^{4} t + \\frac{471 r}{128} d^{4} + 5 d^{4} t + \\frac{329 d^{4}}{32} + \\frac{63 d^{4} t}{8 r} + \\frac{553 d^{4}}{32 r} + \\frac{15 d^{4} t}{2 r^{2}} + \\frac{283 d^{4}}{16 r^{2}} + \\frac{7 d^{4} t}{2 r^{3}} + \\frac{83 d^{4}}{8 r^{3}} + \\frac{11 d^{4}}{4 r^{4}} - \\frac{d^{2} r^{5}}{256} - \\frac{d^{2} t}{64} r^{4} - \\frac{9 d^{2}}{256} r^{4} - \\frac{3 t}{32} d^{2} r^{3} - \\frac{5 d^{2}}{128} r^{3} + \\frac{5 t}{16} d^{2} r^{2} + \\frac{51 d^{2}}{64} r^{2} + \\frac{31 r}{8} d^{2} t + \\frac{161 r}{32} d^{2} + \\frac{53 t}{4} d^{2} + \\frac{243 d^{2}}{16} + \\frac{47 d^{2} t}{2 r} + \\frac{221 d^{2}}{8 r} + \\frac{23 t}{r^{2}} d^{2} + \\frac{125 d^{2}}{4 r^{2}} + \\frac{10 t}{r^{3}} d^{2} + \\frac{41 d^{2}}{2 r^{3}} + \\frac{6 d^{2}}{r^{4}} + \\frac{r^{4}}{128} + \\frac{r^{3} t}{16} + \\frac{7 r^{3}}{64} + \\frac{5 t}{8} r^{2} + \\frac{11 r^{2}}{16} + \\frac{11 r}{4} t + \\frac{41 r}{16} + 7 t + \\frac{25}{4} + \\frac{11 t}{r} + \\frac{41}{4 r} + \\frac{10 t}{r^{2}} + \\frac{11}{r^{2}} + \\frac{4 t}{r^{3}} + \\frac{7}{r^{3}} + \\frac{2}{r^{4}}$$"
      ],
      "text/plain": [
       "   24          22        22      20          20     20        18        18    \n",
       "  d         3⋅d       3⋅d       d        15⋅d      d      25⋅d      65⋅d     6\n",
       "──────── - ─────── - ─────── + ────── + ─────── + ───── - ────── - ─────── - ─\n",
       "       4         3         4        2         3       4   2048⋅r         2    \n",
       "16384⋅r    4096⋅r    2048⋅r    256⋅r    1024⋅r    64⋅r             1024⋅r    5\n",
       "\n",
       "   18       18        16      16        16    16           16        16       \n",
       "5⋅d     25⋅d     203⋅d     5⋅d     437⋅d     d  ⋅t    313⋅d     191⋅d     35⋅d\n",
       "───── - ────── + ─────── + ───── + ─────── - ────── + ─────── + ─────── - ────\n",
       "    3        4     8192     32⋅r         2        3         3         4     10\n",
       "12⋅r    256⋅r                      1024⋅r    128⋅r     512⋅r     512⋅r        \n",
       "\n",
       "14          14       14    14         14    14         14       14        12  \n",
       "  ⋅r   123⋅d     97⋅d     d  ⋅t   45⋅d     d  ⋅t   97⋅d     23⋅d     133⋅d  ⋅r\n",
       "──── - ─────── - ────── + ───── - ────── + ───── - ────── - ────── + ─────────\n",
       "24       512     128⋅r        2       2        3       3        4       4096  \n",
       "                          16⋅r    32⋅r      8⋅r    64⋅r     32⋅r              \n",
       "\n",
       "2       12          12       12          12       12          12       12     \n",
       "    61⋅d  ⋅r   757⋅d     25⋅d  ⋅t   641⋅d     23⋅d  ⋅t   285⋅d     23⋅d  ⋅t   \n",
       "─ + ──────── + ─────── - ──────── + ─────── - ──────── + ─────── - ──────── + \n",
       "      256        1024     128⋅r      512⋅r         2           2        3     \n",
       "                                               32⋅r       256⋅r     32⋅r      \n",
       "\n",
       "    12      12       10  3        10  2        10         10         10       \n",
       "39⋅d     9⋅d     43⋅d  ⋅r    155⋅d  ⋅r    179⋅d  ⋅r   19⋅d  ⋅t   17⋅d     45⋅d\n",
       "────── - ───── - ───────── - ────────── - ───────── + ──────── + ────── + ────\n",
       "     3       4      2048        1024         512         64       128       32\n",
       "128⋅r    64⋅r                                                                 \n",
       "\n",
       "10          10       10         10       10          10       10        8  4  \n",
       "  ⋅t   165⋅d     39⋅d  ⋅t   25⋅d     13⋅d  ⋅t   109⋅d     47⋅d     145⋅d ⋅r   \n",
       "──── + ─────── + ──────── + ────── + ──────── + ─────── + ────── + ───────── +\n",
       "⋅r       64⋅r         2         2         3          3        4      16384    \n",
       "                  16⋅r       4⋅r       8⋅r       16⋅r     16⋅r                \n",
       "\n",
       "     8  3       8  2       8            8         8           8      8        \n",
       " 15⋅d ⋅r    23⋅d ⋅r    27⋅d ⋅r⋅t   453⋅d ⋅r   15⋅d ⋅t   1981⋅d    5⋅d ⋅t   67⋅\n",
       " ──────── + ──────── - ───────── - ──────── - ─────── - ─────── - ────── - ───\n",
       "   256        1024        128        512         16       512      4⋅r      8⋅\n",
       "                                                                              \n",
       "\n",
       " 8      8          8    8          8        8      6  5       6  4      6  3  \n",
       "d    5⋅d ⋅t   665⋅d    d ⋅t   223⋅d    127⋅d    9⋅d ⋅r    25⋅d ⋅r    9⋅d ⋅r   \n",
       "── - ────── - ────── - ──── - ────── - ────── - ─────── - ──────── + ─────── +\n",
       "r        2        2       3       3        4      4096      2048       256    \n",
       "      8⋅r     64⋅r     8⋅r    32⋅r     64⋅r                                   \n",
       "\n",
       "  6  2        6  2      6           6        6          6       6          6  \n",
       " d ⋅r ⋅t   3⋅d ⋅r    3⋅d ⋅r⋅t   83⋅d ⋅r   5⋅d ⋅t   107⋅d    15⋅d ⋅t   143⋅d   \n",
       " ─────── + ─────── - ──────── + ─────── - ────── - ────── - ─────── - ────── -\n",
       "    32        8         16        128       2        64       2⋅r      16⋅r   \n",
       "                                                                              \n",
       "\n",
       "     6         6      6          6       6    4  6    4  5    4  4      4  3  \n",
       " 19⋅d ⋅t   65⋅d    5⋅d ⋅t   229⋅d    41⋅d    d ⋅r    d ⋅r    d ⋅r    5⋅d ⋅r ⋅t\n",
       " ─────── - ───── - ────── - ────── - ───── + ───── + ───── - ───── + ─────────\n",
       "      2        2      3         3        4    4096    1024    1024      128   \n",
       "   2⋅r      4⋅r      r      16⋅r      8⋅r                                     \n",
       "\n",
       "       4  3       4  2         4  2       4            4                   4  \n",
       "   27⋅d ⋅r    13⋅d ⋅r ⋅t   23⋅d ⋅r    61⋅d ⋅r⋅t   471⋅d ⋅r      4     329⋅d   \n",
       " + ──────── + ────────── + ──────── + ───────── + ──────── + 5⋅d ⋅t + ────── +\n",
       "     512          32          32          32        128                 32    \n",
       "                                                                              \n",
       "\n",
       "     4          4       4          4      4         4       4    2  5    2  4 \n",
       " 63⋅d ⋅t   553⋅d    15⋅d ⋅t   283⋅d    7⋅d ⋅t   83⋅d    11⋅d    d ⋅r    d ⋅r ⋅\n",
       " ─────── + ────── + ─────── + ────── + ────── + ───── + ───── - ───── - ──────\n",
       "   8⋅r      32⋅r         2        2        3        3       4    256       64 \n",
       "                      2⋅r     16⋅r      2⋅r      8⋅r     4⋅r                  \n",
       "\n",
       "       2  4      2  3        2  3      2  2         2  2       2            2 \n",
       "t   9⋅d ⋅r    3⋅d ⋅r ⋅t   5⋅d ⋅r    5⋅d ⋅r ⋅t   51⋅d ⋅r    31⋅d ⋅r⋅t   161⋅d ⋅\n",
       "─ - ─────── - ───────── - ─────── + ───────── + ──────── + ───────── + ───────\n",
       "      256         32        128         16         64          8          32  \n",
       "                                                                              \n",
       "\n",
       "        2          2       2          2       2          2       2         2  \n",
       "r   53⋅d ⋅t   243⋅d    47⋅d ⋅t   221⋅d    23⋅d ⋅t   125⋅d    10⋅d ⋅t   41⋅d   \n",
       "─ + ─────── + ────── + ─────── + ────── + ─────── + ────── + ─────── + ───── +\n",
       "       4        16       2⋅r      8⋅r         2         2        3         3  \n",
       "                                             r       4⋅r        r       2⋅r   \n",
       "\n",
       "    2     4    3        3      2         2                                    \n",
       " 6⋅d     r    r ⋅t   7⋅r    5⋅r ⋅t   11⋅r    11⋅r⋅t   41⋅r         25   11⋅t  \n",
       " ──── + ─── + ──── + ──── + ────── + ───── + ────── + ──── + 7⋅t + ── + ──── +\n",
       "   4    128    16     64      8        16      4       16          4     r    \n",
       "  r                                                                           \n",
       "\n",
       "                                \n",
       "  41   10⋅t   11   4⋅t   7    2 \n",
       " ─── + ──── + ── + ─── + ── + ──\n",
       " 4⋅r     2     2     3    3    4\n",
       "        r     r     r    r    r "
      ]
     },
     "execution_count": 10,
     "metadata": {},
     "output_type": "execute_result"
    }
   ],
   "source": [
    "#f^2 newly red iff (1/4)ss_^4+mss_^2=Y^2\n",
    "((((ss_**4/4+m*ss_**2).expand().subs(t**2, tt_).subs(t**3, t*tt_).subs(gamma, gamma_nice.subs(beta, y)).subs(m, m_).subs(y, y_)).expand()))"
   ]
  },
  {
   "cell_type": "code",
   "execution_count": 11,
   "metadata": {},
   "outputs": [
    {
     "data": {
      "text/latex": [
       "$$\\frac{17 d^{8}}{64} + \\frac{5 d^{6}}{32 r} \\left(d^{4} - 4 d^{2} - r \\left(2 d^{2} + r + 4\\right) - 4\\right) + \\frac{7 d^{4}}{32 r} \\left(d^{4} - 4 d^{2} - r \\left(2 d^{2} + r + 4\\right) - 4\\right) + \\frac{11 d^{4}}{256 r^{2}} \\left(d^{4} - 4 d^{2} - r \\left(2 d^{2} + r + 4\\right) - 4\\right)^{2} + \\frac{d^{2}}{32 r^{2}} \\left(d^{4} - 4 d^{2} - r \\left(2 d^{2} + r + 4\\right) - 4\\right)^{2} + \\frac{d^{2}}{256 r^{3}} \\left(d^{4} - 4 d^{2} - r \\left(2 d^{2} + r + 4\\right) - 4\\right)^{3} + \\frac{1}{2 r} \\left(d^{4} - 4 d^{2} + r^{2} - 4\\right) \\left(- \\frac{3 d^{6}}{16} - \\frac{d^{4}}{16 r} \\left(d^{4} - 4 d^{2} - r \\left(2 d^{2} + r + 4\\right) - 4\\right) - \\frac{d^{2}}{16 r} \\left(d^{4} - 4 d^{2} - r \\left(2 d^{2} + r + 4\\right) - 4\\right) - \\frac{d^{2}}{128 r^{2}} \\left(d^{4} - 4 d^{2} - r \\left(2 d^{2} + r + 4\\right) - 4\\right)^{2}\\right) - \\frac{1}{8 r} \\left(d^{4} - 4 d^{2} - r \\left(2 d^{2} + r + 4\\right) - 4\\right)$$"
      ],
      "text/plain": [
       "                                                                              \n",
       "                                                                              \n",
       "                                                                              \n",
       "                                                                              \n",
       "    8      6 ⎛ 4      2     ⎛   2        ⎞    ⎞      4 ⎛ 4      2     ⎛   2   \n",
       "17⋅d    5⋅d ⋅⎝d  - 4⋅d  - r⋅⎝2⋅d  + r + 4⎠ - 4⎠   7⋅d ⋅⎝d  - 4⋅d  - r⋅⎝2⋅d  + \n",
       "───── + ─────────────────────────────────────── + ────────────────────────────\n",
       "  64                      32⋅r                                      32⋅r      \n",
       "                                                                              \n",
       "\n",
       "                                                                              \n",
       "                                                                              \n",
       "                                                                              \n",
       "                                                      2                       \n",
       "     ⎞    ⎞       4 ⎛ 4      2     ⎛   2        ⎞    ⎞     2 ⎛ 4      2     ⎛ \n",
       "r + 4⎠ - 4⎠   11⋅d ⋅⎝d  - 4⋅d  - r⋅⎝2⋅d  + r + 4⎠ - 4⎠    d ⋅⎝d  - 4⋅d  - r⋅⎝2\n",
       "─────────── + ───────────────────────────────────────── + ────────────────────\n",
       "                                     2                                        \n",
       "                                256⋅r                                     32⋅r\n",
       "\n",
       "                                                                              \n",
       "                                                                              \n",
       "                                                              ⎛ 4      2    2 \n",
       "                 2                                        3   ⎝d  - 4⋅d  + r  \n",
       "  2        ⎞    ⎞     2 ⎛ 4      2     ⎛   2        ⎞    ⎞                    \n",
       "⋅d  + r + 4⎠ - 4⎠    d ⋅⎝d  - 4⋅d  - r⋅⎝2⋅d  + r + 4⎠ - 4⎠                    \n",
       "────────────────── + ────────────────────────────────────── + ────────────────\n",
       "2                                         3                                   \n",
       "                                     256⋅r                                    \n",
       "\n",
       "     ⎛                                                                        \n",
       "     ⎜     6    4 ⎛ 4      2     ⎛   2        ⎞    ⎞    2 ⎛ 4      2     ⎛   2\n",
       "   ⎞ ⎜  3⋅d    d ⋅⎝d  - 4⋅d  - r⋅⎝2⋅d  + r + 4⎠ - 4⎠   d ⋅⎝d  - 4⋅d  - r⋅⎝2⋅d \n",
       "- 4⎠⋅⎜- ──── - ───────────────────────────────────── - ───────────────────────\n",
       "     ⎜   16                     16⋅r                                    16⋅r  \n",
       "     ⎝                                                                        \n",
       "──────────────────────────────────────────────────────────────────────────────\n",
       "                                                         2⋅r                  \n",
       "                                                                              \n",
       "\n",
       "                                                      2⎞                      \n",
       "        ⎞    ⎞    2 ⎛ 4      2     ⎛   2        ⎞    ⎞ ⎟                      \n",
       " + r + 4⎠ - 4⎠   d ⋅⎝d  - 4⋅d  - r⋅⎝2⋅d  + r + 4⎠ - 4⎠ ⎟                      \n",
       "────────────── - ──────────────────────────────────────⎟                      \n",
       "                                      2                ⎟    4      2     ⎛   2\n",
       "                                 128⋅r                 ⎠   d  - 4⋅d  - r⋅⎝2⋅d \n",
       "──────────────────────────────────────────────────────── - ───────────────────\n",
       "                                                                         8⋅r  \n",
       "                                                                              \n",
       "\n",
       "             \n",
       "             \n",
       "             \n",
       "             \n",
       "        ⎞    \n",
       " + r + 4⎠ - 4\n",
       "─────────────\n",
       "             \n",
       "             "
      ]
     },
     "execution_count": 11,
     "metadata": {},
     "output_type": "execute_result"
    }
   ],
   "source": [
    "gammma = gamma_nice.subs(beta, y_).subs(m, m_)\n",
    "gammma"
   ]
  },
  {
   "cell_type": "code",
   "execution_count": 12,
   "metadata": {},
   "outputs": [],
   "source": [
    "first = (-m_-gammma)\n",
    "second = tt_.subs(gamma, gammma).subs(m, m_)"
   ]
  },
  {
   "cell_type": "code",
   "execution_count": 20,
   "metadata": {},
   "outputs": [
    {
     "data": {
      "text/latex": [
       "$$d^{2} \\left(- d^{2} + 2 r + 4\\right) \\left(d^{4} - 2 d^{2} r - 4 d^{2} + r^{2} - 4\\right)^{2}$$"
      ],
      "text/plain": [
       "                                                 2\n",
       " 2 ⎛   2          ⎞ ⎛ 4      2        2    2    ⎞ \n",
       "d ⋅⎝- d  + 2⋅r + 4⎠⋅⎝d  - 2⋅d ⋅r - 4⋅d  + r  - 4⎠ "
      ]
     },
     "execution_count": 20,
     "metadata": {},
     "output_type": "execute_result"
    }
   ],
   "source": [
    "(256*r**2*first).expand().factor()"
   ]
  },
  {
   "cell_type": "code",
   "execution_count": 22,
   "metadata": {},
   "outputs": [
    {
     "data": {
      "text/latex": [
       "$$- d^{2} + 2 r + 4$$"
      ],
      "text/plain": [
       "   2          \n",
       "- d  + 2⋅r + 4"
      ]
     },
     "execution_count": 22,
     "metadata": {},
     "output_type": "execute_result"
    }
   ],
   "source": [
    "fst = (256*r**2*first).expand().factor().as_two_terms()[1].as_two_terms()[1]\n",
    "fst"
   ]
  },
  {
   "cell_type": "code",
   "execution_count": 23,
   "metadata": {},
   "outputs": [
    {
     "data": {
      "text/latex": [
       "$$- \\left(- d^{2} + r + 2\\right)^{2} \\left(- d^{8} + 4 d^{6} r + 8 d^{6} - 5 d^{4} r^{2} - 12 d^{4} r - 8 d^{4} + 2 d^{2} r^{3} - 4 d^{2} r^{2} - 32 d^{2} r - 32 d^{2} - 4 r^{2} - 16 r - 16\\right)$$"
      ],
      "text/plain": [
       "               2                                                              \n",
       " ⎛   2        ⎞  ⎛   8      6        6      4  2       4        4      2  3   \n",
       "-⎝- d  + r + 2⎠ ⋅⎝- d  + 4⋅d ⋅r + 8⋅d  - 5⋅d ⋅r  - 12⋅d ⋅r - 8⋅d  + 2⋅d ⋅r  - \n",
       "\n",
       "                                             \n",
       "   2  2       2         2      2            ⎞\n",
       "4⋅d ⋅r  - 32⋅d ⋅r - 32⋅d  - 4⋅r  - 16⋅r - 16⎠"
      ]
     },
     "execution_count": 23,
     "metadata": {},
     "output_type": "execute_result"
    }
   ],
   "source": [
    "(256*r**2*second).expand().factor()"
   ]
  },
  {
   "cell_type": "code",
   "execution_count": 29,
   "metadata": {},
   "outputs": [
    {
     "data": {
      "text/latex": [
       "$$d^{8} - 4 d^{6} r - 8 d^{6} + 5 d^{4} r^{2} + 12 d^{4} r + 8 d^{4} - 2 d^{2} r^{3} + 4 d^{2} r^{2} + 32 d^{2} r + 32 d^{2} + 4 r^{2} + 16 r + 16$$"
      ],
      "text/plain": [
       " 8      6        6      4  2       4        4      2  3      2  2       2     \n",
       "d  - 4⋅d ⋅r - 8⋅d  + 5⋅d ⋅r  + 12⋅d ⋅r + 8⋅d  - 2⋅d ⋅r  + 4⋅d ⋅r  + 32⋅d ⋅r + \n",
       "\n",
       "    2      2            \n",
       "32⋅d  + 4⋅r  + 16⋅r + 16"
      ]
     },
     "execution_count": 29,
     "metadata": {},
     "output_type": "execute_result"
    }
   ],
   "source": [
    "snd = -(256*r**2*second).expand().factor().as_two_terms()[1].as_two_terms()[1]\n",
    "snd"
   ]
  },
  {
   "cell_type": "markdown",
   "metadata": {},
   "source": [
    "f^3 newly red iff fst and snd non-square"
   ]
  },
  {
   "cell_type": "code",
   "execution_count": null,
   "metadata": {},
   "outputs": [],
   "source": []
  }
 ],
 "metadata": {
  "kernelspec": {
   "display_name": "Python 3",
   "language": "python",
   "name": "python3"
  },
  "language_info": {
   "codemirror_mode": {
    "name": "ipython",
    "version": 3
   },
   "file_extension": ".py",
   "mimetype": "text/x-python",
   "name": "python",
   "nbconvert_exporter": "python",
   "pygments_lexer": "ipython3",
   "version": "3.6.2"
  }
 },
 "nbformat": 4,
 "nbformat_minor": 2
}

{
 "cells": [
  {
   "cell_type": "code",
   "execution_count": 1,
   "metadata": {},
   "outputs": [],
   "source": [
    "import sympy as sy\n",
    "from sympy import Symbol, Eq, Rational, sqrt, solve\n",
    "from sympy.abc import a, b, c, d, m, x, y, alpha, beta, gamma\n",
    "\n",
    "from IPython.display import display, Latex\n",
    "\n",
    "from util import *\n",
    "from transform import *\n",
    "from points import *\n",
    "from ec import EllipticCurve, Point"
   ]
  },
  {
   "cell_type": "code",
   "execution_count": 2,
   "metadata": {},
   "outputs": [
    {
     "data": {
      "text/latex": [
       "$$b^{2} - b d^{3} - 4 b d m + \\frac{d^{6}}{8} + \\frac{3 m}{2} d^{4} + 3 d^{2} m^{2} - d^{2} m$$"
      ],
      "text/plain": [
       "                       6      4                   \n",
       " 2      3             d    3⋅d ⋅m      2  2    2  \n",
       "b  - b⋅d  - 4⋅b⋅d⋅m + ── + ────── + 3⋅d ⋅m  - d ⋅m\n",
       "                      8      2                    "
      ]
     },
     "execution_count": 2,
     "metadata": {},
     "output_type": "execute_result"
    }
   ],
   "source": [
    "lo55"
   ]
  },
  {
   "cell_type": "code",
   "execution_count": 3,
   "metadata": {},
   "outputs": [
    {
     "data": {
      "text/latex": [
       "$$- b^{2} d^{2} + \\frac{b d^{5}}{4} + 2 b d^{3} m - 2 b d m^{2} - 2 b d m - \\frac{d^{8}}{64} - \\frac{d^{6} m}{4} - \\frac{3 d^{4}}{4} m^{2} + \\frac{d^{4} m}{4} + 2 d^{2} m^{3} + 2 d^{2} m^{2} + \\gamma + m$$"
      ],
      "text/plain": [
       "             5                                    8    6        4  2    4     \n",
       "   2  2   b⋅d         3            2             d    d ⋅m   3⋅d ⋅m    d ⋅m   \n",
       "- b ⋅d  + ──── + 2⋅b⋅d ⋅m - 2⋅b⋅d⋅m  - 2⋅b⋅d⋅m - ── - ──── - ─────── + ──── + \n",
       "           4                                     64    4        4       4     \n",
       "\n",
       "                         \n",
       "   2  3      2  2        \n",
       "2⋅d ⋅m  + 2⋅d ⋅m  + γ + m\n",
       "                         "
      ]
     },
     "execution_count": 3,
     "metadata": {},
     "output_type": "execute_result"
    }
   ],
   "source": [
    "up55"
   ]
  },
  {
   "cell_type": "code",
   "execution_count": 4,
   "metadata": {},
   "outputs": [
    {
     "data": {
      "text/latex": [
       "$$\\operatorname{Poly}{\\left( - b^{2} d^{2} + b \\left(\\frac{d^{5}}{4} + 2 d^{3} m - 2 d m^{2} - 2 d m\\right) - \\frac{d^{8}}{64} - \\frac{d^{6} m}{4} - \\frac{3 d^{4}}{4} m^{2} + \\frac{d^{4} m}{4} + 2 d^{2} m^{3} + 2 d^{2} m^{2} + \\gamma + m, b, domain=\\mathbb{Q}\\left[d, m, \\gamma\\right] \\right)}$$"
      ],
      "text/plain": [
       "Poly(-d**2*b**2 + (d**5/4 + 2*d**3*m - 2*d*m**2 - 2*d*m)*b - d**8/64 - d**6*m/\n",
       "4 - 3*d**4*m**2/4 + d**4*m/4 + 2*d**2*m**3 + 2*d**2*m**2 + gamma + m, b, domai\n",
       "n='QQ[d,m,gamma]')"
      ]
     },
     "execution_count": 4,
     "metadata": {},
     "output_type": "execute_result"
    }
   ],
   "source": [
    "up55.as_poly(b)"
   ]
  },
  {
   "cell_type": "code",
   "execution_count": 5,
   "metadata": {},
   "outputs": [
    {
     "data": {
      "text/latex": [
       "$$\\frac{d}{4} \\left(\\beta + 2 d^{2} + 8 m\\right)$$"
      ],
      "text/plain": [
       "  ⎛       2      ⎞\n",
       "d⋅⎝β + 2⋅d  + 8⋅m⎠\n",
       "──────────────────\n",
       "        4         "
      ]
     },
     "execution_count": 5,
     "metadata": {},
     "output_type": "execute_result"
    }
   ],
   "source": [
    "b_ = solve(Eq(0, lo55), b)[1].subs(sqrt(qq), beta)\n",
    "b_"
   ]
  },
  {
   "cell_type": "code",
   "execution_count": 6,
   "metadata": {},
   "outputs": [
    {
     "data": {
      "text/latex": [
       "$$- \\frac{\\beta^{2} d^{4}}{16} + \\beta \\left(- \\frac{3 d^{6}}{16} - \\frac{d^{4} m}{2} - \\frac{d^{2} m^{2}}{2} - \\frac{d^{2} m}{2}\\right) - \\frac{9 d^{8}}{64} - \\frac{3 m}{4} d^{6} - \\frac{7 d^{4}}{4} m^{2} - \\frac{3 m}{4} d^{4} - 2 d^{2} m^{3} - 2 d^{2} m^{2} + \\gamma + m$$"
      ],
      "text/plain": [
       "   2  4     ⎛     6    4      2  2    2  ⎞      8      6        4  2      4   \n",
       "  β ⋅d      ⎜  3⋅d    d ⋅m   d ⋅m    d ⋅m⎟   9⋅d    3⋅d ⋅m   7⋅d ⋅m    3⋅d ⋅m \n",
       "- ───── + β⋅⎜- ──── - ──── - ───── - ────⎟ - ──── - ────── - ─────── - ────── \n",
       "    16      ⎝   16     2       2      2  ⎠    64      4         4        4    \n",
       "\n",
       "                           \n",
       "     2  3      2  2        \n",
       "- 2⋅d ⋅m  - 2⋅d ⋅m  + γ + m\n",
       "                           "
      ]
     },
     "execution_count": 6,
     "metadata": {},
     "output_type": "execute_result"
    }
   ],
   "source": [
    "up55.subs(b, b_).expand().as_poly(beta).as_expr()"
   ]
  },
  {
   "cell_type": "code",
   "execution_count": 7,
   "metadata": {},
   "outputs": [
    {
     "data": {
      "text/latex": [
       "$$\\left(x^{2} + 3 x + 1\\right)^{2}$$"
      ],
      "text/plain": [
       "              2\n",
       "⎛ 2          ⎞ \n",
       "⎝x  + 3⋅x + 1⎠ "
      ]
     },
     "execution_count": 7,
     "metadata": {},
     "output_type": "execute_result"
    }
   ],
   "source": [
    "(x**4+6*x**3+11*x**2+6*x+1).factor()"
   ]
  },
  {
   "cell_type": "code",
   "execution_count": 8,
   "metadata": {},
   "outputs": [
    {
     "data": {
      "text/latex": [
       "$$x \\left(x^{3} + 6 x^{2} + 11 x + 5\\right)$$"
      ],
      "text/plain": [
       "  ⎛ 3      2           ⎞\n",
       "x⋅⎝x  + 6⋅x  + 11⋅x + 5⎠"
      ]
     },
     "execution_count": 8,
     "metadata": {},
     "output_type": "execute_result"
    }
   ],
   "source": [
    "(x**4+6*x**3+11*x**2+5*x).factor()"
   ]
  },
  {
   "cell_type": "code",
   "execution_count": 9,
   "metadata": {},
   "outputs": [
    {
     "data": {
      "text/latex": [
       "$$\\left [ \\gamma + m^{4} + 2 m^{3} + m^{2} + m = a^{2}, \\quad 4 m^{3} + 4 m^{2} = 2 a c - b^{2}, \\quad 6 m^{2} + 2 m = 2 a - 2 b d + c^{2}, \\quad 4 m = 2 c - d^{2}\\right ]$$"
      ],
      "text/plain": [
       "⎡     4      3    2        2     3      2            2     2                  \n",
       "⎣γ + m  + 2⋅m  + m  + m = a , 4⋅m  + 4⋅m  = 2⋅a⋅c - b , 6⋅m  + 2⋅m = 2⋅a - 2⋅b\n",
       "\n",
       "      2               2⎤\n",
       "⋅d + c , 4⋅m = 2⋅c - d ⎦"
      ]
     },
     "execution_count": 9,
     "metadata": {},
     "output_type": "execute_result"
    }
   ],
   "source": [
    "nice"
   ]
  },
  {
   "cell_type": "code",
   "execution_count": 10,
   "metadata": {},
   "outputs": [
    {
     "data": {
      "text/latex": [
       "$$\\left [ - \\sqrt{2 a c - 4 m^{3} - 4 m^{2}}, \\quad \\sqrt{2 a c - 4 m^{3} - 4 m^{2}}\\right ]$$"
      ],
      "text/plain": [
       "⎡    _____________________     _____________________⎤\n",
       "⎢   ╱            3      2     ╱            3      2 ⎥\n",
       "⎣-╲╱  2⋅a⋅c - 4⋅m  - 4⋅m  , ╲╱  2⋅a⋅c - 4⋅m  - 4⋅m  ⎦"
      ]
     },
     "execution_count": 10,
     "metadata": {},
     "output_type": "execute_result"
    }
   ],
   "source": [
    "solve(nice[1], b)"
   ]
  },
  {
   "cell_type": "code",
   "execution_count": 11,
   "metadata": {},
   "outputs": [
    {
     "data": {
      "text/latex": [
       "$$\\sqrt{2 a \\left(\\frac{d^{2}}{2} + 2 m\\right) - 4 m^{3} - 4 m^{2}}$$"
      ],
      "text/plain": [
       "     ______________________________\n",
       "    ╱     ⎛ 2      ⎞               \n",
       "   ╱      ⎜d       ⎟      3      2 \n",
       "  ╱   2⋅a⋅⎜── + 2⋅m⎟ - 4⋅m  - 4⋅m  \n",
       "╲╱        ⎝2       ⎠               "
      ]
     },
     "execution_count": 11,
     "metadata": {},
     "output_type": "execute_result"
    }
   ],
   "source": [
    "solve(nice[1], b)[1].subs(c, solve(nice[3], c)[0])"
   ]
  },
  {
   "cell_type": "code",
   "execution_count": 12,
   "metadata": {},
   "outputs": [
    {
     "data": {
      "text/latex": [
       "$$\\sqrt{- 4 m^{3} - 4 m^{2} + 2 \\left(\\frac{d^{2}}{2} + 2 m\\right) \\left(b d - \\frac{c^{2}}{2} + 3 m^{2} + m\\right)}$$"
      ],
      "text/plain": [
       "     ____________________________________________________\n",
       "    ╱                   ⎛ 2      ⎞ ⎛       2           ⎞ \n",
       "   ╱       3      2     ⎜d       ⎟ ⎜      c       2    ⎟ \n",
       "  ╱   - 4⋅m  - 4⋅m  + 2⋅⎜── + 2⋅m⎟⋅⎜b⋅d - ── + 3⋅m  + m⎟ \n",
       "╲╱                      ⎝2       ⎠ ⎝      2            ⎠ "
      ]
     },
     "execution_count": 12,
     "metadata": {},
     "output_type": "execute_result"
    }
   ],
   "source": [
    "solve(nice[1], b)[1].subs(c, solve(nice[3], c)[0]).subs(a, solve(nice[2], a)[0])"
   ]
  },
  {
   "cell_type": "code",
   "execution_count": 13,
   "metadata": {},
   "outputs": [
    {
     "data": {
      "text/latex": [
       "$$- 4 m^{3} - 4 m^{2} + 2 \\left(\\frac{d^{2}}{2} + 2 m\\right) \\left(b d - \\frac{c^{2}}{2} + 3 m^{2} + m\\right)$$"
      ],
      "text/plain": [
       "                  ⎛ 2      ⎞ ⎛       2           ⎞\n",
       "     3      2     ⎜d       ⎟ ⎜      c       2    ⎟\n",
       "- 4⋅m  - 4⋅m  + 2⋅⎜── + 2⋅m⎟⋅⎜b⋅d - ── + 3⋅m  + m⎟\n",
       "                  ⎝2       ⎠ ⎝      2            ⎠"
      ]
     },
     "execution_count": 13,
     "metadata": {},
     "output_type": "execute_result"
    }
   ],
   "source": [
    "solve(nice[1], b)[1].subs(c, solve(nice[3], c)[0]).subs(a, solve(nice[2], a)[0])**2"
   ]
  },
  {
   "cell_type": "code",
   "execution_count": 14,
   "metadata": {},
   "outputs": [
    {
     "data": {
      "text/latex": [
       "$$b d^{3} + 4 b d m - \\frac{c^{2} d^{2}}{2} - 2 c^{2} m + 3 d^{2} m^{2} + d^{2} m + 8 m^{3}$$"
      ],
      "text/plain": [
       "                  2  2                                 \n",
       "   3             c ⋅d       2        2  2    2        3\n",
       "b⋅d  + 4⋅b⋅d⋅m - ───── - 2⋅c ⋅m + 3⋅d ⋅m  + d ⋅m + 8⋅m \n",
       "                   2                                   "
      ]
     },
     "execution_count": 14,
     "metadata": {},
     "output_type": "execute_result"
    }
   ],
   "source": [
    "(solve(nice[1], b)[1].subs(c, solve(nice[3], c)[0]).subs(a, solve(nice[2], a)[0])**2).expand()"
   ]
  },
  {
   "cell_type": "code",
   "execution_count": 15,
   "metadata": {},
   "outputs": [
    {
     "data": {
      "text/latex": [
       "$$\\left [ \\gamma + m^{4} + 2 m^{3} + m^{2} + m = a^{2}, \\quad 4 m^{3} + 4 m^{2} = 2 a c - b^{2}, \\quad 6 m^{2} + 2 m = 2 a - 2 b d + c^{2}, \\quad 4 m = 2 c - d^{2}\\right ]$$"
      ],
      "text/plain": [
       "⎡     4      3    2        2     3      2            2     2                  \n",
       "⎣γ + m  + 2⋅m  + m  + m = a , 4⋅m  + 4⋅m  = 2⋅a⋅c - b , 6⋅m  + 2⋅m = 2⋅a - 2⋅b\n",
       "\n",
       "      2               2⎤\n",
       "⋅d + c , 4⋅m = 2⋅c - d ⎦"
      ]
     },
     "execution_count": 15,
     "metadata": {},
     "output_type": "execute_result"
    }
   ],
   "source": [
    "nice"
   ]
  },
  {
   "cell_type": "code",
   "execution_count": 16,
   "metadata": {},
   "outputs": [
    {
     "data": {
      "text/latex": [
       "$$\\left [ \\gamma + m^{4} + 2 m^{3} + m^{2} + m = a^{2}, \\quad 4 m^{3} + 4 m^{2} = 2 a \\left(\\frac{d^{2}}{2} + 2 m\\right) - b^{2}, \\quad 6 m^{2} + 2 m = 2 a - 2 b d + \\left(\\frac{d^{2}}{2} + 2 m\\right)^{2}\\right ]$$"
      ],
      "text/plain": [
       "⎡                                                                             \n",
       "⎢                                               ⎛ 2      ⎞                    \n",
       "⎢     4      3    2        2     3      2       ⎜d       ⎟    2     2         \n",
       "⎢γ + m  + 2⋅m  + m  + m = a , 4⋅m  + 4⋅m  = 2⋅a⋅⎜── + 2⋅m⎟ - b , 6⋅m  + 2⋅m = \n",
       "⎣                                               ⎝2       ⎠                    \n",
       "\n",
       "                        2⎤\n",
       "              ⎛ 2      ⎞ ⎥\n",
       "              ⎜d       ⎟ ⎥\n",
       "2⋅a - 2⋅b⋅d + ⎜── + 2⋅m⎟ ⎥\n",
       "              ⎝2       ⎠ ⎦"
      ]
     },
     "execution_count": 16,
     "metadata": {},
     "output_type": "execute_result"
    }
   ],
   "source": [
    "nicee = [e.subs(c, solve(nice[3], c)[0]) for e in nice[:-1]]\n",
    "nicee"
   ]
  },
  {
   "cell_type": "code",
   "execution_count": 36,
   "metadata": {},
   "outputs": [
    {
     "data": {
      "text/latex": [
       "$$\\gamma + m^{4} + 2 m^{3} + m^{2} + m = \\left(b d - \\frac{d^{4}}{8} - d^{2} m + m^{2} + m\\right)^{2}$$"
      ],
      "text/plain": [
       "                                                   2\n",
       "                         ⎛       4                ⎞ \n",
       "     4      3    2       ⎜      d     2      2    ⎟ \n",
       "γ + m  + 2⋅m  + m  + m = ⎜b⋅d - ── - d ⋅m + m  + m⎟ \n",
       "                         ⎝      8                 ⎠ "
      ]
     },
     "metadata": {},
     "output_type": "display_data"
    },
    {
     "data": {
      "text/latex": [
       "$$4 m^{3} + 4 m^{2} = - b^{2} + 2 \\left(\\frac{d^{2}}{2} + 2 m\\right) \\left(b d - \\frac{d^{4}}{8} - d^{2} m + m^{2} + m\\right)$$"
      ],
      "text/plain": [
       "                       ⎛ 2      ⎞ ⎛       4                ⎞\n",
       "   3      2      2     ⎜d       ⎟ ⎜      d     2      2    ⎟\n",
       "4⋅m  + 4⋅m  = - b  + 2⋅⎜── + 2⋅m⎟⋅⎜b⋅d - ── - d ⋅m + m  + m⎟\n",
       "                       ⎝2       ⎠ ⎝      8                 ⎠"
      ]
     },
     "metadata": {},
     "output_type": "display_data"
    }
   ],
   "source": [
    "niceee = [e.subs(a, solve(nicee[2], a)[0]) for e in nicee[:-1]]\n",
    "display(niceee[0])\n",
    "display(niceee[1])"
   ]
  },
  {
   "cell_type": "code",
   "execution_count": 18,
   "metadata": {},
   "outputs": [
    {
     "data": {
      "text/latex": [
       "$$\\gamma + m^{4} - 2 m^{3} - 3 m^{2} + m = b^{2} - 2 \\left(\\frac{d^{2}}{2} + 2 m\\right) \\left(b d - \\frac{d^{4}}{8} - d^{2} m + m^{2} + m\\right) + \\left(b d - \\frac{d^{4}}{8} - d^{2} m + m^{2} + m\\right)^{2}$$"
      ],
      "text/plain": [
       "                                                                              \n",
       "                                  ⎛ 2      ⎞ ⎛       4                ⎞   ⎛   \n",
       "     4      3      2        2     ⎜d       ⎟ ⎜      d     2      2    ⎟   ⎜   \n",
       "γ + m  - 2⋅m  - 3⋅m  + m = b  - 2⋅⎜── + 2⋅m⎟⋅⎜b⋅d - ── - d ⋅m + m  + m⎟ + ⎜b⋅d\n",
       "                                  ⎝2       ⎠ ⎝      8                 ⎠   ⎝   \n",
       "\n",
       "                      2\n",
       "    4                ⎞ \n",
       "   d     2      2    ⎟ \n",
       " - ── - d ⋅m + m  + m⎟ \n",
       "   8                 ⎠ "
      ]
     },
     "execution_count": 18,
     "metadata": {},
     "output_type": "execute_result"
    }
   ],
   "source": [
    "Eq(niceee[0].lhs - niceee[1].lhs, niceee[0].rhs - niceee[1].rhs)"
   ]
  },
  {
   "cell_type": "code",
   "execution_count": 19,
   "metadata": {},
   "outputs": [
    {
     "data": {
      "text/latex": [
       "$$- \\frac{d}{64} \\left(8 b - d^{3} - 8 d m\\right) \\left(8 b d - d^{4} - 8 d^{2} m + 16 m^{2} + 16 m\\right)$$"
      ],
      "text/plain": [
       "   ⎛       3        ⎞ ⎛         4      2         2       ⎞ \n",
       "-d⋅⎝8⋅b - d  - 8⋅d⋅m⎠⋅⎝8⋅b⋅d - d  - 8⋅d ⋅m + 16⋅m  + 16⋅m⎠ \n",
       "───────────────────────────────────────────────────────────\n",
       "                             64                            "
      ]
     },
     "execution_count": 19,
     "metadata": {},
     "output_type": "execute_result"
    }
   ],
   "source": [
    "((niceee[0].lhs-niceee[0].rhs).expand() - gamma - m).factor()"
   ]
  },
  {
   "cell_type": "code",
   "execution_count": 20,
   "metadata": {},
   "outputs": [
    {
     "data": {
      "text/latex": [
       "$$- b^{2} d^{2} + \\frac{b d^{5}}{4} + 2 b d^{3} m - 2 b d m^{2} - 2 b d m - \\frac{d^{8}}{64} - \\frac{d^{6} m}{4} - \\frac{3 d^{4}}{4} m^{2} + \\frac{d^{4} m}{4} + 2 d^{2} m^{3} + 2 d^{2} m^{2} + \\gamma + m$$"
      ],
      "text/plain": [
       "             5                                    8    6        4  2    4     \n",
       "   2  2   b⋅d         3            2             d    d ⋅m   3⋅d ⋅m    d ⋅m   \n",
       "- b ⋅d  + ──── + 2⋅b⋅d ⋅m - 2⋅b⋅d⋅m  - 2⋅b⋅d⋅m - ── - ──── - ─────── + ──── + \n",
       "           4                                     64    4        4       4     \n",
       "\n",
       "                         \n",
       "   2  3      2  2        \n",
       "2⋅d ⋅m  + 2⋅d ⋅m  + γ + m\n",
       "                         "
      ]
     },
     "execution_count": 20,
     "metadata": {},
     "output_type": "execute_result"
    }
   ],
   "source": [
    "hi = (niceee[0].lhs-niceee[0].rhs).expand()\n",
    "hi"
   ]
  },
  {
   "cell_type": "code",
   "execution_count": 21,
   "metadata": {},
   "outputs": [
    {
     "data": {
      "text/latex": [
       "$$b^{2} - b d^{3} - 4 b d m + \\frac{d^{6}}{8} + \\frac{3 m}{2} d^{4} + 3 d^{2} m^{2} - d^{2} m$$"
      ],
      "text/plain": [
       "                       6      4                   \n",
       " 2      3             d    3⋅d ⋅m      2  2    2  \n",
       "b  - b⋅d  - 4⋅b⋅d⋅m + ── + ────── + 3⋅d ⋅m  - d ⋅m\n",
       "                      8      2                    "
      ]
     },
     "execution_count": 21,
     "metadata": {},
     "output_type": "execute_result"
    }
   ],
   "source": [
    "lo = ((niceee[1].lhs-niceee[1].rhs).expand())\n",
    "lo"
   ]
  },
  {
   "cell_type": "code",
   "execution_count": 22,
   "metadata": {},
   "outputs": [
    {
     "data": {
      "text/latex": [
       "$$b^{2} m - b d^{3} m - 4 b d m^{2} + \\frac{d^{6} m}{8} + \\frac{3 d^{4}}{2} m^{2} + 3 d^{2} m^{3} - d^{2} m^{2}$$"
      ],
      "text/plain": [
       "                            6        4  2                  \n",
       " 2        3            2   d ⋅m   3⋅d ⋅m       2  3    2  2\n",
       "b ⋅m - b⋅d ⋅m - 4⋅b⋅d⋅m  + ──── + ─────── + 3⋅d ⋅m  - d ⋅m \n",
       "                            8        2                     "
      ]
     },
     "execution_count": 22,
     "metadata": {},
     "output_type": "execute_result"
    }
   ],
   "source": [
    "(m*lo).expand()"
   ]
  },
  {
   "cell_type": "code",
   "execution_count": 23,
   "metadata": {},
   "outputs": [
    {
     "data": {
      "text/latex": [
       "$$- b^{2} d^{2} + 2 b^{2} m + \\frac{b d^{5}}{4} - 10 b d m^{2} - 2 b d m - \\frac{d^{8}}{64} + \\frac{9 d^{4}}{4} m^{2} + \\frac{d^{4} m}{4} + 8 d^{2} m^{3} + \\gamma + m$$"
      ],
      "text/plain": [
       "                      5                          8      4  2    4             \n",
       "   2  2      2     b⋅d            2             d    9⋅d ⋅m    d ⋅m      2  3 \n",
       "- b ⋅d  + 2⋅b ⋅m + ──── - 10⋅b⋅d⋅m  - 2⋅b⋅d⋅m - ── + ─────── + ──── + 8⋅d ⋅m  \n",
       "                    4                           64      4       4             \n",
       "\n",
       "       \n",
       "       \n",
       "+ γ + m\n",
       "       "
      ]
     },
     "execution_count": 23,
     "metadata": {},
     "output_type": "execute_result"
    }
   ],
   "source": [
    "((hi + 2*m*lo).expand())"
   ]
  },
  {
   "cell_type": "code",
   "execution_count": 24,
   "metadata": {},
   "outputs": [
    {
     "data": {
      "text/latex": [
       "$$\\left [ \\gamma + m^{4} + 2 m^{3} + m^{2} + m = a^{2}, \\quad 4 m^{3} + 4 m^{2} = 2 a c - b^{2}, \\quad 6 m^{2} + 2 m = 2 a - 2 b d + c^{2}, \\quad 4 m = 2 c - d^{2}\\right ]$$"
      ],
      "text/plain": [
       "⎡     4      3    2        2     3      2            2     2                  \n",
       "⎣γ + m  + 2⋅m  + m  + m = a , 4⋅m  + 4⋅m  = 2⋅a⋅c - b , 6⋅m  + 2⋅m = 2⋅a - 2⋅b\n",
       "\n",
       "      2               2⎤\n",
       "⋅d + c , 4⋅m = 2⋅c - d ⎦"
      ]
     },
     "execution_count": 24,
     "metadata": {},
     "output_type": "execute_result"
    }
   ],
   "source": [
    "nice"
   ]
  },
  {
   "cell_type": "code",
   "execution_count": 25,
   "metadata": {},
   "outputs": [
    {
     "data": {
      "text/latex": [
       "$$\\sqrt{2 a c - 4 m^{3} - 4 m^{2}}$$"
      ],
      "text/plain": [
       "   _____________________\n",
       "  ╱            3      2 \n",
       "╲╱  2⋅a⋅c - 4⋅m  - 4⋅m  "
      ]
     },
     "execution_count": 25,
     "metadata": {},
     "output_type": "execute_result"
    }
   ],
   "source": [
    "solve(nice[1], b)[1]"
   ]
  },
  {
   "cell_type": "code",
   "execution_count": 26,
   "metadata": {},
   "outputs": [
    {
     "data": {
      "text/latex": [
       "$$\\left [ \\frac{1}{d} \\left(\\frac{d^{4}}{8} + d^{2} m - m^{2} - m - \\sqrt{\\gamma + m^{4} + 2 m^{3} + m^{2} + m}\\right), \\quad \\frac{1}{d} \\left(\\frac{d^{4}}{8} + d^{2} m - m^{2} - m + \\sqrt{\\gamma + m^{4} + 2 m^{3} + m^{2} + m}\\right)\\right ]$$"
      ],
      "text/plain": [
       "⎡ 4                      ________________________   4                      ___\n",
       "⎢d     2      2         ╱      4      3    2       d     2      2         ╱   \n",
       "⎢── + d ⋅m - m  - m - ╲╱  γ + m  + 2⋅m  + m  + m   ── + d ⋅m - m  - m + ╲╱  γ \n",
       "⎢8                                                 8                          \n",
       "⎢────────────────────────────────────────────────, ───────────────────────────\n",
       "⎣                       d                                                 d   \n",
       "\n",
       "_____________________⎤\n",
       "   4      3    2     ⎥\n",
       "+ m  + 2⋅m  + m  + m ⎥\n",
       "                     ⎥\n",
       "─────────────────────⎥\n",
       "                     ⎦"
      ]
     },
     "execution_count": 26,
     "metadata": {},
     "output_type": "execute_result"
    }
   ],
   "source": [
    "solve(hi, b)"
   ]
  },
  {
   "cell_type": "code",
   "execution_count": 27,
   "metadata": {},
   "outputs": [
    {
     "data": {
      "text/latex": [
       "$$\\frac{1}{d} \\left(a + \\frac{d^{4}}{8} + d^{2} m - m^{2} - m\\right)$$"
      ],
      "text/plain": [
       "     4                \n",
       "    d     2      2    \n",
       "a + ── + d ⋅m - m  - m\n",
       "    8                 \n",
       "──────────────────────\n",
       "          d           "
      ]
     },
     "execution_count": 27,
     "metadata": {},
     "output_type": "execute_result"
    }
   ],
   "source": [
    "b_ = solve(hi, b)[1].subs(sqrt(nice[0].lhs), a)\n",
    "b_"
   ]
  },
  {
   "cell_type": "code",
   "execution_count": 37,
   "metadata": {},
   "outputs": [
    {
     "data": {
      "text/latex": [
       "$$a^{2} - \\frac{3 a}{4} d^{4} - 2 a d^{2} m - 2 a m^{2} - 2 a m + \\frac{d^{8}}{64} + \\frac{d^{6} m}{4} + \\frac{3 d^{4}}{4} m^{2} - \\frac{d^{4} m}{4} + 2 d^{2} m^{3} + 2 d^{2} m^{2} + m^{4} + 2 m^{3} + m^{2}$$"
      ],
      "text/plain": [
       "          4                                8    6        4  2    4            \n",
       " 2   3⋅a⋅d         2          2           d    d ⋅m   3⋅d ⋅m    d ⋅m      2  3\n",
       "a  - ────── - 2⋅a⋅d ⋅m - 2⋅a⋅m  - 2⋅a⋅m + ── + ──── + ─────── - ──── + 2⋅d ⋅m \n",
       "       4                                  64    4        4       4            \n",
       "\n",
       "                           \n",
       "      2  2    4      3    2\n",
       " + 2⋅d ⋅m  + m  + 2⋅m  + m \n",
       "                           "
      ]
     },
     "execution_count": 37,
     "metadata": {},
     "output_type": "execute_result"
    }
   ],
   "source": [
    "(lo.subs(b, b_).expand()*d**2*1).expand()"
   ]
  },
  {
   "cell_type": "code",
   "execution_count": 35,
   "metadata": {},
   "outputs": [
    {
     "data": {
      "text/latex": [
       "$$\\left [ \\frac{1}{64}, \\quad \\frac{m}{4}, \\quad - \\frac{3 a}{4} + \\frac{3 m^{2}}{4} - \\frac{m}{4}, \\quad - 2 a m + 2 m^{3} + 2 m^{2}, \\quad a^{2} - 2 a m^{2} - 2 a m + m^{4} + 2 m^{3} + m^{2}\\right ]$$"
      ],
      "text/plain": [
       "⎡                    2                                                        \n",
       "⎢      m    3⋅a   3⋅m    m              3      2   2        2            4    \n",
       "⎢1/64, ─, - ─── + ──── - ─, -2⋅a⋅m + 2⋅m  + 2⋅m , a  - 2⋅a⋅m  - 2⋅a⋅m + m  + 2\n",
       "⎣      4     4     4     4                                                    \n",
       "\n",
       "        ⎤\n",
       "  3    2⎥\n",
       "⋅m  + m ⎥\n",
       "        ⎦"
      ]
     },
     "execution_count": 35,
     "metadata": {},
     "output_type": "execute_result"
    }
   ],
   "source": [
    "[(lo.subs(b, b_).expand()*d**2*1).expand().coeff(d, n=i) for i in [8 ,6, 4, 2, 0]]"
   ]
  },
  {
   "cell_type": "code",
   "execution_count": 39,
   "metadata": {},
   "outputs": [
    {
     "data": {
      "text/latex": [
       "$$\\frac{53}{4}$$"
      ],
      "text/plain": [
       "53/4"
      ]
     },
     "execution_count": 39,
     "metadata": {},
     "output_type": "execute_result"
    }
   ],
   "source": [
    "qq.subs(d, 1).subs(m, -Rational(15, 8))"
   ]
  },
  {
   "cell_type": "code",
   "execution_count": null,
   "metadata": {},
   "outputs": [],
   "source": []
  }
 ],
 "metadata": {
  "kernelspec": {
   "display_name": "Python 3",
   "language": "python",
   "name": "python3"
  },
  "language_info": {
   "codemirror_mode": {
    "name": "ipython",
    "version": 3
   },
   "file_extension": ".py",
   "mimetype": "text/x-python",
   "name": "python",
   "nbconvert_exporter": "python",
   "pygments_lexer": "ipython3",
   "version": "3.6.2"
  }
 },
 "nbformat": 4,
 "nbformat_minor": 2
}

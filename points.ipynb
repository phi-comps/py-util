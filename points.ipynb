{
 "cells": [
  {
   "cell_type": "code",
   "execution_count": 1,
   "metadata": {
    "collapsed": false
   },
   "outputs": [
    {
     "data": {
      "text/latex": [
       "\\begin{align}\n",
       "x_0 &\\mapsto \\alpha + x_{1} \\\\\n",
       "y_0 &\\mapsto y_{1} \\\\\n",
       "0 &= c_{0} + c_{1} \\left(\\alpha + x_{1}\\right) + c_{2} \\left(\\alpha + x_{1}\\right)^{2} + c_{3} \\left(\\alpha + x_{1}\\right)^{3} + c_{4} \\left(\\alpha + x_{1}\\right)^{4} - y_{1}^{2}\n",
       "\\end{align}"
      ],
      "text/plain": [
       "<IPython.core.display.Latex object>"
      ]
     },
     "metadata": {},
     "output_type": "display_data"
    },
    {
     "data": {
      "text/latex": [
       "\\begin{align}\n",
       "x_1 &\\mapsto \\frac{1}{x_{2}} \\\\\n",
       "y_1 &\\mapsto \\frac{y_{2}}{x_{2}^{2}} \\\\\n",
       "0 &= c_{4} + x_{2}^{4} \\left(\\alpha^{4} c_{4} + \\alpha^{3} c_{3} + \\alpha^{2} c_{2} + \\alpha c_{1} + c_{0}\\right) + x_{2}^{3} \\left(4 \\alpha^{3} c_{4} + 3 \\alpha^{2} c_{3} + 2 \\alpha c_{2} + c_{1}\\right) + x_{2}^{2} \\left(6 \\alpha^{2} c_{4} + 3 \\alpha c_{3} + c_{2}\\right) + x_{2} \\left(4 \\alpha c_{4} + c_{3}\\right) - y_{2}^{2}\n",
       "\\end{align}"
      ],
      "text/plain": [
       "<IPython.core.display.Latex object>"
      ]
     },
     "metadata": {},
     "output_type": "display_data"
    },
    {
     "data": {
      "text/latex": [
       "\\begin{align}\n",
       "x_2 &\\mapsto x_{3} \\\\\n",
       "y_2 &\\mapsto y_{3} \\sqrt{\\alpha^{4} c_{4} + \\alpha^{3} c_{3} + \\alpha^{2} c_{2} + \\alpha c_{1} + c_{0}} \\\\\n",
       "0 &= \\frac{c_{4}}{\\alpha^{4} c_{4} + \\alpha^{3} c_{3} + \\alpha^{2} c_{2} + \\alpha c_{1} + c_{0}} + x_{3}^{4} + \\frac{x_{3}^{3} \\left(4 \\alpha^{3} c_{4} + 3 \\alpha^{2} c_{3} + 2 \\alpha c_{2} + c_{1}\\right)}{\\alpha^{4} c_{4} + \\alpha^{3} c_{3} + \\alpha^{2} c_{2} + \\alpha c_{1} + c_{0}} + \\frac{x_{3}^{2} \\left(6 \\alpha^{2} c_{4} + 3 \\alpha c_{3} + c_{2}\\right)}{\\alpha^{4} c_{4} + \\alpha^{3} c_{3} + \\alpha^{2} c_{2} + \\alpha c_{1} + c_{0}} + \\frac{x_{3} \\left(4 \\alpha c_{4} + c_{3}\\right)}{\\alpha^{4} c_{4} + \\alpha^{3} c_{3} + \\alpha^{2} c_{2} + \\alpha c_{1} + c_{0}} - y_{3}^{2}\n",
       "\\end{align}"
      ],
      "text/plain": [
       "<IPython.core.display.Latex object>"
      ]
     },
     "metadata": {},
     "output_type": "display_data"
    },
    {
     "data": {
      "image/png": "[encoded data removed]",
      "text/latex": [
       "$$f_{0} = \\frac{c_{4}}{\\alpha^{4} c_{4} + \\alpha^{3} c_{3} + \\alpha^{2} c_{2} + \\alpha c_{1} + c_{0}}$$"
      ],
      "text/plain": [
       "                     c₄               \n",
       "f₀ = ─────────────────────────────────\n",
       "      4       3       2               \n",
       "     α ⋅c₄ + α ⋅c₃ + α ⋅c₂ + α⋅c₁ + c₀"
      ]
     },
     "metadata": {},
     "output_type": "display_data"
    },
    {
     "data": {
      "image/png": "[encoded data removed]",
      "text/latex": [
       "$$f_{1} = \\frac{4 \\alpha c_{4} + c_{3}}{\\alpha^{4} c_{4} + \\alpha^{3} c_{3} + \\alpha^{2} c_{2} + \\alpha c_{1} + c_{0}}$$"
      ],
      "text/plain": [
       "                4⋅α⋅c₄ + c₃           \n",
       "f₁ = ─────────────────────────────────\n",
       "      4       3       2               \n",
       "     α ⋅c₄ + α ⋅c₃ + α ⋅c₂ + α⋅c₁ + c₀"
      ]
     },
     "metadata": {},
     "output_type": "display_data"
    },
    {
     "data": {
      "image/png": "[encoded data removed]",
      "text/latex": [
       "$$f_{2} = \\frac{6 \\alpha^{2} c_{4} + 3 \\alpha c_{3} + c_{2}}{\\alpha^{4} c_{4} + \\alpha^{3} c_{3} + \\alpha^{2} c_{2} + \\alpha c_{1} + c_{0}}$$"
      ],
      "text/plain": [
       "              2                       \n",
       "           6⋅α ⋅c₄ + 3⋅α⋅c₃ + c₂      \n",
       "f₂ = ─────────────────────────────────\n",
       "      4       3       2               \n",
       "     α ⋅c₄ + α ⋅c₃ + α ⋅c₂ + α⋅c₁ + c₀"
      ]
     },
     "metadata": {},
     "output_type": "display_data"
    },
    {
     "data": {
      "image/png": "[encoded data removed]",
      "text/latex": [
       "$$f_{3} = \\frac{4 \\alpha^{3} c_{4} + 3 \\alpha^{2} c_{3} + 2 \\alpha c_{2} + c_{1}}{\\alpha^{4} c_{4} + \\alpha^{3} c_{3} + \\alpha^{2} c_{2} + \\alpha c_{1} + c_{0}}$$"
      ],
      "text/plain": [
       "         3         2                  \n",
       "      4⋅α ⋅c₄ + 3⋅α ⋅c₃ + 2⋅α⋅c₂ + c₁ \n",
       "f₃ = ─────────────────────────────────\n",
       "      4       3       2               \n",
       "     α ⋅c₄ + α ⋅c₃ + α ⋅c₂ + α⋅c₁ + c₀"
      ]
     },
     "metadata": {},
     "output_type": "display_data"
    },
    {
     "data": {
      "image/png": "[encoded data removed]",
      "text/latex": [
       "$$y_{3}^{2} = f_{0} + f_{1} x_{3} + f_{2} x_{3}^{2} + f_{3} x_{3}^{3} + x_{3}^{4}$$"
      ],
      "text/plain": [
       "  2                     2        3     4\n",
       "y₃  = f₀ + f₁⋅x₃ + f₂⋅x₃  + f₃⋅x₃  + x₃ "
      ]
     },
     "metadata": {},
     "output_type": "display_data"
    },
    {
     "data": {
      "image/png": "[encoded data removed]",
      "text/latex": [
       "$$G = g_{0} + g_{1} x_{3} + x_{3}^{2}$$"
      ],
      "text/plain": [
       "                   2\n",
       "G = g₀ + g₁⋅x₃ + x₃ "
      ]
     },
     "metadata": {},
     "output_type": "display_data"
    },
    {
     "data": {
      "image/png": "[encoded data removed]",
      "text/latex": [
       "$$H = h_{0} + h_{1} x_{3}$$"
      ],
      "text/plain": [
       "H = h₀ + h₁⋅x₃"
      ]
     },
     "metadata": {},
     "output_type": "display_data"
    },
    {
     "data": {
      "image/png": "[encoded data removed]",
      "text/latex": [
       "$$G^{2} + H = f_{0} + f_{1} x_{3} + f_{2} x_{3}^{2} + f_{3} x_{3}^{3} + x_{3}^{4}$$"
      ],
      "text/plain": [
       " 2                         2        3     4\n",
       "G  + H = f₀ + f₁⋅x₃ + f₂⋅x₃  + f₃⋅x₃  + x₃ "
      ]
     },
     "metadata": {},
     "output_type": "display_data"
    },
    {
     "data": {
      "image/png": "[encoded data removed]",
      "text/latex": [
       "$$h_{0} + h_{1} x_{3} + \\left(g_{0} + g_{1} x_{3} + x_{3}^{2}\\right)^{2} = f_{0} + f_{1} x_{3} + f_{2} x_{3}^{2} + f_{3} x_{3}^{3} + x_{3}^{4}$$"
      ],
      "text/plain": [
       "                               2                                     \n",
       "             ⎛               2⎞                      2        3     4\n",
       "h₀ + h₁⋅x₃ + ⎝g₀ + g₁⋅x₃ + x₃ ⎠  = f₀ + f₁⋅x₃ + f₂⋅x₃  + f₃⋅x₃  + x₃ "
      ]
     },
     "metadata": {},
     "output_type": "display_data"
    },
    {
     "data": {
      "image/png": "[encoded data removed]",
      "text/latex": [
       "$$g_{0} = \\frac{f_{2}}{2} - \\frac{f_{3}^{2}}{8}$$"
      ],
      "text/plain": [
       "            2\n",
       "     f₂   f₃ \n",
       "g₀ = ── - ───\n",
       "     2     8 "
      ]
     },
     "metadata": {},
     "output_type": "display_data"
    },
    {
     "data": {
      "image/png": "[encoded data removed]",
      "text/latex": [
       "$$g_{1} = \\frac{f_{3}}{2}$$"
      ],
      "text/plain": [
       "     f₃\n",
       "g₁ = ──\n",
       "     2 "
      ]
     },
     "metadata": {},
     "output_type": "display_data"
    },
    {
     "data": {
      "image/png": "[encoded data removed]",
      "text/latex": [
       "$$h_{0} = f_{0} - \\frac{1}{64} \\left(4 f_{2} - f_{3}^{2}\\right)^{2}$$"
      ],
      "text/plain": [
       "                      2\n",
       "          ⎛         2⎞ \n",
       "          ⎝4⋅f₂ - f₃ ⎠ \n",
       "h₀ = f₀ - ─────────────\n",
       "                64     "
      ]
     },
     "metadata": {},
     "output_type": "display_data"
    },
    {
     "data": {
      "image/png": "[encoded data removed]",
      "text/latex": [
       "$$h_{1} = f_{1} - \\frac{f_{2} f_{3}}{2} + \\frac{f_{3}^{3}}{8}$$"
      ],
      "text/plain": [
       "                    3\n",
       "          f₂⋅f₃   f₃ \n",
       "h₁ = f₁ - ───── + ───\n",
       "            2      8 "
      ]
     },
     "metadata": {},
     "output_type": "display_data"
    },
    {
     "data": {
      "text/latex": [
       "\\begin{align}\n",
       "x_3 &\\mapsto \\frac{y_{4}}{x_{4}} \\\\\n",
       "y_3 &\\mapsto - g_{0} - \\frac{g_{1} y_{4}}{x_{4}} + x_{4} - \\frac{y_{4}^{2}}{x_{4}^{2}} \\\\\n",
       "0 &= 2 g_{0} x_{4}^{2} + 2 g_{1} x_{4} y_{4} + h_{0} x_{4} + h_{1} y_{4} - x_{4}^{3} + 2 y_{4}^{2}\n",
       "\\end{align}"
      ],
      "text/plain": [
       "<IPython.core.display.Latex object>"
      ]
     },
     "metadata": {},
     "output_type": "display_data"
    },
    {
     "data": {
      "text/latex": [
       "\\begin{align}\n",
       "x_4 &\\mapsto \\frac{x_{5}}{2} \\\\\n",
       "y_4 &\\mapsto \\frac{y_{5}}{4} \\\\\n",
       "0 &= 4 g_{0} x_{5}^{2} + 2 g_{1} x_{5} y_{5} + 4 h_{0} x_{5} + 2 h_{1} y_{5} - x_{5}^{3} + y_{5}^{2}\n",
       "\\end{align}"
      ],
      "text/plain": [
       "<IPython.core.display.Latex object>"
      ]
     },
     "metadata": {},
     "output_type": "display_data"
    },
    {
     "data": {
      "text/plain": [
       "sympy.core.relational.Equality"
      ]
     },
     "metadata": {},
     "output_type": "display_data"
    },
    {
     "data": {
      "text/latex": [
       "\\begin{align}\n",
       "x_0 &\\mapsto \\alpha + \\frac{2 x}{y} \\\\\n",
       "y_0 &\\mapsto \\frac{4 x^{2}}{y^{2}} \\left(\\frac{x}{2} - \\frac{6 \\alpha^{2} c_{4} + 3 \\alpha c_{3} + c_{2}}{2 \\alpha^{4} c_{4} + 2 \\alpha^{3} c_{3} + 2 \\alpha^{2} c_{2} + 2 \\alpha c_{1} + 2 c_{0}} + \\frac{\\left(4 \\alpha^{3} c_{4} + 3 \\alpha^{2} c_{3} + 2 \\alpha c_{2} + c_{1}\\right)^{2}}{8 \\left(\\alpha^{4} c_{4} + \\alpha^{3} c_{3} + \\alpha^{2} c_{2} + \\alpha c_{1} + c_{0}\\right)^{2}} - \\frac{y \\left(4 \\alpha^{3} c_{4} + 3 \\alpha^{2} c_{3} + 2 \\alpha c_{2} + c_{1}\\right)}{4 x \\left(\\alpha^{4} c_{4} + \\alpha^{3} c_{3} + \\alpha^{2} c_{2} + \\alpha c_{1} + c_{0}\\right)} - \\frac{y^{2}}{4 x^{2}}\\right) \\sqrt{\\alpha^{4} c_{4} + \\alpha^{3} c_{3} + \\alpha^{2} c_{2} + \\alpha c_{1} + c_{0}} \\\\\n",
       "0 &= - x^{3} + 4 x^{2} \\left(\\frac{6 \\alpha^{2} c_{4} + 3 \\alpha c_{3} + c_{2}}{2 \\alpha^{4} c_{4} + 2 \\alpha^{3} c_{3} + 2 \\alpha^{2} c_{2} + 2 \\alpha c_{1} + 2 c_{0}} - \\frac{\\left(4 \\alpha^{3} c_{4} + 3 \\alpha^{2} c_{3} + 2 \\alpha c_{2} + c_{1}\\right)^{2}}{8 \\left(\\alpha^{4} c_{4} + \\alpha^{3} c_{3} + \\alpha^{2} c_{2} + \\alpha c_{1} + c_{0}\\right)^{2}}\\right) + \\frac{x y \\left(4 \\alpha^{3} c_{4} + 3 \\alpha^{2} c_{3} + 2 \\alpha c_{2} + c_{1}\\right)}{\\alpha^{4} c_{4} + \\alpha^{3} c_{3} + \\alpha^{2} c_{2} + \\alpha c_{1} + c_{0}} + 4 x \\left(\\frac{c_{4}}{\\alpha^{4} c_{4} + \\alpha^{3} c_{3} + \\alpha^{2} c_{2} + \\alpha c_{1} + c_{0}} - \\frac{1}{64} \\left(\\frac{24 \\alpha^{2} c_{4} + 12 \\alpha c_{3} + 4 c_{2}}{\\alpha^{4} c_{4} + \\alpha^{3} c_{3} + \\alpha^{2} c_{2} + \\alpha c_{1} + c_{0}} - \\frac{\\left(4 \\alpha^{3} c_{4} + 3 \\alpha^{2} c_{3} + 2 \\alpha c_{2} + c_{1}\\right)^{2}}{\\left(\\alpha^{4} c_{4} + \\alpha^{3} c_{3} + \\alpha^{2} c_{2} + \\alpha c_{1} + c_{0}\\right)^{2}}\\right)^{2}\\right) + y^{2} + 2 y \\left(\\frac{4 \\alpha c_{4} + c_{3}}{\\alpha^{4} c_{4} + \\alpha^{3} c_{3} + \\alpha^{2} c_{2} + \\alpha c_{1} + c_{0}} - \\frac{\\left(6 \\alpha^{2} c_{4} + 3 \\alpha c_{3} + c_{2}\\right) \\left(4 \\alpha^{3} c_{4} + 3 \\alpha^{2} c_{3} + 2 \\alpha c_{2} + c_{1}\\right)}{2 \\left(\\alpha^{4} c_{4} + \\alpha^{3} c_{3} + \\alpha^{2} c_{2} + \\alpha c_{1} + c_{0}\\right)^{2}} + \\frac{\\left(4 \\alpha^{3} c_{4} + 3 \\alpha^{2} c_{3} + 2 \\alpha c_{2} + c_{1}\\right)^{3}}{8 \\left(\\alpha^{4} c_{4} + \\alpha^{3} c_{3} + \\alpha^{2} c_{2} + \\alpha c_{1} + c_{0}\\right)^{3}}\\right)\n",
       "\\end{align}"
      ],
      "text/plain": [
       "<IPython.core.display.Latex object>"
      ]
     },
     "metadata": {},
     "output_type": "display_data"
    },
    {
     "data": {
      "image/png": "[encoded data removed]",
      "text/latex": [
       "$$a_{1} = - \\frac{4 \\alpha^{3} c_{4} + 3 \\alpha^{2} c_{3} + 2 \\alpha c_{2} + c_{1}}{\\alpha^{4} c_{4} + \\alpha^{3} c_{3} + \\alpha^{2} c_{2} + \\alpha c_{1} + c_{0}}$$"
      ],
      "text/plain": [
       "      ⎛   3         2                 ⎞ \n",
       "     -⎝4⋅α ⋅c₄ + 3⋅α ⋅c₃ + 2⋅α⋅c₂ + c₁⎠ \n",
       "a₁ = ───────────────────────────────────\n",
       "       4       3       2                \n",
       "      α ⋅c₄ + α ⋅c₃ + α ⋅c₂ + α⋅c₁ + c₀ "
      ]
     },
     "metadata": {},
     "output_type": "display_data"
    },
    {
     "data": {
      "image/png": "[encoded data removed]",
      "text/latex": [
       "$$a_{2} = \\frac{12 \\alpha^{2} c_{4} + 6 \\alpha c_{3} + 2 c_{2}}{\\alpha^{4} c_{4} + \\alpha^{3} c_{3} + \\alpha^{2} c_{2} + \\alpha c_{1} + c_{0}} - \\frac{\\left(4 \\alpha^{3} c_{4} + 3 \\alpha^{2} c_{3} + 2 \\alpha c_{2} + c_{1}\\right)^{2}}{2 \\left(\\alpha^{4} c_{4} + \\alpha^{3} c_{3} + \\alpha^{2} c_{2} + \\alpha c_{1} + c_{0}\\right)^{2}}$$"
      ],
      "text/plain": [
       "                                                                            2 \n",
       "           ⎛   2                 ⎞         ⎛   3         2                 ⎞  \n",
       "         2⋅⎝6⋅α ⋅c₄ + 3⋅α⋅c₃ + c₂⎠         ⎝4⋅α ⋅c₄ + 3⋅α ⋅c₃ + 2⋅α⋅c₂ + c₁⎠  \n",
       "a₂ = ───────────────────────────────── - ─────────────────────────────────────\n",
       "      4       3       2                                                       \n",
       "     α ⋅c₄ + α ⋅c₃ + α ⋅c₂ + α⋅c₁ + c₀     ⎛ 4       3       2               ⎞\n",
       "                                         2⋅⎝α ⋅c₄ + α ⋅c₃ + α ⋅c₂ + α⋅c₁ + c₀⎠\n",
       "\n",
       " \n",
       " \n",
       " \n",
       "─\n",
       "2\n",
       " \n",
       " "
      ]
     },
     "metadata": {},
     "output_type": "display_data"
    },
    {
     "data": {
      "image/png": "[encoded data removed]",
      "text/latex": [
       "$$a_{3} = - \\frac{8 \\alpha c_{4} + 2 c_{3}}{\\alpha^{4} c_{4} + \\alpha^{3} c_{3} + \\alpha^{2} c_{2} + \\alpha c_{1} + c_{0}} + \\frac{\\left(6 \\alpha^{2} c_{4} + 3 \\alpha c_{3} + c_{2}\\right) \\left(4 \\alpha^{3} c_{4} + 3 \\alpha^{2} c_{3} + 2 \\alpha c_{2} + c_{1}\\right)}{\\left(\\alpha^{4} c_{4} + \\alpha^{3} c_{3} + \\alpha^{2} c_{2} + \\alpha c_{1} + c_{0}\\right)^{2}} - \\frac{\\left(4 \\alpha^{3} c_{4} + 3 \\alpha^{2} c_{3} + 2 \\alpha c_{2} + c_{1}\\right)^{3}}{4 \\left(\\alpha^{4} c_{4} + \\alpha^{3} c_{3} + \\alpha^{2} c_{2} + \\alpha c_{1} + c_{0}\\right)^{3}}$$"
      ],
      "text/plain": [
       "                                                                              \n",
       "                                           ⎛   2                 ⎞ ⎛   3      \n",
       "                2⋅(4⋅α⋅c₄ + c₃)            ⎝6⋅α ⋅c₄ + 3⋅α⋅c₃ + c₂⎠⋅⎝4⋅α ⋅c₄ + \n",
       "a₃ = - ───────────────────────────────── + ───────────────────────────────────\n",
       "        4       3       2                                                     \n",
       "       α ⋅c₄ + α ⋅c₃ + α ⋅c₂ + α⋅c₁ + c₀              ⎛ 4       3       2     \n",
       "                                                      ⎝α ⋅c₄ + α ⋅c₃ + α ⋅c₂ +\n",
       "\n",
       "                                                            3  \n",
       "   2                 ⎞     ⎛   3         2                 ⎞   \n",
       "3⋅α ⋅c₃ + 2⋅α⋅c₂ + c₁⎠     ⎝4⋅α ⋅c₄ + 3⋅α ⋅c₃ + 2⋅α⋅c₂ + c₁⎠   \n",
       "────────────────────── - ──────────────────────────────────────\n",
       "           2                                                  3\n",
       "          ⎞                ⎛ 4       3       2               ⎞ \n",
       " α⋅c₁ + c₀⎠              4⋅⎝α ⋅c₄ + α ⋅c₃ + α ⋅c₂ + α⋅c₁ + c₀⎠ "
      ]
     },
     "metadata": {},
     "output_type": "display_data"
    },
    {
     "data": {
      "image/png": "[encoded data removed]",
      "text/latex": [
       "$$a_{4} = \\frac{4 c_{4}}{\\alpha^{4} c_{4} + \\alpha^{3} c_{3} + \\alpha^{2} c_{2} + \\alpha c_{1} + c_{0}} - \\frac{1}{16} \\left(\\frac{24 \\alpha^{2} c_{4} + 12 \\alpha c_{3} + 4 c_{2}}{\\alpha^{4} c_{4} + \\alpha^{3} c_{3} + \\alpha^{2} c_{2} + \\alpha c_{1} + c_{0}} - \\frac{\\left(4 \\alpha^{3} c_{4} + 3 \\alpha^{2} c_{3} + 2 \\alpha c_{2} + c_{1}\\right)^{2}}{\\left(\\alpha^{4} c_{4} + \\alpha^{3} c_{3} + \\alpha^{2} c_{2} + \\alpha c_{1} + c_{0}\\right)^{2}}\\right)^{2}$$"
      ],
      "text/plain": [
       "                                                                              \n",
       "                                         ⎛                                    \n",
       "                                         ⎜      ⎛   2                 ⎞       \n",
       "                                         ⎜    4⋅⎝6⋅α ⋅c₄ + 3⋅α⋅c₃ + c₂⎠       \n",
       "                                         ⎜───────────────────────────────── - \n",
       "                                         ⎜ 4       3       2                  \n",
       "                                         ⎜α ⋅c₄ + α ⋅c₃ + α ⋅c₂ + α⋅c₁ + c₀   \n",
       "                    4⋅c₄                 ⎝                                    \n",
       "a₄ = ───────────────────────────────── - ─────────────────────────────────────\n",
       "      4       3       2                                                       \n",
       "     α ⋅c₄ + α ⋅c₃ + α ⋅c₂ + α⋅c₁ + c₀                                        \n",
       "\n",
       "                                     2\n",
       "                                  2 ⎞ \n",
       " ⎛   3         2                 ⎞  ⎟ \n",
       " ⎝4⋅α ⋅c₄ + 3⋅α ⋅c₃ + 2⋅α⋅c₂ + c₁⎠  ⎟ \n",
       "────────────────────────────────────⎟ \n",
       "                                   2⎟ \n",
       "⎛ 4       3       2               ⎞ ⎟ \n",
       "⎝α ⋅c₄ + α ⋅c₃ + α ⋅c₂ + α⋅c₁ + c₀⎠ ⎠ \n",
       "──────────────────────────────────────\n",
       "16                                    \n",
       "                                      "
      ]
     },
     "metadata": {},
     "output_type": "display_data"
    },
    {
     "data": {
      "image/png": "[encoded data removed]",
      "text/latex": [
       "$$a_{6} = 0$$"
      ],
      "text/plain": [
       "a₆ = 0"
      ]
     },
     "metadata": {},
     "output_type": "display_data"
    },
    {
     "data": {
      "text/latex": [
       "\\begin{align}\n",
       "x_0 &\\mapsto \\frac{2 x}{y} + 1 \\\\\n",
       "y_0 &\\mapsto \\frac{12 x^{2}}{y^{2}} \\left(\\frac{x}{2} + \\frac{59}{81} + \\frac{5 y}{9 x} - \\frac{y^{2}}{4 x^{2}}\\right) \\\\\n",
       "0 &= - x^{3} - \\frac{236 x^{2}}{81} - \\frac{20 x}{9} y - \\frac{8092 x}{6561} + y^{2} - \\frac{1064 y}{729}\n",
       "\\end{align}"
      ],
      "text/plain": [
       "<IPython.core.display.Latex object>"
      ]
     },
     "metadata": {},
     "output_type": "display_data"
    },
    {
     "data": {
      "image/png": "[encoded data removed]",
      "text/latex": [
       "$$a_{1} = \\frac{20}{9}$$"
      ],
      "text/plain": [
       "a₁ = 20/9"
      ]
     },
     "metadata": {},
     "output_type": "display_data"
    },
    {
     "data": {
      "image/png": "[encoded data removed]",
      "text/latex": [
       "$$a_{2} = - \\frac{236}{81}$$"
      ],
      "text/plain": [
       "     -236 \n",
       "a₂ = ─────\n",
       "       81 "
      ]
     },
     "metadata": {},
     "output_type": "display_data"
    },
    {
     "data": {
      "image/png": "[encoded data removed]",
      "text/latex": [
       "$$a_{3} = \\frac{1064}{729}$$"
      ],
      "text/plain": [
       "     1064\n",
       "a₃ = ────\n",
       "     729 "
      ]
     },
     "metadata": {},
     "output_type": "display_data"
    },
    {
     "data": {
      "image/png": "[encoded data removed]",
      "text/latex": [
       "$$a_{4} = - \\frac{8092}{6561}$$"
      ],
      "text/plain": [
       "     -8092 \n",
       "a₄ = ──────\n",
       "      6561 "
      ]
     },
     "metadata": {},
     "output_type": "display_data"
    },
    {
     "data": {
      "image/png": "[encoded data removed]",
      "text/latex": [
       "$$a_{6} = 0$$"
      ],
      "text/plain": [
       "a₆ = 0"
      ]
     },
     "metadata": {},
     "output_type": "display_data"
    }
   ],
   "source": [
    "import sympy as sy\n",
    "from sympy import Symbol, Eq, Rational, sqrt, solve\n",
    "from sympy.abc import a, b, c, d, m, x, y, alpha, beta, gamma\n",
    "\n",
    "from IPython.display import display, Latex\n",
    "\n",
    "from util import *\n",
    "from transform import *\n",
    "from ec import EllipticCurve, Point\n",
    "\n",
    "__all__ = [\n",
    "    'gammas_at',\n",
    "    'gammas',\n",
    "    'gamma_nice'\n",
    "    'gamma',\n",
    "    'beta',\n",
    "    'beta_',\n",
    "    'qq',\n",
    "    'factor',\n",
    "    'check_newly',\n",
    "    ]\n",
    "\n",
    "for subscript in range(5):\n",
    "    for var in 'abcdefgh':\n",
    "        name = '{}{}'.format(var, subscript)\n",
    "        globals()[name] = Symbol(name)\n",
    "\n",
    "def show(eqs):\n",
    "    display(Latex('\\n'.join(\n",
    "        [r'\\begin{align}']\n",
    "        + list(r'{} &= {} \\\\'.format(sy.latex(eq.lhs), sy.latex(eq.rhs)) for eq in eqs)\n",
    "        + [r'\\end{align}']\n",
    "    )))"
   ]
  },
  {
   "cell_type": "code",
   "execution_count": 2,
   "metadata": {
    "collapsed": false
   },
   "outputs": [
    {
     "data": {
      "text/latex": [
       "\\begin{align}\n",
       "\\gamma + m^{4} + 2 m^{3} + m^{2} + m &= a_{1} a_{2} \\\\\n",
       "0 &= a_{1} b_{2} + a_{2} b_{1} \\\\\n",
       "4 m^{3} + 4 m^{2} &= a_{1} c_{2} + a_{2} c_{1} + b_{1} b_{2} \\\\\n",
       "0 &= a_{1} d_{2} + a_{2} d_{1} + b_{1} c_{2} + b_{2} c_{1} \\\\\n",
       "6 m^{2} + 2 m &= a_{1} + a_{2} + b_{1} d_{2} + b_{2} d_{1} + c_{1} c_{2} \\\\\n",
       "0 &= b_{1} + b_{2} + c_{1} d_{2} + c_{2} d_{1} \\\\\n",
       "4 m &= c_{1} + c_{2} + d_{1} d_{2} \\\\\n",
       "0 &= d_{1} + d_{2} \\\\\n",
       "\\end{align}"
      ],
      "text/plain": [
       "<IPython.core.display.Latex object>"
      ]
     },
     "metadata": {},
     "output_type": "display_data"
    }
   ],
   "source": [
    "p1_ = mk_deg(4, 1, xg)\n",
    "p2_ = mk_deg(4, 2, xg)\n",
    "eqs = nontriv(equate(f_it(3), p1_*p2_, xg))\n",
    "show(eqs)"
   ]
  },
  {
   "cell_type": "code",
   "execution_count": 3,
   "metadata": {
    "collapsed": false
   },
   "outputs": [
    {
     "data": {
      "text/latex": [
       "\\begin{align}\n",
       "\\gamma + m^{4} + 2 m^{3} + m^{2} + m &= a_{1} a_{2} \\\\\n",
       "0 &= a_{1} b_{2} + a_{2} b_{1} \\\\\n",
       "4 m^{3} + 4 m^{2} &= a_{1} c_{2} + a_{2} c_{1} + b_{1} b_{2} \\\\\n",
       "0 &= - a_{1} d + a_{2} d + b_{1} c_{2} + b_{2} c_{1} \\\\\n",
       "6 m^{2} + 2 m &= a_{1} + a_{2} - b_{1} d + b_{2} d + c_{1} c_{2} \\\\\n",
       "0 &= b_{1} + b_{2} - c_{1} d + c_{2} d \\\\\n",
       "4 m &= c_{1} + c_{2} - d^{2} \\\\\n",
       "\\end{align}"
      ],
      "text/plain": [
       "<IPython.core.display.Latex object>"
      ]
     },
     "metadata": {},
     "output_type": "display_data"
    }
   ],
   "source": [
    "eqs = nontriv(bigsubs(bigsubs(eqs, d1, d), d2, -d))\n",
    "show(eqs)"
   ]
  },
  {
   "cell_type": "code",
   "execution_count": 4,
   "metadata": {
    "collapsed": false
   },
   "outputs": [
    {
     "data": {
      "text/latex": [
       "\\begin{align}\n",
       "\\gamma + m^{4} + 2 m^{3} + m^{2} + m &= a^{2} \\\\\n",
       "0 &= a b_{1} + a b_{2} \\\\\n",
       "4 m^{3} + 4 m^{2} &= a c_{1} + a c_{2} + b_{1} b_{2} \\\\\n",
       "0 &= b_{1} c_{2} + b_{2} c_{1} \\\\\n",
       "6 m^{2} + 2 m &= 2 a - b_{1} d + b_{2} d + c_{1} c_{2} \\\\\n",
       "0 &= b_{1} + b_{2} - c_{1} d + c_{2} d \\\\\n",
       "4 m &= c_{1} + c_{2} - d^{2} \\\\\n",
       "\\end{align}"
      ],
      "text/plain": [
       "<IPython.core.display.Latex object>"
      ]
     },
     "metadata": {},
     "output_type": "display_data"
    }
   ],
   "source": [
    "eqs = nontriv(bigsubs(bigsubs(eqs, a1, a), a2, a))\n",
    "show(eqs)"
   ]
  },
  {
   "cell_type": "code",
   "execution_count": 5,
   "metadata": {
    "collapsed": false
   },
   "outputs": [
    {
     "data": {
      "text/latex": [
       "\\begin{align}\n",
       "\\gamma + m^{4} + 2 m^{3} + m^{2} + m &= a^{2} \\\\\n",
       "4 m^{3} + 4 m^{2} &= a c_{1} + a c_{2} - b^{2} \\\\\n",
       "0 &= - b c_{1} + b c_{2} \\\\\n",
       "6 m^{2} + 2 m &= 2 a - 2 b d + c_{1} c_{2} \\\\\n",
       "0 &= - c_{1} d + c_{2} d \\\\\n",
       "4 m &= c_{1} + c_{2} - d^{2} \\\\\n",
       "\\end{align}"
      ],
      "text/plain": [
       "<IPython.core.display.Latex object>"
      ]
     },
     "metadata": {},
     "output_type": "display_data"
    }
   ],
   "source": [
    "eqs = nontriv(bigsubs(bigsubs(eqs, b1, b), b2, -b))\n",
    "show(eqs)"
   ]
  },
  {
   "cell_type": "code",
   "execution_count": 6,
   "metadata": {
    "collapsed": false
   },
   "outputs": [
    {
     "data": {
      "text/latex": [
       "\\begin{align}\n",
       "\\gamma + m^{4} + 2 m^{3} + m^{2} + m &= a^{2} \\\\\n",
       "4 m^{3} + 4 m^{2} &= 2 a c - b^{2} \\\\\n",
       "6 m^{2} + 2 m &= 2 a - 2 b d + c^{2} \\\\\n",
       "4 m &= 2 c - d^{2} \\\\\n",
       "\\end{align}"
      ],
      "text/plain": [
       "<IPython.core.display.Latex object>"
      ]
     },
     "metadata": {},
     "output_type": "display_data"
    }
   ],
   "source": [
    "eqs = nontriv(bigsubs(bigsubs(eqs, c1, c), c2, c))\n",
    "show(eqs)"
   ]
  },
  {
   "cell_type": "code",
   "execution_count": 7,
   "metadata": {
    "collapsed": false
   },
   "outputs": [
    {
     "data": {
      "text/latex": [
       "\\begin{align}\n",
       "\\gamma + m^{4} + 2 m^{3} + m^{2} + m &= a^{2} \\\\\n",
       "4 m^{3} + 4 m^{2} &= 2 a \\left(\\frac{d^{2}}{2} + 2 m\\right) - b^{2} \\\\\n",
       "6 m^{2} + 2 m &= 2 a - 2 b d + \\left(\\frac{d^{2}}{2} + 2 m\\right)^{2} \\\\\n",
       "\\end{align}"
      ],
      "text/plain": [
       "<IPython.core.display.Latex object>"
      ]
     },
     "metadata": {},
     "output_type": "display_data"
    }
   ],
   "source": [
    "eqs = nontriv(bigsubs(eqs, c, only(solve(eqs[3], c))))\n",
    "show(eqs)"
   ]
  },
  {
   "cell_type": "code",
   "execution_count": 8,
   "metadata": {
    "collapsed": false
   },
   "outputs": [
    {
     "data": {
      "text/latex": [
       "\\begin{align}\n",
       "\\gamma + m^{4} + 2 m^{3} + m^{2} + m &= \\left(b d - \\frac{d^{4}}{8} - d^{2} m + m^{2} + m\\right)^{2} \\\\\n",
       "4 m^{3} + 4 m^{2} &= - b^{2} + 2 \\left(\\frac{d^{2}}{2} + 2 m\\right) \\left(b d - \\frac{d^{4}}{8} - d^{2} m + m^{2} + m\\right) \\\\\n",
       "\\end{align}"
      ],
      "text/plain": [
       "<IPython.core.display.Latex object>"
      ]
     },
     "metadata": {},
     "output_type": "display_data"
    }
   ],
   "source": [
    "eqs = nontriv(bigsubs(eqs, a, only(solve(eqs[2], a))))\n",
    "show(eqs)"
   ]
  },
  {
   "cell_type": "code",
   "execution_count": 9,
   "metadata": {
    "collapsed": false
   },
   "outputs": [
    {
     "data": {
      "text/latex": [
       "$b=\\left [ \\frac{d}{4} \\left(2 d^{2} + 8 m - \\sqrt{2 d^{4} + 8 d^{2} m + 16 m^{2} + 16 m}\\right), \\quad \\frac{d}{4} \\left(2 d^{2} + 8 m + \\sqrt{2 d^{4} + 8 d^{2} m + 16 m^{2} + 16 m}\\right)\\right ]$"
      ],
      "text/plain": [
       "<IPython.core.display.Latex object>"
      ]
     },
     "metadata": {},
     "output_type": "display_data"
    }
   ],
   "source": [
    "b_s = solve(eqs[1], b)\n",
    "display(Latex('$b={}$'.format(sy.latex(b_s))))"
   ]
  },
  {
   "cell_type": "code",
   "execution_count": 10,
   "metadata": {
    "collapsed": false
   },
   "outputs": [
    {
     "data": {
      "text/latex": [
       "$\\gamma=\\left [ - m^{4} - 2 m^{3} - m^{2} - m + \\frac{1}{64} \\left(3 d^{4} + 8 d^{2} m - 2 \\sqrt{2} d^{2} \\sqrt{d^{4} + 4 d^{2} m + 8 m^{2} + 8 m} + 8 m^{2} + 8 m\\right)^{2}, \\quad - m^{4} - 2 m^{3} - m^{2} - m + \\frac{1}{64} \\left(3 d^{4} + 8 d^{2} m + 2 \\sqrt{2} d^{2} \\sqrt{d^{4} + 4 d^{2} m + 8 m^{2} + 8 m} + 8 m^{2} + 8 m\\right)^{2}\\right ]$"
      ],
      "text/plain": [
       "<IPython.core.display.Latex object>"
      ]
     },
     "metadata": {},
     "output_type": "display_data"
    }
   ],
   "source": [
    "gammas = [ only(solve(eqs[0].subs(b, b_), gamma)) for b_ in b_s ]\n",
    "display(Latex('$\\gamma={}$'.format(sy.latex(gammas))))"
   ]
  },
  {
   "cell_type": "code",
   "execution_count": 11,
   "metadata": {
    "collapsed": false
   },
   "outputs": [
    {
     "data": {
      "image/png": "[encoded data removed]",
      "text/latex": [
       "$$\\beta = \\sqrt{2 d^{4} + 8 d^{2} m + 16 m^{2} + 16 m}$$"
      ],
      "text/plain": [
       "       ______________________________\n",
       "      ╱    4      2         2        \n",
       "β = ╲╱  2⋅d  + 8⋅d ⋅m + 16⋅m  + 16⋅m "
      ]
     },
     "metadata": {},
     "output_type": "display_data"
    },
    {
     "data": {
      "image/png": "[encoded data removed]",
      "text/latex": [
       "$$\\beta = - \\sqrt{2 d^{4} + 8 d^{2} m + 16 m^{2} + 16 m}$$"
      ],
      "text/plain": [
       "        ______________________________\n",
       "       ╱    4      2         2        \n",
       "β = -╲╱  2⋅d  + 8⋅d ⋅m + 16⋅m  + 16⋅m "
      ]
     },
     "metadata": {},
     "output_type": "display_data"
    },
    {
     "data": {
      "image/png": "[encoded data removed]",
      "text/latex": [
       "$$\\gamma = \\beta \\left(- \\frac{3 d^{6}}{16} - \\frac{d^{4} m}{2} - \\frac{d^{2} m^{2}}{2} - \\frac{d^{2} m}{2}\\right) + \\frac{17 d^{8}}{64} + \\frac{5 m}{4} d^{6} + \\frac{11 d^{4}}{4} m^{2} + \\frac{7 m}{4} d^{4} + 2 d^{2} m^{3} + 2 d^{2} m^{2} - m$$"
      ],
      "text/plain": [
       "      ⎛     6    4      2  2    2  ⎞       8      6         4  2      4       \n",
       "      ⎜  3⋅d    d ⋅m   d ⋅m    d ⋅m⎟   17⋅d    5⋅d ⋅m   11⋅d ⋅m    7⋅d ⋅m     \n",
       "γ = β⋅⎜- ──── - ──── - ───── - ────⎟ + ───── + ────── + ──────── + ────── + 2⋅\n",
       "      ⎝   16     2       2      2  ⎠     64      4         4         4        \n",
       "\n",
       "                   \n",
       " 2  3      2  2    \n",
       "d ⋅m  + 2⋅d ⋅m  - m\n",
       "                   "
      ]
     },
     "metadata": {},
     "output_type": "display_data"
    }
   ],
   "source": [
    "beta_ = sqrt(2*d**4 + 8*m*d**2 + 16*m**2 + 16*m)\n",
    "beta__ = sqrt(2)*sqrt(d**4 + 4*m*d**2 + 8*m**2 + 8*m)\n",
    "assert beta_ == beta__.simplify()\n",
    "tmp = gammas[0].subs(beta__, beta).expand().subs(beta**2, beta_**2).expand()\n",
    "gamma_nice = beta*tmp.coeff(beta, n=1) + tmp.coeff(beta, n=0)\n",
    "display(Eq(beta, beta_))\n",
    "display(Eq(beta, -beta_))\n",
    "display(Eq(gamma, gamma_nice))"
   ]
  },
  {
   "cell_type": "code",
   "execution_count": 12,
   "metadata": {
    "collapsed": true
   },
   "outputs": [],
   "source": [
    "qq = 2*d**4 + 8*d**2*m + 16*m**2 + 16*m\n",
    "\n",
    "def gammas_at(m_, d_):\n",
    "    for gamma_ in gammas:\n",
    "        yield gamma_.subs(d, d_).subs(m, m_)\n",
    "\n",
    "xg_ = x - gamma\n",
    "p1_ = a + b*xg_ + c*xg_**2 + d*xg_**3 + xg_**4\n",
    "p2_ = a - b*xg_ + c*xg_**2 - d*xg_**3 + xg_**4\n",
    "\n",
    "def factor(gamma_, m_, d_):\n",
    "    f_ = ((x - gamma_)**2 + gamma_ + m_).expand().as_poly(x)\n",
    "    fff_ = f_.compose(f_).compose(f_).as_expr().expand()\n",
    "    c_ = (4*m_ + d_**2)/2\n",
    "    a_ = sqrt(gamma_ + m_**4 + 2*m_**3 + m_**2 + m_)\n",
    "    b_ = (6*m_**2 + 2*m_ - 2*a - c_**2)/(-2*d_)\n",
    "    fff = p1_*p2_\n",
    "    if fff_ == fff.subs(d, d_).subs(c, c_).subs(b, b_).subs(a, a_).subs(gamma, gamma_).expand():\n",
    "        return (\n",
    "            p1_.subs(d, d_).subs(c, c_).subs(b, b_).subs(a, a_).subs(gamma, gamma_).expand(),\n",
    "            p2_.subs(d, d_).subs(c, c_).subs(b, b_).subs(a, a_).subs(gamma, gamma_).expand(),\n",
    "            )\n",
    "    if fff_ == fff.subs(d, d_).subs(c, c_).subs(b, b_).subs(a, -a_).subs(gamma, gamma_).expand():\n",
    "        return (\n",
    "            p1_.subs(d, d_).subs(c, c_).subs(b, b_).subs(a, -a_).subs(gamma, gamma_).expand(),\n",
    "            p2_.subs(d, d_).subs(c, c_).subs(b, b_).subs(a, -a_).subs(gamma, gamma_).expand(),\n",
    "            )\n",
    "    assert False\n",
    "\n",
    "def check_newly(gamma_, m_):\n",
    "    return not sqrt(-gamma_ - m_).is_Rational and (not sqrt(-2*m_ + 2*sqrt(gamma_ + m_**2 + m_)).is_Rational and not sqrt(-2*m_ - 2*sqrt(gamma_ + m_**2 + m_)).is_Rational)"
   ]
  }
 ],
 "metadata": {
  "kernelspec": {
   "display_name": "Python 3",
   "language": "python",
   "name": "python3"
  },
  "language_info": {
   "codemirror_mode": {
    "name": "ipython",
    "version": 3
   },
   "file_extension": ".py",
   "mimetype": "text/x-python",
   "name": "python",
   "nbconvert_exporter": "python",
   "pygments_lexer": "ipython3",
   "version": "3.5.3"
  }
 },
 "nbformat": 4,
 "nbformat_minor": 2
}

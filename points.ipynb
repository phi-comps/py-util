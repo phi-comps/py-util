{
 "cells": [
  {
   "cell_type": "code",
   "execution_count": 1,
   "metadata": {},
   "outputs": [],
   "source": [
    "import sympy as sy\n",
    "from sympy import Symbol, Eq, Rational, sqrt, solve\n",
    "from sympy.abc import a, b, c, d, m, x, y, alpha, beta, gamma\n",
    "\n",
    "from IPython.display import display, Latex\n",
    "\n",
    "from util import *\n",
    "from transform import *\n",
    "from ec import EllipticCurve, Point\n",
    "\n",
    "__all__ = [\n",
    "    'gammas_at',\n",
    "    'gammas',\n",
    "    'gamma_nice',\n",
    "    'gamma',\n",
    "    'beta',\n",
    "    'beta_',\n",
    "    'aa_',\n",
    "    'bb_',\n",
    "    'qq',\n",
    "    'factor',\n",
    "    'check_newly',\n",
    "    'up55',\n",
    "    'lo55',\n",
    "    'nice',\n",
    "    ]\n",
    "\n",
    "for subscript in range(5):\n",
    "    for var in 'abcdefgh':\n",
    "        name = '{}{}'.format(var, subscript)\n",
    "        globals()[name] = Symbol(name)\n",
    "\n",
    "def displ(*x):\n",
    "    if __name__ == '__main__':\n",
    "        display(*x)\n",
    "\n",
    "def show(eqs):\n",
    "    displ(Latex('\\n'.join(\n",
    "        [r'\\begin{align}']\n",
    "        + list(r'{} &= {} \\\\'.format(sy.latex(eq.lhs), sy.latex(eq.rhs)) for eq in eqs)\n",
    "        + [r'\\end{align}']\n",
    "    )))"
   ]
  },
  {
   "cell_type": "code",
   "execution_count": 2,
   "metadata": {},
   "outputs": [
    {
     "data": {
      "text/latex": [
       "\\begin{align}\n",
       "\\gamma + m^{4} + 2 m^{3} + m^{2} + m &= a_{1} a_{2} \\\\\n",
       "0 &= a_{1} b_{2} + a_{2} b_{1} \\\\\n",
       "4 m^{3} + 4 m^{2} &= a_{1} c_{2} + a_{2} c_{1} + b_{1} b_{2} \\\\\n",
       "0 &= a_{1} d_{2} + a_{2} d_{1} + b_{1} c_{2} + b_{2} c_{1} \\\\\n",
       "6 m^{2} + 2 m &= a_{1} + a_{2} + b_{1} d_{2} + b_{2} d_{1} + c_{1} c_{2} \\\\\n",
       "0 &= b_{1} + b_{2} + c_{1} d_{2} + c_{2} d_{1} \\\\\n",
       "4 m &= c_{1} + c_{2} + d_{1} d_{2} \\\\\n",
       "0 &= d_{1} + d_{2} \\\\\n",
       "\\end{align}"
      ],
      "text/plain": [
       "<IPython.core.display.Latex object>"
      ]
     },
     "metadata": {},
     "output_type": "display_data"
    }
   ],
   "source": [
    "p1_ = mk_deg(4, 1, xg)\n",
    "p2_ = mk_deg(4, 2, xg)\n",
    "eqs = nontriv(equate(f_it(3), p1_*p2_, xg))\n",
    "show(eqs)"
   ]
  },
  {
   "cell_type": "code",
   "execution_count": 3,
   "metadata": {},
   "outputs": [
    {
     "data": {
      "text/latex": [
       "\\begin{align}\n",
       "\\gamma + m^{4} + 2 m^{3} + m^{2} + m &= a_{1} a_{2} \\\\\n",
       "0 &= a_{1} b_{2} + a_{2} b_{1} \\\\\n",
       "4 m^{3} + 4 m^{2} &= a_{1} c_{2} + a_{2} c_{1} + b_{1} b_{2} \\\\\n",
       "0 &= - a_{1} d + a_{2} d + b_{1} c_{2} + b_{2} c_{1} \\\\\n",
       "6 m^{2} + 2 m &= a_{1} + a_{2} - b_{1} d + b_{2} d + c_{1} c_{2} \\\\\n",
       "0 &= b_{1} + b_{2} - c_{1} d + c_{2} d \\\\\n",
       "4 m &= c_{1} + c_{2} - d^{2} \\\\\n",
       "\\end{align}"
      ],
      "text/plain": [
       "<IPython.core.display.Latex object>"
      ]
     },
     "metadata": {},
     "output_type": "display_data"
    }
   ],
   "source": [
    "eqs = nontriv(bigsubs(bigsubs(eqs, d1, d), d2, -d))\n",
    "show(eqs)"
   ]
  },
  {
   "cell_type": "code",
   "execution_count": 4,
   "metadata": {},
   "outputs": [
    {
     "data": {
      "text/latex": [
       "\\begin{align}\n",
       "\\gamma + m^{4} + 2 m^{3} + m^{2} + m &= a^{2} \\\\\n",
       "0 &= a b_{1} + a b_{2} \\\\\n",
       "4 m^{3} + 4 m^{2} &= a c_{1} + a c_{2} + b_{1} b_{2} \\\\\n",
       "0 &= b_{1} c_{2} + b_{2} c_{1} \\\\\n",
       "6 m^{2} + 2 m &= 2 a - b_{1} d + b_{2} d + c_{1} c_{2} \\\\\n",
       "0 &= b_{1} + b_{2} - c_{1} d + c_{2} d \\\\\n",
       "4 m &= c_{1} + c_{2} - d^{2} \\\\\n",
       "\\end{align}"
      ],
      "text/plain": [
       "<IPython.core.display.Latex object>"
      ]
     },
     "metadata": {},
     "output_type": "display_data"
    }
   ],
   "source": [
    "eqs = nontriv(bigsubs(bigsubs(eqs, a1, a), a2, a))\n",
    "show(eqs)"
   ]
  },
  {
   "cell_type": "code",
   "execution_count": 5,
   "metadata": {},
   "outputs": [
    {
     "data": {
      "text/latex": [
       "\\begin{align}\n",
       "\\gamma + m^{4} + 2 m^{3} + m^{2} + m &= a^{2} \\\\\n",
       "4 m^{3} + 4 m^{2} &= a c_{1} + a c_{2} - b^{2} \\\\\n",
       "0 &= - b c_{1} + b c_{2} \\\\\n",
       "6 m^{2} + 2 m &= 2 a - 2 b d + c_{1} c_{2} \\\\\n",
       "0 &= - c_{1} d + c_{2} d \\\\\n",
       "4 m &= c_{1} + c_{2} - d^{2} \\\\\n",
       "\\end{align}"
      ],
      "text/plain": [
       "<IPython.core.display.Latex object>"
      ]
     },
     "metadata": {},
     "output_type": "display_data"
    }
   ],
   "source": [
    "eqs = nontriv(bigsubs(bigsubs(eqs, b1, b), b2, -b))\n",
    "show(eqs)"
   ]
  },
  {
   "cell_type": "code",
   "execution_count": 6,
   "metadata": {},
   "outputs": [
    {
     "data": {
      "text/latex": [
       "\\begin{align}\n",
       "\\gamma + m^{4} + 2 m^{3} + m^{2} + m &= a^{2} \\\\\n",
       "4 m^{3} + 4 m^{2} &= 2 a c - b^{2} \\\\\n",
       "6 m^{2} + 2 m &= 2 a - 2 b d + c^{2} \\\\\n",
       "4 m &= 2 c - d^{2} \\\\\n",
       "\\end{align}"
      ],
      "text/plain": [
       "<IPython.core.display.Latex object>"
      ]
     },
     "metadata": {},
     "output_type": "display_data"
    }
   ],
   "source": [
    "eqs = nontriv(bigsubs(bigsubs(eqs, c1, c), c2, c))\n",
    "nice = eqs\n",
    "show(eqs)"
   ]
  },
  {
   "cell_type": "code",
   "execution_count": 7,
   "metadata": {},
   "outputs": [
    {
     "data": {
      "text/latex": [
       "\\begin{align}\n",
       "\\gamma + m^{4} + 2 m^{3} + m^{2} + m &= a^{2} \\\\\n",
       "4 m^{3} + 4 m^{2} &= 2 a \\left(\\frac{d^{2}}{2} + 2 m\\right) - b^{2} \\\\\n",
       "6 m^{2} + 2 m &= 2 a - 2 b d + \\left(\\frac{d^{2}}{2} + 2 m\\right)^{2} \\\\\n",
       "\\end{align}"
      ],
      "text/plain": [
       "<IPython.core.display.Latex object>"
      ]
     },
     "metadata": {},
     "output_type": "display_data"
    }
   ],
   "source": [
    "eqs = nontriv(bigsubs(eqs, c, only(solve(eqs[3], c))))\n",
    "show(eqs)"
   ]
  },
  {
   "cell_type": "code",
   "execution_count": 8,
   "metadata": {},
   "outputs": [
    {
     "data": {
      "text/latex": [
       "\\begin{align}\n",
       "\\gamma + m^{4} + 2 m^{3} + m^{2} + m &= \\left(b d - \\frac{d^{4}}{8} - d^{2} m + m^{2} + m\\right)^{2} \\\\\n",
       "4 m^{3} + 4 m^{2} &= - b^{2} + 2 \\left(\\frac{d^{2}}{2} + 2 m\\right) \\left(b d - \\frac{d^{4}}{8} - d^{2} m + m^{2} + m\\right) \\\\\n",
       "\\end{align}"
      ],
      "text/plain": [
       "<IPython.core.display.Latex object>"
      ]
     },
     "metadata": {},
     "output_type": "display_data"
    }
   ],
   "source": [
    "eqs = nontriv(bigsubs(eqs, a, only(solve(eqs[2], a))))\n",
    "up55_, lo55_ = eqs\n",
    "up55 = (up55_.lhs - up55_.rhs).expand()\n",
    "lo55 = (lo55_.lhs - lo55_.rhs).expand()\n",
    "show(eqs)"
   ]
  },
  {
   "cell_type": "code",
   "execution_count": 9,
   "metadata": {},
   "outputs": [
    {
     "data": {
      "text/latex": [
       "$b=\\left [ \\frac{d}{4} \\left(2 d^{2} + 8 m - \\sqrt{2 d^{4} + 8 d^{2} m + 16 m^{2} + 16 m}\\right), \\quad \\frac{d}{4} \\left(2 d^{2} + 8 m + \\sqrt{2 d^{4} + 8 d^{2} m + 16 m^{2} + 16 m}\\right)\\right ]$"
      ],
      "text/plain": [
       "<IPython.core.display.Latex object>"
      ]
     },
     "metadata": {},
     "output_type": "display_data"
    }
   ],
   "source": [
    "b_s = solve(eqs[1], b)\n",
    "displ(Latex('$b={}$'.format(sy.latex(b_s))))"
   ]
  },
  {
   "cell_type": "code",
   "execution_count": 10,
   "metadata": {},
   "outputs": [
    {
     "data": {
      "text/latex": [
       "$\\gamma=\\left [ - m^{4} - 2 m^{3} - m^{2} - m + \\frac{1}{64} \\left(3 d^{4} + 8 d^{2} m - 2 \\sqrt{2} d^{2} \\sqrt{d^{4} + 4 d^{2} m + 8 m^{2} + 8 m} + 8 m^{2} + 8 m\\right)^{2}, \\quad - m^{4} - 2 m^{3} - m^{2} - m + \\frac{1}{64} \\left(3 d^{4} + 8 d^{2} m + 2 \\sqrt{2} d^{2} \\sqrt{d^{4} + 4 d^{2} m + 8 m^{2} + 8 m} + 8 m^{2} + 8 m\\right)^{2}\\right ]$"
      ],
      "text/plain": [
       "<IPython.core.display.Latex object>"
      ]
     },
     "metadata": {},
     "output_type": "display_data"
    }
   ],
   "source": [
    "gammas = [ only(solve(eqs[0].subs(b, b_), gamma)) for b_ in b_s ]\n",
    "displ(Latex('$\\gamma={}$'.format(sy.latex(gammas))))"
   ]
  },
  {
   "cell_type": "code",
   "execution_count": 11,
   "metadata": {},
   "outputs": [
    {
     "data": {
      "text/latex": [
       "$$\\beta = \\sqrt{2 d^{4} + 8 d^{2} m + 16 m^{2} + 16 m}$$"
      ],
      "text/plain": [
       "       ______________________________\n",
       "      ╱    4      2         2        \n",
       "β = ╲╱  2⋅d  + 8⋅d ⋅m + 16⋅m  + 16⋅m "
      ]
     },
     "metadata": {},
     "output_type": "display_data"
    },
    {
     "data": {
      "text/latex": [
       "$$\\beta = - \\sqrt{2 d^{4} + 8 d^{2} m + 16 m^{2} + 16 m}$$"
      ],
      "text/plain": [
       "        ______________________________\n",
       "       ╱    4      2         2        \n",
       "β = -╲╱  2⋅d  + 8⋅d ⋅m + 16⋅m  + 16⋅m "
      ]
     },
     "metadata": {},
     "output_type": "display_data"
    },
    {
     "data": {
      "text/latex": [
       "$$\\gamma = \\beta \\left(- \\frac{3 d^{6}}{16} - \\frac{d^{4} m}{2} - \\frac{d^{2} m^{2}}{2} - \\frac{d^{2} m}{2}\\right) + \\frac{17 d^{8}}{64} + \\frac{5 m}{4} d^{6} + \\frac{11 d^{4}}{4} m^{2} + \\frac{7 m}{4} d^{4} + 2 d^{2} m^{3} + 2 d^{2} m^{2} - m$$"
      ],
      "text/plain": [
       "      ⎛     6    4      2  2    2  ⎞       8      6         4  2      4       \n",
       "      ⎜  3⋅d    d ⋅m   d ⋅m    d ⋅m⎟   17⋅d    5⋅d ⋅m   11⋅d ⋅m    7⋅d ⋅m     \n",
       "γ = β⋅⎜- ──── - ──── - ───── - ────⎟ + ───── + ────── + ──────── + ────── + 2⋅\n",
       "      ⎝   16     2       2      2  ⎠     64      4         4         4        \n",
       "\n",
       "                   \n",
       " 2  3      2  2    \n",
       "d ⋅m  + 2⋅d ⋅m  - m\n",
       "                   "
      ]
     },
     "metadata": {},
     "output_type": "display_data"
    }
   ],
   "source": [
    "beta_ = sqrt(2*d**4 + 8*m*d**2 + 16*m**2 + 16*m)\n",
    "beta__ = sqrt(2)*sqrt(d**4 + 4*m*d**2 + 8*m**2 + 8*m)\n",
    "assert beta_ == beta__.simplify()\n",
    "tmp = gammas[0].subs(beta__, beta).expand().subs(beta**2, beta_**2).expand()\n",
    "aa_ = tmp.coeff(beta, n=1)\n",
    "bb_ = tmp.coeff(beta, n=0)\n",
    "gamma_nice = beta*aa_ + bb_\n",
    "displ(Eq(beta, beta_))\n",
    "displ(Eq(beta, -beta_))\n",
    "displ(Eq(gamma, gamma_nice))"
   ]
  },
  {
   "cell_type": "code",
   "execution_count": 12,
   "metadata": {},
   "outputs": [],
   "source": [
    "qq = 2*d**4 + 8*d**2*m + 16*m**2 + 16*m\n",
    "\n",
    "def gammas_at(m_, d_):\n",
    "    for gamma_ in gammas:\n",
    "        yield gamma_.subs(d, d_).subs(m, m_)\n",
    "\n",
    "xg_ = x - gamma\n",
    "p1_ = a + b*xg_ + c*xg_**2 + d*xg_**3 + xg_**4\n",
    "p2_ = a - b*xg_ + c*xg_**2 - d*xg_**3 + xg_**4\n",
    "\n",
    "def factor(gamma_, m_, d_):\n",
    "    f_ = ((x - gamma_)**2 + gamma_ + m_).expand().as_poly(x)\n",
    "    fff_ = f_.compose(f_).compose(f_).as_expr().expand()\n",
    "    c_ = (4*m_ + d_**2)/2\n",
    "    a_ = sqrt(gamma_ + m_**4 + 2*m_**3 + m_**2 + m_)\n",
    "    b_ = (6*m_**2 + 2*m_ - 2*a - c_**2)/(-2*d_)\n",
    "    fff = p1_*p2_\n",
    "    if fff_ == fff.subs(d, d_).subs(c, c_).subs(b, b_).subs(a, a_).subs(gamma, gamma_).expand():\n",
    "        return (\n",
    "            p1_.subs(d, d_).subs(c, c_).subs(b, b_).subs(a, a_).subs(gamma, gamma_).expand(),\n",
    "            p2_.subs(d, d_).subs(c, c_).subs(b, b_).subs(a, a_).subs(gamma, gamma_).expand(),\n",
    "            )\n",
    "    if fff_ == fff.subs(d, d_).subs(c, c_).subs(b, b_).subs(a, -a_).subs(gamma, gamma_).expand():\n",
    "        return (\n",
    "            p1_.subs(d, d_).subs(c, c_).subs(b, b_).subs(a, -a_).subs(gamma, gamma_).expand(),\n",
    "            p2_.subs(d, d_).subs(c, c_).subs(b, b_).subs(a, -a_).subs(gamma, gamma_).expand(),\n",
    "            )\n",
    "    assert False\n",
    "\n",
    "def check_newly(gamma_, m_):\n",
    "    return not sqrt(-gamma_ - m_).is_Rational and (not sqrt(-2*m_ + 2*sqrt(gamma_ + m_**2 + m_)).is_Rational and not sqrt(-2*m_ - 2*sqrt(gamma_ + m_**2 + m_)).is_Rational)"
   ]
  }
 ],
 "metadata": {
  "kernelspec": {
   "display_name": "Python 3",
   "language": "python",
   "name": "python3"
  },
  "language_info": {
   "codemirror_mode": {
    "name": "ipython",
    "version": 3
   },
   "file_extension": ".py",
   "mimetype": "text/x-python",
   "name": "python",
   "nbconvert_exporter": "python",
   "pygments_lexer": "ipython3",
   "version": "3.6.2"
  }
 },
 "nbformat": 4,
 "nbformat_minor": 2
}

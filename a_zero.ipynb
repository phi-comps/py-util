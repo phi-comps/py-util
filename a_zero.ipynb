{
 "cells": [
  {
   "cell_type": "code",
   "execution_count": 4,
   "metadata": {},
   "outputs": [],
   "source": [
    "import sympy as sy\n",
    "from sympy import Symbol, Eq, Rational, sqrt, solve\n",
    "from sympy.abc import a, b, c, d, m, x, y, alpha, beta, gamma\n",
    "\n",
    "from IPython.display import display, Latex\n",
    "\n",
    "from util import *\n",
    "from transform import *\n",
    "from points import *\n",
    "from ec import EllipticCurve, Point\n",
    "import eclib\n",
    "\n",
    "\n",
    "for subscript in range(5):\n",
    "    for var in 'abcdefgh':\n",
    "        name = '{}{}'.format(var, subscript)\n",
    "        globals()[name] = Symbol(name)\n",
    "\n",
    "def displ(*x):\n",
    "    if __name__ == '__main__':\n",
    "        display(*x)\n",
    "\n",
    "def show(eqs):\n",
    "    display(Latex('\\n'.join(\n",
    "        [r'\\begin{align}']\n",
    "        + list(r'{} &= {} \\\\'.format(sy.latex(eq.lhs), sy.latex(eq.rhs)) for eq in eqs)\n",
    "        + [r'\\end{align}']\n",
    "    )))"
   ]
  },
  {
   "cell_type": "code",
   "execution_count": 9,
   "metadata": {},
   "outputs": [
    {
     "data": {
      "text/latex": [
       "$$- \\frac{3 d^{6}}{16} - \\frac{d^{4} m}{2} - \\frac{d^{2} m^{2}}{2} - \\frac{d^{2} m}{2}$$"
      ],
      "text/plain": [
       "     6    4      2  2    2  \n",
       "  3⋅d    d ⋅m   d ⋅m    d ⋅m\n",
       "- ──── - ──── - ───── - ────\n",
       "   16     2       2      2  "
      ]
     },
     "metadata": {},
     "output_type": "display_data"
    },
    {
     "data": {
      "text/latex": [
       "$$\\left ( - \\frac{d^{2}}{2} - \\frac{1}{4} \\sqrt{- 2 d^{4} + 8 d^{2} + 4} - \\frac{1}{2}, \\quad - \\frac{d^{2}}{2} + \\frac{1}{4} \\sqrt{- 2 d^{4} + 8 d^{2} + 4} - \\frac{1}{2}\\right )$$"
      ],
      "text/plain": [
       "⎛          ___________________                ___________________    ⎞\n",
       "⎜   2     ╱      4      2              2     ╱      4      2         ⎟\n",
       "⎜  d    ╲╱  - 2⋅d  + 8⋅d  + 4    1    d    ╲╱  - 2⋅d  + 8⋅d  + 4    1⎟\n",
       "⎜- ── - ────────────────────── - ─, - ── + ────────────────────── - ─⎟\n",
       "⎝  2              4              2    2              4              2⎠"
      ]
     },
     "execution_count": 9,
     "metadata": {},
     "output_type": "execute_result"
    }
   ],
   "source": [
    "displ(aa_)\n",
    "l, r = solve(Eq(0, aa_), m)\n",
    "l, r"
   ]
  },
  {
   "cell_type": "code",
   "execution_count": 3,
   "metadata": {},
   "outputs": [
    {
     "data": {
      "text/latex": [
       "$$\\left ( \\left ( 0, \\quad 4, \\quad 0, \\quad -6, \\quad 0\\right ), \\quad \\frac{2 x}{y}, \\quad \\frac{8 x^{2}}{y^{2}} \\left(\\frac{x}{2} - 1 - \\frac{y^{2}}{4 x^{2}}\\right)\\right )$$"
      ],
      "text/plain": [
       "⎛                            ⎛          2 ⎞⎞\n",
       "⎜                          2 ⎜x        y  ⎟⎟\n",
       "⎜                       8⋅x ⋅⎜─ - 1 - ────⎟⎟\n",
       "⎜                            ⎜2          2⎟⎟\n",
       "⎜                  2⋅x       ⎝        4⋅x ⎠⎟\n",
       "⎜(0, 4, 0, -6, 0), ───, ───────────────────⎟\n",
       "⎜                   y             2        ⎟\n",
       "⎝                                y         ⎠"
      ]
     },
     "execution_count": 3,
     "metadata": {},
     "output_type": "execute_result"
    }
   ],
   "source": [
    "C, xtrans, ytrans = transform(4, 0, 8, 0, -2, 0)\n",
    "C, xtrans, ytrans"
   ]
  },
  {
   "cell_type": "code",
   "execution_count": 15,
   "metadata": {},
   "outputs": [
    {
     "data": {
      "text/latex": [
       "$$\\left ( \\left ( \\left ( -1, \\quad 1\\right ), \\quad \\left ( 3, \\quad 1\\right )\\right )\\right )$$"
      ],
      "text/plain": [
       "(((-1, 1), (3, 1)),)"
      ]
     },
     "execution_count": 15,
     "metadata": {},
     "output_type": "execute_result"
    }
   ],
   "source": [
    "def wat(C):\n",
    "    for x in C:\n",
    "        yield int(x), 1\n",
    "\n",
    "eclib.mwrank(wat(C))"
   ]
  }
 ],
 "metadata": {
  "kernelspec": {
   "display_name": "Python 3",
   "language": "python",
   "name": "python3"
  },
  "language_info": {
   "codemirror_mode": {
    "name": "ipython",
    "version": 3
   },
   "file_extension": ".py",
   "mimetype": "text/x-python",
   "name": "python",
   "nbconvert_exporter": "python",
   "pygments_lexer": "ipython3",
   "version": "3.6.2"
  }
 },
 "nbformat": 4,
 "nbformat_minor": 2
}

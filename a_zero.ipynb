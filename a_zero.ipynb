{
 "cells": [
  {
   "cell_type": "code",
   "execution_count": 43,
   "metadata": {},
   "outputs": [],
   "source": [
    "import sympy as sy\n",
    "from sympy import Symbol, Eq, Rational, sqrt, solve\n",
    "from sympy.abc import a, b, c, d, m, x, y, alpha, beta, gamma, kappa\n",
    "\n",
    "from IPython.display import display, Latex\n",
    "\n",
    "from util import *\n",
    "from transform import *\n",
    "from points import *\n",
    "from ec import EllipticCurve, Point\n",
    "import eclib\n",
    "\n",
    "\n",
    "for subscript in range(5):\n",
    "    for var in 'abcdefgh':\n",
    "        name = '{}{}'.format(var, subscript)\n",
    "        globals()[name] = Symbol(name)\n",
    "\n",
    "def ds(*x):\n",
    "    if __name__ == '__main__':\n",
    "        display(*x)\n",
    "\n",
    "def show(eqs):\n",
    "    display(Latex('\\n'.join(\n",
    "        [r'\\begin{align}']\n",
    "        + list(r'{} &= {} \\\\'.format(sy.latex(eq.lhs), sy.latex(eq.rhs)) for eq in eqs)\n",
    "        + [r'\\end{align}']\n",
    "    )))"
   ]
  },
  {
   "cell_type": "code",
   "execution_count": 44,
   "metadata": {},
   "outputs": [
    {
     "data": {
      "text/latex": [
       "$$- \\frac{3 d^{6}}{16} - \\frac{d^{4} m}{2} - \\frac{d^{2} m^{2}}{2} - \\frac{d^{2} m}{2}$$"
      ],
      "text/plain": [
       "     6    4      2  2    2  \n",
       "  3⋅d    d ⋅m   d ⋅m    d ⋅m\n",
       "- ──── - ──── - ───── - ────\n",
       "   16     2       2      2  "
      ]
     },
     "metadata": {},
     "output_type": "display_data"
    },
    {
     "data": {
      "text/latex": [
       "$$\\left ( - \\frac{d^{2}}{2} - \\frac{1}{4} \\sqrt{- 2 d^{4} + 8 d^{2} + 4} - \\frac{1}{2}, \\quad - \\frac{d^{2}}{2} + \\frac{1}{4} \\sqrt{- 2 d^{4} + 8 d^{2} + 4} - \\frac{1}{2}\\right )$$"
      ],
      "text/plain": [
       "⎛          ___________________                ___________________    ⎞\n",
       "⎜   2     ╱      4      2              2     ╱      4      2         ⎟\n",
       "⎜  d    ╲╱  - 2⋅d  + 8⋅d  + 4    1    d    ╲╱  - 2⋅d  + 8⋅d  + 4    1⎟\n",
       "⎜- ── - ────────────────────── - ─, - ── + ────────────────────── - ─⎟\n",
       "⎝  2              4              2    2              4              2⎠"
      ]
     },
     "execution_count": 44,
     "metadata": {},
     "output_type": "execute_result"
    }
   ],
   "source": [
    "ds(aa_)\n",
    "l, r = solve(Eq(0, aa_), m)\n",
    "l, r"
   ]
  },
  {
   "cell_type": "code",
   "execution_count": 45,
   "metadata": {},
   "outputs": [
    {
     "data": {
      "text/latex": [
       "$$\\frac{17 d^{8}}{64} + \\frac{5 d^{6}}{4} \\left(- \\frac{d^{2}}{2} + \\frac{\\kappa}{4} - \\frac{1}{2}\\right) + \\frac{11 d^{4}}{4} \\left(- \\frac{d^{2}}{2} + \\frac{\\kappa}{4} - \\frac{1}{2}\\right)^{2} + \\frac{7 d^{4}}{4} \\left(- \\frac{d^{2}}{2} + \\frac{\\kappa}{4} - \\frac{1}{2}\\right) + 2 d^{2} \\left(- \\frac{d^{2}}{2} + \\frac{\\kappa}{4} - \\frac{1}{2}\\right)^{3} + 2 d^{2} \\left(- \\frac{d^{2}}{2} + \\frac{\\kappa}{4} - \\frac{1}{2}\\right)^{2} + \\frac{d^{2}}{2} - \\frac{\\kappa}{4} + \\frac{1}{2}$$"
      ],
      "text/plain": [
       "                                                  2                           \n",
       "             ⎛   2        ⎞         ⎛   2        ⎞         ⎛   2        ⎞     \n",
       "           6 ⎜  d    κ   1⎟       4 ⎜  d    κ   1⎟       4 ⎜  d    κ   1⎟     \n",
       "    8   5⋅d ⋅⎜- ── + ─ - ─⎟   11⋅d ⋅⎜- ── + ─ - ─⎟    7⋅d ⋅⎜- ── + ─ - ─⎟     \n",
       "17⋅d         ⎝  2    4   2⎠         ⎝  2    4   2⎠         ⎝  2    4   2⎠     \n",
       "───── + ─────────────────── + ───────────────────── + ─────────────────── + 2⋅\n",
       "  64             4                      4                      4              \n",
       "\n",
       "                                                      \n",
       "                                                      \n",
       "                 3                      2             \n",
       "   ⎛   2        ⎞         ⎛   2        ⎞     2        \n",
       " 2 ⎜  d    κ   1⎟       2 ⎜  d    κ   1⎟    d    κ   1\n",
       "d ⋅⎜- ── + ─ - ─⎟  + 2⋅d ⋅⎜- ── + ─ - ─⎟  + ── - ─ + ─\n",
       "   ⎝  2    4   2⎠         ⎝  2    4   2⎠    2    4   2"
      ]
     },
     "execution_count": 45,
     "metadata": {},
     "output_type": "execute_result"
    }
   ],
   "source": [
    "kk_ = -2*d**4 + 8*d**2 + 4\n",
    "m_ = r.subs(sqrt(kk_), kappa)\n",
    "bb_.subs(m, m_)"
   ]
  },
  {
   "cell_type": "code",
   "execution_count": 66,
   "metadata": {},
   "outputs": [
    {
     "data": {
      "text/latex": [
       "$$\\gamma = \\beta \\left(- \\frac{3 d^{6}}{16} - \\frac{d^{4} m}{2} - \\frac{d^{2} m^{2}}{2} - \\frac{d^{2} m}{2}\\right) + \\frac{17 d^{8}}{64} + \\frac{5 m}{4} d^{6} + \\frac{11 d^{4}}{4} m^{2} + \\frac{7 m}{4} d^{4} + 2 d^{2} m^{3} + 2 d^{2} m^{2} - m$$"
      ],
      "text/plain": [
       "      ⎛     6    4      2  2    2  ⎞       8      6         4  2      4       \n",
       "      ⎜  3⋅d    d ⋅m   d ⋅m    d ⋅m⎟   17⋅d    5⋅d ⋅m   11⋅d ⋅m    7⋅d ⋅m     \n",
       "γ = β⋅⎜- ──── - ──── - ───── - ────⎟ + ───── + ────── + ──────── + ────── + 2⋅\n",
       "      ⎝   16     2       2      2  ⎠     64      4         4         4        \n",
       "\n",
       "                   \n",
       " 2  3      2  2    \n",
       "d ⋅m  + 2⋅d ⋅m  - m\n",
       "                   "
      ]
     },
     "metadata": {},
     "output_type": "display_data"
    },
    {
     "data": {
      "text/latex": [
       "$$0 = - \\frac{3 d^{6}}{16} - \\frac{d^{4} m}{2} - \\frac{d^{2} m^{2}}{2} - \\frac{d^{2} m}{2}$$"
      ],
      "text/plain": [
       "         6    4      2  2    2  \n",
       "      3⋅d    d ⋅m   d ⋅m    d ⋅m\n",
       "0 = - ──── - ──── - ───── - ────\n",
       "       16     2       2      2  "
      ]
     },
     "metadata": {},
     "output_type": "display_data"
    },
    {
     "data": {
      "text/latex": [
       "$$\\gamma = \\frac{17 d^{8}}{64} + \\frac{5 m}{4} d^{6} + \\frac{11 d^{4}}{4} m^{2} + \\frac{7 m}{4} d^{4} + 2 d^{2} m^{3} + 2 d^{2} m^{2} - m$$"
      ],
      "text/plain": [
       "        8      6         4  2      4                          \n",
       "    17⋅d    5⋅d ⋅m   11⋅d ⋅m    7⋅d ⋅m      2  3      2  2    \n",
       "γ = ───── + ────── + ──────── + ────── + 2⋅d ⋅m  + 2⋅d ⋅m  - m\n",
       "      64      4         4         4                           "
      ]
     },
     "metadata": {},
     "output_type": "display_data"
    },
    {
     "data": {
      "text/latex": [
       "$$\\left ( d = 0, \\quad 0 = \\frac{3 d^{4}}{16} + \\frac{d^{2} m}{2} + \\frac{m^{2}}{2} + \\frac{m}{2}\\right )$$"
      ],
      "text/plain": [
       "⎛              4    2      2    ⎞\n",
       "⎜           3⋅d    d ⋅m   m    m⎟\n",
       "⎜d = 0, 0 = ──── + ──── + ── + ─⎟\n",
       "⎝            16     2     2    2⎠"
      ]
     },
     "metadata": {},
     "output_type": "display_data"
    },
    {
     "data": {
      "text/latex": [
       "$$- \\gamma - m = - \\frac{17 d^{8}}{64} - \\frac{5 m}{4} d^{6} - \\frac{11 d^{4}}{4} m^{2} - \\frac{7 m}{4} d^{4} - 2 d^{2} m^{3} - 2 d^{2} m^{2}$$"
      ],
      "text/plain": [
       "               8      6         4  2      4                      \n",
       "           17⋅d    5⋅d ⋅m   11⋅d ⋅m    7⋅d ⋅m      2  3      2  2\n",
       "-γ - m = - ───── - ────── - ──────── - ────── - 2⋅d ⋅m  - 2⋅d ⋅m \n",
       "             64      4         4         4                       "
      ]
     },
     "metadata": {},
     "output_type": "display_data"
    },
    {
     "data": {
      "text/latex": [
       "$$- \\frac{17 d^{8}}{64} - \\frac{d^{6} m}{2} - \\frac{3 d^{4}}{4} m^{2} - \\frac{7 m}{4} d^{4}$$"
      ],
      "text/plain": [
       "      8    6        4  2      4  \n",
       "  17⋅d    d ⋅m   3⋅d ⋅m    7⋅d ⋅m\n",
       "- ───── - ──── - ─────── - ──────\n",
       "    64     2        4        4   "
      ]
     },
     "metadata": {},
     "output_type": "display_data"
    },
    {
     "data": {
      "text/latex": [
       "$$- \\frac{17 d^{4}}{64} - \\frac{d^{2} m}{2} - \\frac{3 m^{2}}{4} - \\frac{7 m}{4}$$"
      ],
      "text/plain": [
       "      4    2        2      \n",
       "  17⋅d    d ⋅m   3⋅m    7⋅m\n",
       "- ───── - ──── - ──── - ───\n",
       "    64     2      4      4 "
      ]
     },
     "metadata": {},
     "output_type": "display_data"
    },
    {
     "data": {
      "text/latex": [
       "$$\\frac{25 d^{4}}{64} + \\frac{5 m}{4} d^{2} + m^{2}$$"
      ],
      "text/plain": [
       "    4      2       \n",
       "25⋅d    5⋅d ⋅m    2\n",
       "───── + ────── + m \n",
       "  64      4        "
      ]
     },
     "metadata": {},
     "output_type": "display_data"
    },
    {
     "data": {
      "text/latex": [
       "$$\\frac{1}{64} \\left(5 d^{2} + 8 m\\right)^{2}$$"
      ],
      "text/plain": [
       "            2\n",
       "⎛   2      ⎞ \n",
       "⎝5⋅d  + 8⋅m⎠ \n",
       "─────────────\n",
       "      64     "
      ]
     },
     "metadata": {},
     "output_type": "display_data"
    }
   ],
   "source": [
    "ds(Eq(gamma, aa_*beta + bb_))\n",
    "ds(Eq(0, aa_))\n",
    "ds(Eq(gamma, bb_))\n",
    "aa__ = (-aa_/d**2).expand()\n",
    "ds((Eq(d, 0), Eq(0, aa__)))\n",
    "ds(Eq(-gamma-m, -bb_-m))\n",
    "ds(((-bb_-m)-4*m*aa_).expand())\n",
    "ds((((-bb_-m)-4*m*aa_).expand()/d**4).expand())\n",
    "ds((((-bb_-m)-4*m*aa_).expand()/d**4).expand() + 7*aa__/2)\n",
    "ds(((((-bb_-m)-4*m*aa_).expand()/d**4).expand() + 7*aa__/2).factor())"
   ]
  },
  {
   "cell_type": "code",
   "execution_count": 35,
   "metadata": {},
   "outputs": [
    {
     "data": {
      "text/latex": [
       "$$\\left(5 d^{2} + 8 m\\right)^{2}$$"
      ],
      "text/plain": [
       "            2\n",
       "⎛   2      ⎞ \n",
       "⎝5⋅d  + 8⋅m⎠ "
      ]
     },
     "execution_count": 35,
     "metadata": {},
     "output_type": "execute_result"
    }
   ],
   "source": [
    "(-((-bb_-m-4*aa_*m).expand()*-64/(d**4) + 14*((4*aa_/d**2).expand()*4).expand()).expand()).factor()"
   ]
  },
  {
   "cell_type": "code",
   "execution_count": 28,
   "metadata": {},
   "outputs": [
    {
     "data": {
      "text/latex": [
       "$$- 3 d^{4} - 8 d^{2} m - 8 m^{2} - 8 m$$"
      ],
      "text/plain": [
       "     4      2        2      \n",
       "- 3⋅d  - 8⋅d ⋅m - 8⋅m  - 8⋅m"
      ]
     },
     "execution_count": 28,
     "metadata": {},
     "output_type": "execute_result"
    }
   ],
   "source": [
    "((4*aa_/d**2).expand()*4).expand()"
   ]
  },
  {
   "cell_type": "markdown",
   "metadata": {},
   "source": [
    "## Curve for $\\kappa$"
   ]
  },
  {
   "cell_type": "code",
   "execution_count": 3,
   "metadata": {},
   "outputs": [
    {
     "data": {
      "text/latex": [
       "$$\\left ( \\left ( 0, \\quad 4, \\quad 0, \\quad -6, \\quad 0\\right ), \\quad \\frac{2 x}{y}, \\quad \\frac{8 x^{2}}{y^{2}} \\left(\\frac{x}{2} - 1 - \\frac{y^{2}}{4 x^{2}}\\right)\\right )$$"
      ],
      "text/plain": [
       "⎛                            ⎛          2 ⎞⎞\n",
       "⎜                          2 ⎜x        y  ⎟⎟\n",
       "⎜                       8⋅x ⋅⎜─ - 1 - ────⎟⎟\n",
       "⎜                            ⎜2          2⎟⎟\n",
       "⎜                  2⋅x       ⎝        4⋅x ⎠⎟\n",
       "⎜(0, 4, 0, -6, 0), ───, ───────────────────⎟\n",
       "⎜                   y             2        ⎟\n",
       "⎝                                y         ⎠"
      ]
     },
     "execution_count": 3,
     "metadata": {},
     "output_type": "execute_result"
    }
   ],
   "source": [
    "C, xtrans, ytrans = transform(4, 0, 8, 0, -2, 0)\n",
    "C, xtrans, ytrans"
   ]
  },
  {
   "cell_type": "code",
   "execution_count": 15,
   "metadata": {},
   "outputs": [
    {
     "data": {
      "text/latex": [
       "$$\\left ( \\left ( \\left ( -1, \\quad 1\\right ), \\quad \\left ( 3, \\quad 1\\right )\\right )\\right )$$"
      ],
      "text/plain": [
       "(((-1, 1), (3, 1)),)"
      ]
     },
     "execution_count": 15,
     "metadata": {},
     "output_type": "execute_result"
    }
   ],
   "source": [
    "def wat(C):\n",
    "    for x in C:\n",
    "        yield int(x), 1\n",
    "\n",
    "eclib.mwrank(wat(C))"
   ]
  }
 ],
 "metadata": {
  "kernelspec": {
   "display_name": "Python 3",
   "language": "python",
   "name": "python3"
  },
  "language_info": {
   "codemirror_mode": {
    "name": "ipython",
    "version": 3
   },
   "file_extension": ".py",
   "mimetype": "text/x-python",
   "name": "python",
   "nbconvert_exporter": "python",
   "pygments_lexer": "ipython3",
   "version": "3.6.2"
  }
 },
 "nbformat": 4,
 "nbformat_minor": 2
}

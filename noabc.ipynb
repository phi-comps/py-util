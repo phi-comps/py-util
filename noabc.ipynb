{
 "cells": [
  {
   "cell_type": "code",
   "execution_count": 1,
   "metadata": {},
   "outputs": [],
   "source": [
    "import itertools\n",
    "\n",
    "import sympy as sy\n",
    "from sympy import Symbol, Eq, Rational, sqrt, solve\n",
    "from sympy.abc import a, b, c, d, e, f, g, h, m, x, y, alpha, beta, gamma\n",
    "\n",
    "from IPython.display import display, Latex\n",
    "\n",
    "from util import *\n",
    "from transform import *\n",
    "from ec import EllipticCurve, Point\n",
    "\n",
    "__all__ = [\n",
    "    'gammas_at',\n",
    "    'gammas',\n",
    "    'gamma_nice',\n",
    "    'gamma',\n",
    "    'beta',\n",
    "    'beta_',\n",
    "    'aa_',\n",
    "    'bb_',\n",
    "    'qq',\n",
    "    'factor',\n",
    "    'check_newly',\n",
    "    'up55',\n",
    "    'lo55',\n",
    "    'nice',\n",
    "    ]\n",
    "\n",
    "for subscript in range(10):\n",
    "    for var in 'abcdefgh':\n",
    "        name = '{}{}'.format(var, subscript)\n",
    "        globals()[name] = Symbol(name)\n",
    "\n",
    "def displ(*x):\n",
    "    if __name__ == '__main__':\n",
    "        display(*x)\n",
    "\n",
    "def show(eqs):\n",
    "    displ(Latex('\\n'.join(\n",
    "        [r'\\begin{align}']\n",
    "        + list(r'{} &= {} \\\\'.format(sy.latex(eq.lhs), sy.latex(eq.rhs)) for eq in eqs)\n",
    "        + [r'\\end{align}']\n",
    "    )))"
   ]
  },
  {
   "cell_type": "code",
   "execution_count": 2,
   "metadata": {},
   "outputs": [],
   "source": [
    "def binseqs(n):\n",
    "    if n == 0:\n",
    "        yield ()\n",
    "    else:\n",
    "        for seq in binseqs(n - 1):\n",
    "            yield seq + (0,)\n",
    "            yield seq + (1,)\n",
    "\n",
    "for n in range(4):\n",
    "    for seq in binseqs(n):\n",
    "        s = ''.join(map(str, seq))\n",
    "        globals()['a_' + s] = Symbol('\\\\alpha_{' + s + '}')"
   ]
  },
  {
   "cell_type": "code",
   "execution_count": 3,
   "metadata": {},
   "outputs": [],
   "source": [
    "def mk_rt(*signs):\n",
    "    acc = sqrt(m-gamma)\n",
    "    for sign in reversed(signs):\n",
    "        acc = sqrt(m + sign*acc)\n",
    "    return acc"
   ]
  },
  {
   "cell_type": "code",
   "execution_count": 4,
   "metadata": {},
   "outputs": [
    {
     "data": {
      "text/latex": [
       "$$\\sqrt{m + \\sqrt{m - \\sqrt{m - \\sqrt{- \\gamma + m}}}}$$"
      ],
      "text/plain": [
       "     ___________________________________\n",
       "    ╱         _________________________ \n",
       "   ╱         ╱        ________________  \n",
       "  ╱         ╱        ╱       ________   \n",
       "╲╱    m + ╲╱   m - ╲╱  m - ╲╱ -γ + m    "
      ]
     },
     "execution_count": 4,
     "metadata": {},
     "output_type": "execute_result"
    }
   ],
   "source": [
    "mk_rt(1, -1, -1)"
   ]
  },
  {
   "cell_type": "code",
   "execution_count": 19,
   "metadata": {},
   "outputs": [],
   "source": [
    "p_ = (y + a_00)*(y + a*a_01)*(y + b*a_10)*(y + c*a_11)"
   ]
  },
  {
   "cell_type": "code",
   "execution_count": 20,
   "metadata": {},
   "outputs": [
    {
     "data": {
      "text/latex": [
       "$$\\left [ 1, \\quad \\alpha_{00} + \\alpha_{01} a + \\alpha_{10} b + \\alpha_{11} c, \\quad \\alpha_{00} \\alpha_{01} a + \\alpha_{00} \\alpha_{10} b + \\alpha_{00} \\alpha_{11} c + \\alpha_{01} \\alpha_{10} a b + \\alpha_{01} \\alpha_{11} a c + \\alpha_{10} \\alpha_{11} b c, \\quad \\alpha_{00} \\alpha_{01} \\alpha_{10} a b + \\alpha_{00} \\alpha_{01} \\alpha_{11} a c + \\alpha_{00} \\alpha_{10} \\alpha_{11} b c + \\alpha_{01} \\alpha_{10} \\alpha_{11} a b c, \\quad \\alpha_{00} \\alpha_{01} \\alpha_{10} \\alpha_{11} a b c\\right ]$$"
      ],
      "text/plain": [
       "[1, \\alpha_{00} + \\alpha_{01}⋅a + \\alpha_{10}⋅b + \\alpha_{11}⋅c, \\alpha_{00}⋅\\\n",
       "alpha_{01}⋅a + \\alpha_{00}⋅\\alpha_{10}⋅b + \\alpha_{00}⋅\\alpha_{11}⋅c + \\alpha_\n",
       "{01}⋅\\alpha_{10}⋅a⋅b + \\alpha_{01}⋅\\alpha_{11}⋅a⋅c + \\alpha_{10}⋅\\alpha_{11}⋅b\n",
       "⋅c, \\alpha_{00}⋅\\alpha_{01}⋅\\alpha_{10}⋅a⋅b + \\alpha_{00}⋅\\alpha_{01}⋅\\alpha_{\n",
       "11}⋅a⋅c + \\alpha_{00}⋅\\alpha_{10}⋅\\alpha_{11}⋅b⋅c + \\alpha_{01}⋅\\alpha_{10}⋅\\a\n",
       "lpha_{11}⋅a⋅b⋅c, \\alpha_{00}⋅\\alpha_{01}⋅\\alpha_{10}⋅\\alpha_{11}⋅a⋅b⋅c]"
      ]
     },
     "execution_count": 20,
     "metadata": {},
     "output_type": "execute_result"
    }
   ],
   "source": [
    "coeffs = [ coeff.expand() for coeff in p_.expand().as_poly(y).coeffs() ]\n",
    "coeffs"
   ]
  },
  {
   "cell_type": "code",
   "execution_count": 21,
   "metadata": {},
   "outputs": [],
   "source": [
    "co = coeffs[1]"
   ]
  },
  {
   "cell_type": "code",
   "execution_count": 22,
   "metadata": {},
   "outputs": [
    {
     "data": {
      "text/latex": [
       "$$\\alpha_{00} + \\alpha_{01} a + \\alpha_{10} b + \\alpha_{11} c$$"
      ],
      "text/plain": [
       "\\alpha_{00} + \\alpha_{01}⋅a + \\alpha_{10}⋅b + \\alpha_{11}⋅c"
      ]
     },
     "execution_count": 22,
     "metadata": {},
     "output_type": "execute_result"
    }
   ],
   "source": [
    "co"
   ]
  },
  {
   "cell_type": "code",
   "execution_count": 32,
   "metadata": {},
   "outputs": [],
   "source": [
    "# def reps(pp_):\n",
    "#     pp_.replace(mk_rt(1,1)*mk_rt(-1,1), sqrt(m**2-m-sqrt(m-gamma)))\n",
    "#     pp_.replace(mk_rt(-1,1)*mk_rt(1,1), sqrt(m**2-m-sqrt(m-gamma)))\n",
    "#     pp_.replace(mk_rt(1,-1)*mk_rt(-1,-1), sqrt(m**2-m+sqrt(m-gamma)))\n",
    "#     pp_.replace(mk_rt(-1,-1)*mk_rt(1,-1), sqrt(m**2-m+sqrt(m-gamma)))\n",
    "#     pp_.replace(mk_rt(1,1)*mk_rt(1,-1), sqrt(m**2+mk_rt(1)*mk_rt(-1)+m*(mk_rt(1)+mk_rt(-1))))\n",
    "#     pp_.replace(mk_rt(1,-1)*mk_rt(1,1), sqrt(m**2+mk_rt(1)*mk_rt(-1)+m*(mk_rt(1)+mk_rt(-1))))\n",
    "#     pp_.replace(mk_rt(1,1)*mk_rt(-1,-1), sqrt(m**2-mk_rt(1)*mk_rt(-1)+m*(mk_rt(1)-mk_rt(-1))))\n",
    "#     pp_.replace(mk_rt(-1,-1)*mk_rt(1,1), sqrt(m**2-mk_rt(1)*mk_rt(-1)+m*(mk_rt(1)-mk_rt(-1))))\n",
    "#     return pp_\n",
    "\n",
    "def reps(pp_):\n",
    "    pp_ = pp_.replace(a_00*a_01, sqrt(m**2+m*(0+a_0+a_1)+a_0*a_1))\n",
    "    pp_ = pp_.replace(a_00*a_10, sqrt(m**2+m*(0+a_0-a_0)+a_0*a_0))\n",
    "    pp_ = pp_.replace(a_00*a_11, sqrt(m**2+m*(0+a_0-a_1)-a_0*a_1))\n",
    "    pp_ = pp_.replace(a_01*a_10, sqrt(m**2+m*(0+a_1-a_0)-a_1*a_0))\n",
    "    pp_ = pp_.replace(a_01*a_11, sqrt(m**2+m*(0+a_1-a_1)-a_1*a_1))\n",
    "    pp_ = pp_.replace(a_10*a_11, sqrt(m**2+m*(0-a_0-a_1)+a_1*a_1))\n",
    "    return pp_"
   ]
  },
  {
   "cell_type": "code",
   "execution_count": 33,
   "metadata": {},
   "outputs": [
    {
     "data": {
      "text/latex": [
       "$$\\alpha_{00}^{2} + 2 \\alpha_{00} \\alpha_{01} a + 2 \\alpha_{00} \\alpha_{10} b + 2 \\alpha_{00} \\alpha_{11} c + \\alpha_{01}^{2} a^{2} + 2 \\alpha_{01} \\alpha_{10} a b + 2 \\alpha_{01} \\alpha_{11} a c + \\alpha_{10}^{2} b^{2} + 2 \\alpha_{10} \\alpha_{11} b c + \\alpha_{11}^{2} c^{2}$$"
      ],
      "text/plain": [
       "           2                                                                  \n",
       "\\alpha_{00}  + 2⋅\\alpha_{00}⋅\\alpha_{01}⋅a + 2⋅\\alpha_{00}⋅\\alpha_{10}⋅b + 2⋅\\\n",
       "\n",
       "                                      2  2                                    \n",
       "alpha_{00}⋅\\alpha_{11}⋅c + \\alpha_{01} ⋅a  + 2⋅\\alpha_{01}⋅\\alpha_{10}⋅a⋅b + 2\n",
       "\n",
       "                                          2  2                                \n",
       "⋅\\alpha_{01}⋅\\alpha_{11}⋅a⋅c + \\alpha_{10} ⋅b  + 2⋅\\alpha_{10}⋅\\alpha_{11}⋅b⋅c\n",
       "\n",
       "              2  2\n",
       " + \\alpha_{11} ⋅c "
      ]
     },
     "execution_count": 33,
     "metadata": {},
     "output_type": "execute_result"
    }
   ],
   "source": [
    "reps((co*co).expand())"
   ]
  },
  {
   "cell_type": "code",
   "execution_count": 38,
   "metadata": {},
   "outputs": [
    {
     "data": {
      "text/latex": [
       "$$\\alpha_{00}^{2} + 2 \\alpha_{00} \\alpha_{01} a + 2 \\alpha_{00} \\alpha_{10} b + 2 \\alpha_{00} \\alpha_{11} c + \\alpha_{01}^{2} a^{2} + 2 \\alpha_{01} \\alpha_{10} a b + 2 \\alpha_{01} \\alpha_{11} a c + \\alpha_{10}^{2} b^{2} + 2 \\alpha_{10} \\alpha_{11} b c + \\alpha_{11}^{2} c^{2}$$"
      ],
      "text/plain": [
       "           2                                                                  \n",
       "\\alpha_{00}  + 2⋅\\alpha_{00}⋅\\alpha_{01}⋅a + 2⋅\\alpha_{00}⋅\\alpha_{10}⋅b + 2⋅\\\n",
       "\n",
       "                                      2  2                                    \n",
       "alpha_{00}⋅\\alpha_{11}⋅c + \\alpha_{01} ⋅a  + 2⋅\\alpha_{01}⋅\\alpha_{10}⋅a⋅b + 2\n",
       "\n",
       "                                          2  2                                \n",
       "⋅\\alpha_{01}⋅\\alpha_{11}⋅a⋅c + \\alpha_{10} ⋅b  + 2⋅\\alpha_{10}⋅\\alpha_{11}⋅b⋅c\n",
       "\n",
       "              2  2\n",
       " + \\alpha_{11} ⋅c "
      ]
     },
     "execution_count": 38,
     "metadata": {},
     "output_type": "execute_result"
    }
   ],
   "source": [
    "(co*co).expand().replace(a_00*a_01, x)"
   ]
  },
  {
   "cell_type": "code",
   "execution_count": null,
   "metadata": {},
   "outputs": [],
   "source": []
  }
 ],
 "metadata": {
  "kernelspec": {
   "display_name": "Python 3",
   "language": "python",
   "name": "python3"
  },
  "language_info": {
   "codemirror_mode": {
    "name": "ipython",
    "version": 3
   },
   "file_extension": ".py",
   "mimetype": "text/x-python",
   "name": "python",
   "nbconvert_exporter": "python",
   "pygments_lexer": "ipython3",
   "version": "3.6.2"
  }
 },
 "nbformat": 4,
 "nbformat_minor": 2
}

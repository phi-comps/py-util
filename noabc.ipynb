{
 "cells": [
  {
   "cell_type": "code",
   "execution_count": 3,
   "metadata": {},
   "outputs": [],
   "source": [
    "import itertools\n",
    "\n",
    "import sympy as sy\n",
    "from sympy import Symbol, Eq, Rational, sqrt, solve\n",
    "from sympy.abc import a, b, c, d, e, f, g, h, m, x, y, alpha, beta, gamma\n",
    "\n",
    "from IPython.display import display, Latex\n",
    "\n",
    "from util import *\n",
    "from transform import *\n",
    "from ec import EllipticCurve, Point\n",
    "\n",
    "__all__ = [\n",
    "    'gammas_at',\n",
    "    'gammas',\n",
    "    'gamma_nice',\n",
    "    'gamma',\n",
    "    'beta',\n",
    "    'beta_',\n",
    "    'aa_',\n",
    "    'bb_',\n",
    "    'qq',\n",
    "    'factor',\n",
    "    'check_newly',\n",
    "    'up55',\n",
    "    'lo55',\n",
    "    'nice',\n",
    "    ]\n",
    "\n",
    "for subscript in range(10):\n",
    "    for var in 'abcdefgh':\n",
    "        name = '{}{}'.format(var, subscript)\n",
    "        globals()[name] = Symbol(name)\n",
    "\n",
    "def displ(*x):\n",
    "    if __name__ == '__main__':\n",
    "        display(*x)\n",
    "\n",
    "def show(eqs):\n",
    "    displ(Latex('\\n'.join(\n",
    "        [r'\\begin{align}']\n",
    "        + list(r'{} &= {} \\\\'.format(sy.latex(eq.lhs), sy.latex(eq.rhs)) for eq in eqs)\n",
    "        + [r'\\end{align}']\n",
    "    )))"
   ]
  },
  {
   "cell_type": "code",
   "execution_count": 4,
   "metadata": {},
   "outputs": [],
   "source": [
    "def binseqs(n):\n",
    "    if n == 0:\n",
    "        yield ()\n",
    "    else:\n",
    "        for seq in binseqs(n - 1):\n",
    "            yield seq + (0,)\n",
    "            yield seq + (1,)\n",
    "\n",
    "for n in range(4):\n",
    "    for seq in binseqs(n):\n",
    "        s = ''.join(map(str, seq))\n",
    "        globals()['a_' + s] = Symbol('\\\\alpha_{' + s + '}')"
   ]
  },
  {
   "cell_type": "code",
   "execution_count": 5,
   "metadata": {},
   "outputs": [],
   "source": [
    "def mk_rt(*signs):\n",
    "    acc = sqrt(m-gamma)\n",
    "    for sign in reversed(signs):\n",
    "        acc = sqrt(m + sign*acc)\n",
    "    return acc"
   ]
  },
  {
   "cell_type": "code",
   "execution_count": 26,
   "metadata": {},
   "outputs": [
    {
     "data": {
      "text/latex": [
       "$$\\sqrt{m - \\sqrt{m - \\sqrt{m - \\sqrt{- \\gamma + m}}}}$$"
      ],
      "text/plain": [
       "     ___________________________________\n",
       "    ╱         _________________________ \n",
       "   ╱         ╱        ________________  \n",
       "  ╱         ╱        ╱       ________   \n",
       "╲╱    m - ╲╱   m - ╲╱  m - ╲╱ -γ + m    "
      ]
     },
     "execution_count": 26,
     "metadata": {},
     "output_type": "execute_result"
    }
   ],
   "source": [
    "mk_rt(-1, -1, -1)"
   ]
  },
  {
   "cell_type": "code",
   "execution_count": 89,
   "metadata": {},
   "outputs": [
    {
     "data": {
      "text/latex": [
       "$$1$$"
      ],
      "text/plain": [
       "1"
      ]
     },
     "metadata": {},
     "output_type": "display_data"
    },
    {
     "data": {
      "text/plain": [
       "''"
      ]
     },
     "metadata": {},
     "output_type": "display_data"
    },
    {
     "data": {
      "text/latex": [
       "$$a \\sqrt{m + \\sqrt{m + \\sqrt{- \\gamma + m}}} + b \\sqrt{m + \\sqrt{m - \\sqrt{- \\gamma + m}}} + c \\sqrt{m - \\sqrt{m + \\sqrt{- \\gamma + m}}} + d \\sqrt{m - \\sqrt{m - \\sqrt{- \\gamma + m}}}$$"
      ],
      "text/plain": [
       "      _________________________         _________________________         ____\n",
       "     ╱        ________________         ╱        ________________         ╱    \n",
       "    ╱        ╱       ________         ╱        ╱       ________         ╱     \n",
       "a⋅╲╱   m + ╲╱  m + ╲╱ -γ + m    + b⋅╲╱   m + ╲╱  m - ╲╱ -γ + m    + c⋅╲╱   m -\n",
       "\n",
       "_____________________         _________________________\n",
       "    ________________         ╱        ________________ \n",
       "   ╱       ________         ╱        ╱       ________  \n",
       " ╲╱  m + ╲╱ -γ + m    + d⋅╲╱   m - ╲╱  m - ╲╱ -γ + m   "
      ]
     },
     "metadata": {},
     "output_type": "display_data"
    },
    {
     "data": {
      "text/plain": [
       "''"
      ]
     },
     "metadata": {},
     "output_type": "display_data"
    },
    {
     "data": {
      "text/latex": [
       "$$a b \\sqrt{m + \\sqrt{m - \\sqrt{- \\gamma + m}}} \\sqrt{m + \\sqrt{m + \\sqrt{- \\gamma + m}}} + a c \\sqrt{m - \\sqrt{m + \\sqrt{- \\gamma + m}}} \\sqrt{m + \\sqrt{m + \\sqrt{- \\gamma + m}}} + a d \\sqrt{m - \\sqrt{m - \\sqrt{- \\gamma + m}}} \\sqrt{m + \\sqrt{m + \\sqrt{- \\gamma + m}}} + b c \\sqrt{m + \\sqrt{m - \\sqrt{- \\gamma + m}}} \\sqrt{m - \\sqrt{m + \\sqrt{- \\gamma + m}}} + b d \\sqrt{m - \\sqrt{m - \\sqrt{- \\gamma + m}}} \\sqrt{m + \\sqrt{m - \\sqrt{- \\gamma + m}}} + c d \\sqrt{m - \\sqrt{m - \\sqrt{- \\gamma + m}}} \\sqrt{m - \\sqrt{m + \\sqrt{- \\gamma + m}}}$$"
      ],
      "text/plain": [
       "        _________________________     _________________________           ____\n",
       "       ╱        ________________     ╱        ________________           ╱    \n",
       "      ╱        ╱       ________     ╱        ╱       ________           ╱     \n",
       "a⋅b⋅╲╱   m + ╲╱  m - ╲╱ -γ + m   ⋅╲╱   m + ╲╱  m + ╲╱ -γ + m    + a⋅c⋅╲╱   m -\n",
       "\n",
       "_____________________     _________________________           ________________\n",
       "    ________________     ╱        ________________           ╱        ________\n",
       "   ╱       ________     ╱        ╱       ________           ╱        ╱       _\n",
       " ╲╱  m + ╲╱ -γ + m   ⋅╲╱   m + ╲╱  m + ╲╱ -γ + m    + a⋅d⋅╲╱   m - ╲╱  m - ╲╱ \n",
       "\n",
       "_________     _________________________           _________________________   \n",
       "________     ╱        ________________           ╱        ________________    \n",
       "_______     ╱        ╱       ________           ╱        ╱       ________     \n",
       "-γ + m   ⋅╲╱   m + ╲╱  m + ╲╱ -γ + m    + b⋅c⋅╲╱   m + ╲╱  m - ╲╱ -γ + m   ⋅╲╱\n",
       "\n",
       "  _________________________           _________________________     __________\n",
       " ╱        ________________           ╱        ________________     ╱        __\n",
       "╱        ╱       ________           ╱        ╱       ________     ╱        ╱  \n",
       "   m - ╲╱  m + ╲╱ -γ + m    + b⋅d⋅╲╱   m - ╲╱  m - ╲╱ -γ + m   ⋅╲╱   m + ╲╱  m\n",
       "\n",
       "_______________           _________________________     ______________________\n",
       "______________           ╱        ________________     ╱        ______________\n",
       "     ________           ╱        ╱       ________     ╱        ╱       _______\n",
       " - ╲╱ -γ + m    + c⋅d⋅╲╱   m - ╲╱  m - ╲╱ -γ + m   ⋅╲╱   m - ╲╱  m + ╲╱ -γ + m\n",
       "\n",
       "___\n",
       "__ \n",
       "_  \n",
       "   "
      ]
     },
     "metadata": {},
     "output_type": "display_data"
    },
    {
     "data": {
      "text/plain": [
       "''"
      ]
     },
     "metadata": {},
     "output_type": "display_data"
    },
    {
     "data": {
      "text/latex": [
       "$$a b c \\sqrt{m + \\sqrt{m - \\sqrt{- \\gamma + m}}} \\sqrt{m - \\sqrt{m + \\sqrt{- \\gamma + m}}} \\sqrt{m + \\sqrt{m + \\sqrt{- \\gamma + m}}} + a b d \\sqrt{m - \\sqrt{m - \\sqrt{- \\gamma + m}}} \\sqrt{m + \\sqrt{m - \\sqrt{- \\gamma + m}}} \\sqrt{m + \\sqrt{m + \\sqrt{- \\gamma + m}}} + a c d \\sqrt{m - \\sqrt{m - \\sqrt{- \\gamma + m}}} \\sqrt{m - \\sqrt{m + \\sqrt{- \\gamma + m}}} \\sqrt{m + \\sqrt{m + \\sqrt{- \\gamma + m}}} + b c d \\sqrt{m - \\sqrt{m - \\sqrt{- \\gamma + m}}} \\sqrt{m + \\sqrt{m - \\sqrt{- \\gamma + m}}} \\sqrt{m - \\sqrt{m + \\sqrt{- \\gamma + m}}}$$"
      ],
      "text/plain": [
       "          _________________________     _________________________     ________\n",
       "         ╱        ________________     ╱        ________________     ╱        \n",
       "        ╱        ╱       ________     ╱        ╱       ________     ╱        ╱\n",
       "a⋅b⋅c⋅╲╱   m + ╲╱  m - ╲╱ -γ + m   ⋅╲╱   m - ╲╱  m + ╲╱ -γ + m   ⋅╲╱   m + ╲╱ \n",
       "\n",
       "_________________             _________________________     __________________\n",
       "________________             ╱        ________________     ╱        __________\n",
       "       ________             ╱        ╱       ________     ╱        ╱       ___\n",
       " m + ╲╱ -γ + m    + a⋅b⋅d⋅╲╱   m - ╲╱  m - ╲╱ -γ + m   ⋅╲╱   m + ╲╱  m - ╲╱ -γ\n",
       "\n",
       "_______     _________________________             _________________________   \n",
       "______     ╱        ________________             ╱        ________________    \n",
       "_____     ╱        ╱       ________             ╱        ╱       ________     \n",
       " + m   ⋅╲╱   m + ╲╱  m + ╲╱ -γ + m    + a⋅c⋅d⋅╲╱   m - ╲╱  m - ╲╱ -γ + m   ⋅╲╱\n",
       "\n",
       "  _________________________     _________________________             ________\n",
       " ╱        ________________     ╱        ________________             ╱        \n",
       "╱        ╱       ________     ╱        ╱       ________             ╱        ╱\n",
       "   m - ╲╱  m + ╲╱ -γ + m   ⋅╲╱   m + ╲╱  m + ╲╱ -γ + m    + b⋅c⋅d⋅╲╱   m - ╲╱ \n",
       "\n",
       "_________________     _________________________     _________________________\n",
       "________________     ╱        ________________     ╱        ________________ \n",
       "       ________     ╱        ╱       ________     ╱        ╱       ________  \n",
       " m - ╲╱ -γ + m   ⋅╲╱   m + ╲╱  m - ╲╱ -γ + m   ⋅╲╱   m - ╲╱  m + ╲╱ -γ + m   "
      ]
     },
     "metadata": {},
     "output_type": "display_data"
    },
    {
     "data": {
      "text/plain": [
       "''"
      ]
     },
     "metadata": {},
     "output_type": "display_data"
    },
    {
     "data": {
      "text/latex": [
       "$$a b c d \\sqrt{m - \\sqrt{m - \\sqrt{- \\gamma + m}}} \\sqrt{m + \\sqrt{m - \\sqrt{- \\gamma + m}}} \\sqrt{m - \\sqrt{m + \\sqrt{- \\gamma + m}}} \\sqrt{m + \\sqrt{m + \\sqrt{- \\gamma + m}}}$$"
      ],
      "text/plain": [
       "            _________________________     _________________________     ______\n",
       "           ╱        ________________     ╱        ________________     ╱      \n",
       "          ╱        ╱       ________     ╱        ╱       ________     ╱       \n",
       "a⋅b⋅c⋅d⋅╲╱   m - ╲╱  m - ╲╱ -γ + m   ⋅╲╱   m + ╲╱  m - ╲╱ -γ + m   ⋅╲╱   m - ╲\n",
       "\n",
       "___________________     _________________________\n",
       "  ________________     ╱        ________________ \n",
       " ╱       ________     ╱        ╱       ________  \n",
       "╱  m + ╲╱ -γ + m   ⋅╲╱   m + ╲╱  m + ╲╱ -γ + m   "
      ]
     },
     "metadata": {},
     "output_type": "display_data"
    },
    {
     "data": {
      "text/plain": [
       "''"
      ]
     },
     "metadata": {},
     "output_type": "display_data"
    }
   ],
   "source": [
    "coeffs = ((x+a*mk_rt(1,1))*(x+b*mk_rt(1,-1))*(x+c*mk_rt(-1,1))*(x+d*mk_rt(-1,-1))).expand().as_poly(x).coeffs()\n",
    "for coeff in coeffs:\n",
    "    display(coeff)\n",
    "    display('')"
   ]
  },
  {
   "cell_type": "code",
   "execution_count": 23,
   "metadata": {},
   "outputs": [
    {
     "data": {
      "text/latex": [
       "$$\\left [ 1, \\quad \\alpha_{00} + \\alpha_{01} a + \\alpha_{10} b + \\alpha_{11} c, \\quad \\alpha_{00} \\alpha_{01} a + \\alpha_{00} \\alpha_{10} b + \\alpha_{00} \\alpha_{11} c + \\alpha_{01} \\alpha_{10} a b + \\alpha_{01} \\alpha_{11} a c + \\alpha_{10} \\alpha_{11} b c, \\quad \\alpha_{00} \\alpha_{01} \\alpha_{10} a b + \\alpha_{00} \\alpha_{01} \\alpha_{11} a c + \\alpha_{00} \\alpha_{10} \\alpha_{11} b c + \\alpha_{01} \\alpha_{10} \\alpha_{11} a b c, \\quad \\alpha_{00} \\alpha_{01} \\alpha_{10} \\alpha_{11} a b c\\right ]$$"
      ],
      "text/plain": [
       "[1, \\alpha_{00} + \\alpha_{01}⋅a + \\alpha_{10}⋅b + \\alpha_{11}⋅c, \\alpha_{00}⋅\\\n",
       "alpha_{01}⋅a + \\alpha_{00}⋅\\alpha_{10}⋅b + \\alpha_{00}⋅\\alpha_{11}⋅c + \\alpha_\n",
       "{01}⋅\\alpha_{10}⋅a⋅b + \\alpha_{01}⋅\\alpha_{11}⋅a⋅c + \\alpha_{10}⋅\\alpha_{11}⋅b\n",
       "⋅c, \\alpha_{00}⋅\\alpha_{01}⋅\\alpha_{10}⋅a⋅b + \\alpha_{00}⋅\\alpha_{01}⋅\\alpha_{\n",
       "11}⋅a⋅c + \\alpha_{00}⋅\\alpha_{10}⋅\\alpha_{11}⋅b⋅c + \\alpha_{01}⋅\\alpha_{10}⋅\\a\n",
       "lpha_{11}⋅a⋅b⋅c, \\alpha_{00}⋅\\alpha_{01}⋅\\alpha_{10}⋅\\alpha_{11}⋅a⋅b⋅c]"
      ]
     },
     "execution_count": 23,
     "metadata": {},
     "output_type": "execute_result"
    }
   ],
   "source": [
    "p_ = ((y + a_00)*(y + a*a_01)*(y + b*a_10)*(y + c*a_11)).expand()\n",
    "coeffs = [ coeff.expand() for coeff in p_.expand().as_poly(y).coeffs() ]\n",
    "coeffs"
   ]
  },
  {
   "cell_type": "code",
   "execution_count": 15,
   "metadata": {},
   "outputs": [],
   "source": [
    "co = coeffs[1]"
   ]
  },
  {
   "cell_type": "code",
   "execution_count": 16,
   "metadata": {},
   "outputs": [
    {
     "data": {
      "text/latex": [
       "$$\\alpha_{00} + \\alpha_{01} a + \\alpha_{10} b + \\alpha_{11} c$$"
      ],
      "text/plain": [
       "\\alpha_{00} + \\alpha_{01}⋅a + \\alpha_{10}⋅b + \\alpha_{11}⋅c"
      ]
     },
     "execution_count": 16,
     "metadata": {},
     "output_type": "execute_result"
    }
   ],
   "source": [
    "co"
   ]
  },
  {
   "cell_type": "code",
   "execution_count": 68,
   "metadata": {},
   "outputs": [],
   "source": [
    "# def reps(pp_):\n",
    "#     pp_.replace(mk_rt(1,1)*mk_rt(-1,1), sqrt(m**2-m-sqrt(m-gamma)))\n",
    "#     pp_.replace(mk_rt(-1,1)*mk_rt(1,1), sqrt(m**2-m-sqrt(m-gamma)))\n",
    "#     pp_.replace(mk_rt(1,-1)*mk_rt(-1,-1), sqrt(m**2-m+sqrt(m-gamma)))\n",
    "#     pp_.replace(mk_rt(-1,-1)*mk_rt(1,-1), sqrt(m**2-m+sqrt(m-gamma)))\n",
    "#     pp_.replace(mk_rt(1,1)*mk_rt(1,-1), sqrt(m**2+mk_rt(1)*mk_rt(-1)+m*(mk_rt(1)+mk_rt(-1))))\n",
    "#     pp_.replace(mk_rt(1,-1)*mk_rt(1,1), sqrt(m**2+mk_rt(1)*mk_rt(-1)+m*(mk_rt(1)+mk_rt(-1))))\n",
    "#     pp_.replace(mk_rt(1,1)*mk_rt(-1,-1), sqrt(m**2-mk_rt(1)*mk_rt(-1)+m*(mk_rt(1)-mk_rt(-1))))\n",
    "#     pp_.replace(mk_rt(-1,-1)*mk_rt(1,1), sqrt(m**2-mk_rt(1)*mk_rt(-1)+m*(mk_rt(1)-mk_rt(-1))))\n",
    "#     return pp_\n",
    "reps2 = [\n",
    "    (a_00*a_00, m+a_0),\n",
    "    (a_01*a_01, m+a_1),\n",
    "    (a_10*a_10, m-a_0),\n",
    "    (a_11*a_11, m-a_1),\n",
    "    (a_00*a_01, sqrt(m**2+m*(0+a_0+a_1)+a_0*a_1)),\n",
    "    (a_00*a_10, sqrt(m**2+m*(0+a_0-a_0)+a_0*a_0)),\n",
    "    (a_00*a_11, sqrt(m**2+m*(0+a_0-a_1)-a_0*a_1)),\n",
    "    (a_01*a_10, sqrt(m**2+m*(0+a_1-a_0)-a_1*a_0)),\n",
    "    (a_01*a_11, sqrt(m**2+m*(0+a_1-a_1)-a_1*a_1)),\n",
    "    (a_10*a_11, sqrt(m**2+m*(0-a_0-a_1)+a_1*a_1)),\n",
    "    ]\n",
    "\n",
    "reps1 = [\n",
    "    (a_0*a_0, m+sqrt(m-gamma)),\n",
    "    (a_1*a_1, m-sqrt(m-gamma)),\n",
    "    (a_0*a_1, sqrt(m*m-m+gamma)),\n",
    "    (a_1*a_0, sqrt(m*m-m+gamma)),\n",
    "    ]\n",
    "\n",
    "reps11 = [\n",
    "    (a_0, sqrt(m+sqrt(m-gamma))),\n",
    "    (a_1, sqrt(m-sqrt(m-gamma))),\n",
    "    ]\n",
    "\n",
    "repsp = [\n",
    "    ((m*(a_0-a_1)).expand(), m*sqrt(2*m-2*sqrt(m*m-m+gamma))),\n",
    "    ((m*(a_0+a_1)).expand(), m*sqrt(2*m+2*sqrt(m*m-m+gamma))),\n",
    "    ]\n",
    "\n",
    "repsc = [\n",
    "    (a*a, 1),\n",
    "    (b*b, 1),\n",
    "    (c*c, 1),\n",
    "    ]\n",
    "\n",
    "def reps(pp_):\n",
    "    pp_ = pp_.expand()\n",
    "    for old, new in reps2:\n",
    "        pp_ = (pp_ + pp_.coeff(old)*(new - old)).expand()\n",
    "    for old, new in reps1 + repsp + reps11 + repsc:\n",
    "        pp_ = pp_.subs(old, new).expand()\n",
    "    return pp_"
   ]
  },
  {
   "cell_type": "code",
   "execution_count": 69,
   "metadata": {},
   "outputs": [
    {
     "data": {
      "text/latex": [
       "$$2 a b \\sqrt{m^{2} - m \\sqrt{2 m - 2 \\sqrt{\\gamma + m^{2} - m}} - \\sqrt{\\gamma + m^{2} - m}} + 2 a c \\sqrt{m^{2} - m + \\sqrt{- \\gamma + m}} + 2 a \\sqrt{m^{2} + m \\sqrt{2 m + 2 \\sqrt{\\gamma + m^{2} - m}} + \\sqrt{\\gamma + m^{2} - m}} + 2 b c \\sqrt{m^{2} - m \\sqrt{2 m + 2 \\sqrt{\\gamma + m^{2} - m}} + m - \\sqrt{- \\gamma + m}} + 2 b \\sqrt{m^{2} + m + \\sqrt{- \\gamma + m}} + 2 c \\sqrt{m^{2} + m \\sqrt{2 m - 2 \\sqrt{\\gamma + m^{2} - m}} - \\sqrt{\\gamma + m^{2} - m}} + 4 m$$"
      ],
      "text/plain": [
       "           ________________________________________________________           \n",
       "          ╱            _________________________                              \n",
       "         ╱            ╱            ____________       ____________            \n",
       "        ╱    2       ╱            ╱      2           ╱      2                 \n",
       "2⋅a⋅b⋅╲╱    m  - m⋅╲╱   2⋅m - 2⋅╲╱  γ + m  - m   - ╲╱  γ + m  - m   + 2⋅a⋅c⋅╲╱\n",
       "\n",
       "                                  ____________________________________________\n",
       "                                 ╱            _________________________       \n",
       " _____________________          ╱            ╱            ____________       _\n",
       "╱  2         ________          ╱    2       ╱            ╱      2           ╱ \n",
       "  m  - m + ╲╱ -γ + m   + 2⋅a⋅╲╱    m  + m⋅╲╱   2⋅m + 2⋅╲╱  γ + m  - m   + ╲╱  \n",
       "\n",
       "____________              ____________________________________________________\n",
       "                         ╱            _________________________               \n",
       "___________             ╱            ╱            ____________                \n",
       "     2                 ╱    2       ╱            ╱      2               ______\n",
       "γ + m  - m   + 2⋅b⋅c⋅╲╱    m  - m⋅╲╱   2⋅m + 2⋅╲╱  γ + m  - m   + m - ╲╱ -γ + \n",
       "\n",
       "___                                           ________________________________\n",
       "                                             ╱            ____________________\n",
       "             _____________________          ╱            ╱            ________\n",
       "__          ╱  2         ________          ╱    2       ╱            ╱      2 \n",
       "m   + 2⋅b⋅╲╱  m  + m + ╲╱ -γ + m   + 2⋅c⋅╲╱    m  + m⋅╲╱   2⋅m - 2⋅╲╱  γ + m  \n",
       "\n",
       "________________________      \n",
       "_____                         \n",
       "____       ____________       \n",
       "          ╱      2            \n",
       "- m   - ╲╱  γ + m  - m   + 4⋅m"
      ]
     },
     "execution_count": 69,
     "metadata": {},
     "output_type": "execute_result"
    }
   ],
   "source": [
    "reps(co*co).subs(((a_0-a_1)).expand(), x)"
   ]
  },
  {
   "cell_type": "code",
   "execution_count": 32,
   "metadata": {},
   "outputs": [
    {
     "data": {
      "text/latex": [
       "$$\\alpha_{00}^{2} + 2 \\alpha_{00} \\alpha_{01} a + 2 \\alpha_{00} \\alpha_{10} b + 2 \\alpha_{00} \\alpha_{11} c + \\alpha_{01}^{2} a^{2} + 2 \\alpha_{01} \\alpha_{10} a b + 2 \\alpha_{01} \\alpha_{11} a c + \\alpha_{10}^{2} b^{2} + 2 \\alpha_{10} \\alpha_{11} b c + \\alpha_{11}^{2} c^{2}$$"
      ],
      "text/plain": [
       "           2                                                                  \n",
       "\\alpha_{00}  + 2⋅\\alpha_{00}⋅\\alpha_{01}⋅a + 2⋅\\alpha_{00}⋅\\alpha_{10}⋅b + 2⋅\\\n",
       "\n",
       "                                      2  2                                    \n",
       "alpha_{00}⋅\\alpha_{11}⋅c + \\alpha_{01} ⋅a  + 2⋅\\alpha_{01}⋅\\alpha_{10}⋅a⋅b + 2\n",
       "\n",
       "                                          2  2                                \n",
       "⋅\\alpha_{01}⋅\\alpha_{11}⋅a⋅c + \\alpha_{10} ⋅b  + 2⋅\\alpha_{10}⋅\\alpha_{11}⋅b⋅c\n",
       "\n",
       "              2  2\n",
       " + \\alpha_{11} ⋅c "
      ]
     },
     "execution_count": 32,
     "metadata": {},
     "output_type": "execute_result"
    }
   ],
   "source": [
    "pp_ = (co*co).expand()\n",
    "pp_"
   ]
  },
  {
   "cell_type": "code",
   "execution_count": 36,
   "metadata": {},
   "outputs": [
    {
     "data": {
      "text/latex": [
       "$$2 \\alpha_{00} \\alpha_{01} a + 2 \\alpha_{00} \\alpha_{10} b + 2 \\alpha_{00} \\alpha_{11} c + \\alpha_{01}^{2} a^{2} + 2 \\alpha_{01} \\alpha_{10} a b + 2 \\alpha_{01} \\alpha_{11} a c + \\alpha_{10}^{2} b^{2} + 2 \\alpha_{10} \\alpha_{11} b c + \\alpha_{11}^{2} c^{2} + x$$"
      ],
      "text/plain": [
       "                                                                              \n",
       "2⋅\\alpha_{00}⋅\\alpha_{01}⋅a + 2⋅\\alpha_{00}⋅\\alpha_{10}⋅b + 2⋅\\alpha_{00}⋅\\alp\n",
       "\n",
       "                       2  2                                                   \n",
       "ha_{11}⋅c + \\alpha_{01} ⋅a  + 2⋅\\alpha_{01}⋅\\alpha_{10}⋅a⋅b + 2⋅\\alpha_{01}⋅\\a\n",
       "\n",
       "                           2  2                                              2\n",
       "lpha_{11}⋅a⋅c + \\alpha_{10} ⋅b  + 2⋅\\alpha_{10}⋅\\alpha_{11}⋅b⋅c + \\alpha_{11} \n",
       "\n",
       "  2    \n",
       "⋅c  + x"
      ]
     },
     "execution_count": 36,
     "metadata": {},
     "output_type": "execute_result"
    }
   ],
   "source": [
    "pp_ + pp_.coeff(a_00*a_00)*(x-a_00*a_00)"
   ]
  },
  {
   "cell_type": "code",
   "execution_count": 10,
   "metadata": {},
   "outputs": [],
   "source": [
    "aaa = 2*x*y + x + m*y"
   ]
  },
  {
   "cell_type": "code",
   "execution_count": 11,
   "metadata": {},
   "outputs": [
    {
     "data": {
      "text/latex": [
       "$$2$$"
      ],
      "text/plain": [
       "2"
      ]
     },
     "execution_count": 11,
     "metadata": {},
     "output_type": "execute_result"
    }
   ],
   "source": [
    "aaa.coeff(x*y)"
   ]
  },
  {
   "cell_type": "code",
   "execution_count": 12,
   "metadata": {},
   "outputs": [
    {
     "ename": "NameError",
     "evalue": "name 'co' is not defined",
     "output_type": "error",
     "traceback": [
      "\u001b[0;31m---------------------------------------------------------------------------\u001b[0m",
      "\u001b[0;31mNameError\u001b[0m                                 Traceback (most recent call last)",
      "\u001b[0;32m<ipython-input-12-e1343f7229e0>\u001b[0m in \u001b[0;36m<module>\u001b[0;34m()\u001b[0m\n\u001b[0;32m----> 1\u001b[0;31m \u001b[0mco\u001b[0m\u001b[0;34m\u001b[0m\u001b[0m\n\u001b[0m",
      "\u001b[0;31mNameError\u001b[0m: name 'co' is not defined"
     ]
    }
   ],
   "source": [
    "co"
   ]
  },
  {
   "cell_type": "code",
   "execution_count": 70,
   "metadata": {},
   "outputs": [
    {
     "data": {
      "text/latex": [
       "$$\\sqrt{x}$$"
      ],
      "text/plain": [
       "√x"
      ]
     },
     "execution_count": 70,
     "metadata": {},
     "output_type": "execute_result"
    }
   ],
   "source": [
    "sqrt(x)"
   ]
  },
  {
   "cell_type": "code",
   "execution_count": null,
   "metadata": {},
   "outputs": [],
   "source": []
  }
 ],
 "metadata": {
  "kernelspec": {
   "display_name": "Python 3",
   "language": "python",
   "name": "python3"
  },
  "language_info": {
   "codemirror_mode": {
    "name": "ipython",
    "version": 3
   },
   "file_extension": ".py",
   "mimetype": "text/x-python",
   "name": "python",
   "nbconvert_exporter": "python",
   "pygments_lexer": "ipython3",
   "version": "3.6.4"
  }
 },
 "nbformat": 4,
 "nbformat_minor": 2
}

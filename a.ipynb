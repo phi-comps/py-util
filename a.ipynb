{
 "cells": [
  {
   "cell_type": "code",
   "execution_count": 7,
   "metadata": {},
   "outputs": [
    {
     "data": {
      "text/latex": [
       "$$\\operatorname{Poly}{\\left( 3 a^{2} m x^{2} + 3 a^{2} x^{5} + 6 a m x^{4} + a m + 3 a x^{7} + \\gamma + m^{3} + 3 m x^{6} + m + x^{9} + x^{3} \\left(a^{3} + a + 3 m^{2}\\right) + x \\left(a^{2} + 3 a m^{2}\\right), x, domain=\\mathbb{Z}\\left[a, m, \\gamma\\right] \\right)}$$"
      ],
      "text/plain": [
       "Poly(x**9 + 3*a*x**7 + 3*m*x**6 + 3*a**2*x**5 + 6*a*m*x**4 + (a**3 + a + 3*m**\n",
       "2)*x**3 + 3*a**2*m*x**2 + (a**2 + 3*a*m**2)*x + a*m + gamma + m**3 + m, x, dom\n",
       "ain='ZZ[a,m,gamma]')"
      ]
     },
     "execution_count": 7,
     "metadata": {},
     "output_type": "execute_result"
    }
   ],
   "source": [
    "# import sympy as sy\n",
    "from sympy import Symbol, Eq, Rational, sqrt, solve\n",
    "from sympy.abc import a, b, c, d, m, x, y, alpha, beta, gamma, kappa\n",
    "from IPython.display import display, Latex\n",
    "\n",
    "from util import *\n",
    "from transform import *\n",
    "\n",
    "f_ = xg**3+a*xg+m+gamma\n",
    "f = f_.subs(xg, x-gamma)\n",
    "ff = f_.subs(xg, f_-gamma).expand().subs(xg,x)\n",
    "p = ff.as_poly(x)\n",
    "p"
   ]
  },
  {
   "cell_type": "code",
   "execution_count": 34,
   "metadata": {},
   "outputs": [
    {
     "data": {
      "text/latex": [
       "$$\\gamma + m^{3} + 2 m^{2} + m$$"
      ],
      "text/plain": [
       "     3      2    \n",
       "γ + m  + 2⋅m  + m"
      ]
     },
     "execution_count": 34,
     "metadata": {},
     "output_type": "execute_result"
    }
   ],
   "source": [
    "q.subs(a,2*m).factor()"
   ]
  },
  {
   "cell_type": "code",
   "execution_count": 37,
   "metadata": {},
   "outputs": [
    {
     "data": {
      "text/latex": [
       "$$\\gamma + 8 m^{3} x^{3} + 12 m^{3} x^{2} + 6 m^{3} x + m^{3} + 12 m^{2} x^{5} + 12 m^{2} x^{4} + 3 m^{2} x^{3} + 4 m^{2} x + 2 m^{2} + 6 m x^{7} + 3 m x^{6} + 2 m x^{3} + m + x^{9}$$"
      ],
      "text/plain": [
       "       3  3       3  2      3      3       2  5       2  4      2  3      2   \n",
       "γ + 8⋅m ⋅x  + 12⋅m ⋅x  + 6⋅m ⋅x + m  + 12⋅m ⋅x  + 12⋅m ⋅x  + 3⋅m ⋅x  + 4⋅m ⋅x \n",
       "\n",
       "     2        7        6        3        9\n",
       "+ 2⋅m  + 6⋅m⋅x  + 3⋅m⋅x  + 2⋅m⋅x  + m + x "
      ]
     },
     "execution_count": 37,
     "metadata": {},
     "output_type": "execute_result"
    }
   ],
   "source": [
    "ff.subs(a,2*m).simplify()"
   ]
  },
  {
   "cell_type": "code",
   "execution_count": 38,
   "metadata": {},
   "outputs": [],
   "source": [
    "def delta(var):\n",
    "    return sqrt(-3*var**2-4*a)"
   ]
  },
  {
   "cell_type": "code",
   "execution_count": 42,
   "metadata": {},
   "outputs": [],
   "source": [
    "def r_p(var):\n",
    "    return (-var+delta(var))/2\n",
    "def r_m(var):\n",
    "    return (-var-delta(var))/2"
   ]
  },
  {
   "cell_type": "code",
   "execution_count": 46,
   "metadata": {},
   "outputs": [],
   "source": [
    "for subscript in range(10):\n",
    "    globals()['b{}'.format(subscript)] = Symbol('beta{}'.format(subscript))"
   ]
  },
  {
   "cell_type": "code",
   "execution_count": 64,
   "metadata": {},
   "outputs": [],
   "source": [
    "fact1=(x-r_p(b1))*(x-r_p(b2))*(x-r_p(b3))\n",
    "fact2=(x-r_m(b1))*(x-r_m(b2))*(x-r_m(b3))"
   ]
  },
  {
   "cell_type": "code",
   "execution_count": 68,
   "metadata": {},
   "outputs": [
    {
     "data": {
      "text/latex": [
       "$$\\operatorname{Poly}{\\left( - \\frac{\\beta_{1} \\beta_{2}}{4} \\sqrt{- 4 a - 3 \\beta_{3}^{2}} - \\frac{\\beta_{1} \\beta_{3}}{4} \\sqrt{- 4 a - 3 \\beta_{2}^{2}} - \\frac{\\beta_{2} \\beta_{3}}{4} \\sqrt{- 4 a - 3 \\beta_{1}^{2}} + x^{2} \\left(- \\sqrt{- 4 a - 3 \\beta_{1}^{2}} - \\sqrt{- 4 a - 3 \\beta_{2}^{2}} - \\sqrt{- 4 a - 3 \\beta_{3}^{2}}\\right) + x \\left(- \\frac{\\beta_{1}}{2} \\sqrt{- 4 a - 3 \\beta_{2}^{2}} - \\frac{\\beta_{1}}{2} \\sqrt{- 4 a - 3 \\beta_{3}^{2}} - \\frac{\\beta_{2}}{2} \\sqrt{- 4 a - 3 \\beta_{1}^{2}} - \\frac{\\beta_{2}}{2} \\sqrt{- 4 a - 3 \\beta_{3}^{2}} - \\frac{\\beta_{3}}{2} \\sqrt{- 4 a - 3 \\beta_{1}^{2}} - \\frac{\\beta_{3}}{2} \\sqrt{- 4 a - 3 \\beta_{2}^{2}}\\right) - \\frac{1}{4} \\sqrt{- 4 a - 3 \\beta_{1}^{2}} \\sqrt{- 4 a - 3 \\beta_{2}^{2}} \\sqrt{- 4 a - 3 \\beta_{3}^{2}}, x, domain=EX \\right)}$$"
      ],
      "text/plain": [
       "Poly((-sqrt(-4*a - 3*beta1**2) - sqrt(-4*a - 3*beta2**2) - sqrt(-4*a - 3*beta3\n",
       "**2))*x**2 + (-beta1*sqrt(-4*a - 3*beta2**2)/2 - beta1*sqrt(-4*a - 3*beta3**2)\n",
       "/2 - beta2*sqrt(-4*a - 3*beta1**2)/2 - beta2*sqrt(-4*a - 3*beta3**2)/2 - beta3\n",
       "*sqrt(-4*a - 3*beta1**2)/2 - beta3*sqrt(-4*a - 3*beta2**2)/2)*x - beta1*beta2*\n",
       "sqrt(-4*a - 3*beta3**2)/4 - beta1*beta3*sqrt(-4*a - 3*beta2**2)/4 - beta2*beta\n",
       "3*sqrt(-4*a - 3*beta1**2)/4 - sqrt(-4*a - 3*beta1**2)*sqrt(-4*a - 3*beta2**2)*\n",
       "sqrt(-4*a - 3*beta3**2)/4, x, domain='EX')"
      ]
     },
     "execution_count": 68,
     "metadata": {},
     "output_type": "execute_result"
    }
   ],
   "source": [
    "(fact1.expand()-fact2.expand()).as_poly(x)"
   ]
  },
  {
   "cell_type": "code",
   "execution_count": 69,
   "metadata": {},
   "outputs": [
    {
     "data": {
      "text/latex": [
       "$$\\left [ - \\sqrt{- 4 a - 3 \\beta_{1}^{2}} - \\sqrt{- 4 a - 3 \\beta_{2}^{2}} - \\sqrt{- 4 a - 3 \\beta_{3}^{2}}, \\quad - \\frac{\\beta_{1}}{2} \\sqrt{- 4 a - 3 \\beta_{2}^{2}} - \\frac{\\beta_{1}}{2} \\sqrt{- 4 a - 3 \\beta_{3}^{2}} - \\frac{\\beta_{2}}{2} \\sqrt{- 4 a - 3 \\beta_{1}^{2}} - \\frac{\\beta_{2}}{2} \\sqrt{- 4 a - 3 \\beta_{3}^{2}} - \\frac{\\beta_{3}}{2} \\sqrt{- 4 a - 3 \\beta_{1}^{2}} - \\frac{\\beta_{3}}{2} \\sqrt{- 4 a - 3 \\beta_{2}^{2}}, \\quad - \\frac{\\beta_{1} \\beta_{2}}{4} \\sqrt{- 4 a - 3 \\beta_{3}^{2}} - \\frac{\\beta_{1} \\beta_{3}}{4} \\sqrt{- 4 a - 3 \\beta_{2}^{2}} - \\frac{\\beta_{2} \\beta_{3}}{4} \\sqrt{- 4 a - 3 \\beta_{1}^{2}} - \\frac{1}{4} \\sqrt{- 4 a - 3 \\beta_{1}^{2}} \\sqrt{- 4 a - 3 \\beta_{2}^{2}} \\sqrt{- 4 a - 3 \\beta_{3}^{2}}\\right ]$$"
      ],
      "text/plain": [
       "⎡                                                                     ________\n",
       "⎢     ______________      ______________      ______________         ╱        \n",
       "⎢    ╱            2      ╱            2      ╱            2     β₁⋅╲╱  -4⋅a - \n",
       "⎢- ╲╱  -4⋅a - 3⋅β₁   - ╲╱  -4⋅a - 3⋅β₂   - ╲╱  -4⋅a - 3⋅β₃  , - ──────────────\n",
       "⎣                                                                        2    \n",
       "\n",
       "______         ______________         ______________         ______________   \n",
       "    2         ╱            2         ╱            2         ╱            2    \n",
       "3⋅β₂     β₁⋅╲╱  -4⋅a - 3⋅β₃     β₂⋅╲╱  -4⋅a - 3⋅β₁     β₂⋅╲╱  -4⋅a - 3⋅β₃     \n",
       "────── - ──────────────────── - ──────────────────── - ──────────────────── - \n",
       "                  2                      2                      2             \n",
       "\n",
       "      ______________         ______________             ______________        \n",
       "     ╱            2         ╱            2             ╱            2         \n",
       "β₃⋅╲╱  -4⋅a - 3⋅β₁     β₃⋅╲╱  -4⋅a - 3⋅β₂      β₁⋅β₂⋅╲╱  -4⋅a - 3⋅β₃     β₁⋅β₃\n",
       "──────────────────── - ────────────────────, - ─────────────────────── - ─────\n",
       "         2                      2                         4                   \n",
       "\n",
       "    ______________            ______________      ______________    __________\n",
       "   ╱            2            ╱            2      ╱            2    ╱          \n",
       "⋅╲╱  -4⋅a - 3⋅β₂     β₂⋅β₃⋅╲╱  -4⋅a - 3⋅β₁     ╲╱  -4⋅a - 3⋅β₁  ⋅╲╱  -4⋅a - 3⋅\n",
       "────────────────── - ─────────────────────── - ───────────────────────────────\n",
       "      4                         4                                        4    \n",
       "\n",
       "____    ______________⎤\n",
       "  2    ╱            2 ⎥\n",
       "β₂  ⋅╲╱  -4⋅a - 3⋅β₃  ⎥\n",
       "──────────────────────⎥\n",
       "                      ⎦"
      ]
     },
     "execution_count": 69,
     "metadata": {},
     "output_type": "execute_result"
    }
   ],
   "source": [
    "(fact1.expand()-fact2.expand()).as_poly(x).coeffs()"
   ]
  },
  {
   "cell_type": "code",
   "execution_count": 74,
   "metadata": {},
   "outputs": [
    {
     "data": {
      "text/latex": [
       "$$\\left [ 2, \\quad \\beta_{1} + \\beta_{2} + \\beta_{3}, \\quad \\frac{\\beta_{1} \\beta_{2}}{2} + \\frac{\\beta_{1} \\beta_{3}}{2} + \\frac{\\beta_{2} \\beta_{3}}{2} + \\frac{1}{2} \\sqrt{- 4 a - 3 \\beta_{1}^{2}} \\sqrt{- 4 a - 3 \\beta_{2}^{2}} + \\frac{1}{2} \\sqrt{- 4 a - 3 \\beta_{1}^{2}} \\sqrt{- 4 a - 3 \\beta_{3}^{2}} + \\frac{1}{2} \\sqrt{- 4 a - 3 \\beta_{2}^{2}} \\sqrt{- 4 a - 3 \\beta_{3}^{2}}, \\quad \\frac{\\beta_{1} \\beta_{2}}{4} \\beta_{3} + \\frac{\\beta_{1}}{4} \\sqrt{- 4 a - 3 \\beta_{2}^{2}} \\sqrt{- 4 a - 3 \\beta_{3}^{2}} + \\frac{\\beta_{2}}{4} \\sqrt{- 4 a - 3 \\beta_{1}^{2}} \\sqrt{- 4 a - 3 \\beta_{3}^{2}} + \\frac{\\beta_{3}}{4} \\sqrt{- 4 a - 3 \\beta_{1}^{2}} \\sqrt{- 4 a - 3 \\beta_{2}^{2}}\\right ]$$"
      ],
      "text/plain": [
       "⎡                                            ______________    ______________ \n",
       "⎢                                           ╱            2    ╱            2  \n",
       "⎢                 β₁⋅β₂   β₁⋅β₃   β₂⋅β₃   ╲╱  -4⋅a - 3⋅β₁  ⋅╲╱  -4⋅a - 3⋅β₂   \n",
       "⎢2, β₁ + β₂ + β₃, ───── + ───── + ───── + ─────────────────────────────────── \n",
       "⎣                   2       2       2                      2                  \n",
       "\n",
       "     ______________    ______________      ______________    ______________   \n",
       "    ╱            2    ╱            2      ╱            2    ╱            2    \n",
       "  ╲╱  -4⋅a - 3⋅β₁  ⋅╲╱  -4⋅a - 3⋅β₃     ╲╱  -4⋅a - 3⋅β₂  ⋅╲╱  -4⋅a - 3⋅β₃    β\n",
       "+ ─────────────────────────────────── + ───────────────────────────────────, ─\n",
       "                   2                                     2                    \n",
       "\n",
       "                ______________    ______________         ______________    ___\n",
       "               ╱            2    ╱            2         ╱            2    ╱   \n",
       "₁⋅β₂⋅β₃   β₁⋅╲╱  -4⋅a - 3⋅β₂  ⋅╲╱  -4⋅a - 3⋅β₃     β₂⋅╲╱  -4⋅a - 3⋅β₁  ⋅╲╱  -4\n",
       "─────── + ────────────────────────────────────── + ───────────────────────────\n",
       "  4                         4                                        4        \n",
       "\n",
       "___________         ______________    ______________⎤\n",
       "         2         ╱            2    ╱            2 ⎥\n",
       "⋅a - 3⋅β₃     β₃⋅╲╱  -4⋅a - 3⋅β₁  ⋅╲╱  -4⋅a - 3⋅β₂  ⎥\n",
       "─────────── + ──────────────────────────────────────⎥\n",
       "                                4                   ⎦"
      ]
     },
     "execution_count": 74,
     "metadata": {},
     "output_type": "execute_result"
    }
   ],
   "source": [
    "(fact1.expand()+fact2.expand()).as_poly(x).coeffs()"
   ]
  },
  {
   "cell_type": "code",
   "execution_count": 76,
   "metadata": {},
   "outputs": [
    {
     "data": {
      "text/latex": [
       "$$\\left [ 2, \\quad \\beta_{1} + \\beta_{2} + \\beta_{3}, \\quad \\frac{\\beta_{1} \\beta_{2}}{2} + \\frac{\\beta_{1} \\beta_{3}}{2} + \\frac{\\beta_{2} \\beta_{3}}{2} - \\frac{1}{2} \\sqrt{- 4 a - 3 \\beta_{1}^{2}} \\sqrt{- 4 a - 3 \\beta_{2}^{2}} - \\frac{1}{2} \\sqrt{- 4 a - 3 \\beta_{1}^{2}} \\sqrt{- 4 a - 3 \\beta_{3}^{2}} + \\frac{1}{2} \\sqrt{- 4 a - 3 \\beta_{2}^{2}} \\sqrt{- 4 a - 3 \\beta_{3}^{2}}, \\quad \\frac{\\beta_{1} \\beta_{2}}{4} \\beta_{3} + \\frac{\\beta_{1}}{4} \\sqrt{- 4 a - 3 \\beta_{2}^{2}} \\sqrt{- 4 a - 3 \\beta_{3}^{2}} - \\frac{\\beta_{2}}{4} \\sqrt{- 4 a - 3 \\beta_{1}^{2}} \\sqrt{- 4 a - 3 \\beta_{3}^{2}} - \\frac{\\beta_{3}}{4} \\sqrt{- 4 a - 3 \\beta_{1}^{2}} \\sqrt{- 4 a - 3 \\beta_{2}^{2}}\\right ]$$"
      ],
      "text/plain": [
       "⎡                                            ______________    ______________ \n",
       "⎢                                           ╱            2    ╱            2  \n",
       "⎢                 β₁⋅β₂   β₁⋅β₃   β₂⋅β₃   ╲╱  -4⋅a - 3⋅β₁  ⋅╲╱  -4⋅a - 3⋅β₂   \n",
       "⎢2, β₁ + β₂ + β₃, ───── + ───── + ───── - ─────────────────────────────────── \n",
       "⎣                   2       2       2                      2                  \n",
       "\n",
       "     ______________    ______________      ______________    ______________   \n",
       "    ╱            2    ╱            2      ╱            2    ╱            2    \n",
       "  ╲╱  -4⋅a - 3⋅β₁  ⋅╲╱  -4⋅a - 3⋅β₃     ╲╱  -4⋅a - 3⋅β₂  ⋅╲╱  -4⋅a - 3⋅β₃    β\n",
       "- ─────────────────────────────────── + ───────────────────────────────────, ─\n",
       "                   2                                     2                    \n",
       "\n",
       "                ______________    ______________         ______________    ___\n",
       "               ╱            2    ╱            2         ╱            2    ╱   \n",
       "₁⋅β₂⋅β₃   β₁⋅╲╱  -4⋅a - 3⋅β₂  ⋅╲╱  -4⋅a - 3⋅β₃     β₂⋅╲╱  -4⋅a - 3⋅β₁  ⋅╲╱  -4\n",
       "─────── + ────────────────────────────────────── - ───────────────────────────\n",
       "  4                         4                                        4        \n",
       "\n",
       "___________         ______________    ______________⎤\n",
       "         2         ╱            2    ╱            2 ⎥\n",
       "⋅a - 3⋅β₃     β₃⋅╲╱  -4⋅a - 3⋅β₁  ⋅╲╱  -4⋅a - 3⋅β₂  ⎥\n",
       "─────────── - ──────────────────────────────────────⎥\n",
       "                                4                   ⎦"
      ]
     },
     "execution_count": 76,
     "metadata": {},
     "output_type": "execute_result"
    }
   ],
   "source": [
    "fact3=(x-r_m(b1))*(x-r_p(b2))*(x-r_p(b3))\n",
    "fact4=(x-r_p(b1))*(x-r_m(b2))*(x-r_m(b3))\n",
    "(fact3+fact4).expand().as_poly(x).coeffs()"
   ]
  },
  {
   "cell_type": "code",
   "execution_count": 77,
   "metadata": {},
   "outputs": [
    {
     "data": {
      "text/latex": [
       "$$\\left [ \\sqrt{- 4 a - 3 \\beta_{1}^{2}} - \\sqrt{- 4 a - 3 \\beta_{2}^{2}} - \\sqrt{- 4 a - 3 \\beta_{3}^{2}}, \\quad - \\frac{\\beta_{1}}{2} \\sqrt{- 4 a - 3 \\beta_{2}^{2}} - \\frac{\\beta_{1}}{2} \\sqrt{- 4 a - 3 \\beta_{3}^{2}} + \\frac{\\beta_{2}}{2} \\sqrt{- 4 a - 3 \\beta_{1}^{2}} - \\frac{\\beta_{2}}{2} \\sqrt{- 4 a - 3 \\beta_{3}^{2}} + \\frac{\\beta_{3}}{2} \\sqrt{- 4 a - 3 \\beta_{1}^{2}} - \\frac{\\beta_{3}}{2} \\sqrt{- 4 a - 3 \\beta_{2}^{2}}, \\quad - \\frac{\\beta_{1} \\beta_{2}}{4} \\sqrt{- 4 a - 3 \\beta_{3}^{2}} - \\frac{\\beta_{1} \\beta_{3}}{4} \\sqrt{- 4 a - 3 \\beta_{2}^{2}} + \\frac{\\beta_{2} \\beta_{3}}{4} \\sqrt{- 4 a - 3 \\beta_{1}^{2}} + \\frac{1}{4} \\sqrt{- 4 a - 3 \\beta_{1}^{2}} \\sqrt{- 4 a - 3 \\beta_{2}^{2}} \\sqrt{- 4 a - 3 \\beta_{3}^{2}}\\right ]$$"
      ],
      "text/plain": [
       "⎡                                                                   __________\n",
       "⎢   ______________      ______________      ______________         ╱          \n",
       "⎢  ╱            2      ╱            2      ╱            2     β₁⋅╲╱  -4⋅a - 3⋅\n",
       "⎢╲╱  -4⋅a - 3⋅β₁   - ╲╱  -4⋅a - 3⋅β₂   - ╲╱  -4⋅a - 3⋅β₃  , - ────────────────\n",
       "⎣                                                                      2      \n",
       "\n",
       "____         ______________         ______________         ______________     \n",
       "  2         ╱            2         ╱            2         ╱            2      \n",
       "β₂     β₁⋅╲╱  -4⋅a - 3⋅β₃     β₂⋅╲╱  -4⋅a - 3⋅β₁     β₂⋅╲╱  -4⋅a - 3⋅β₃     β₃\n",
       "──── - ──────────────────── + ──────────────────── - ──────────────────── + ──\n",
       "                2                      2                      2               \n",
       "\n",
       "    ______________         ______________             ______________          \n",
       "   ╱            2         ╱            2             ╱            2           \n",
       "⋅╲╱  -4⋅a - 3⋅β₁     β₃⋅╲╱  -4⋅a - 3⋅β₂      β₁⋅β₂⋅╲╱  -4⋅a - 3⋅β₃     β₁⋅β₃⋅╲\n",
       "────────────────── - ────────────────────, - ─────────────────────── - ───────\n",
       "       2                      2                         4                     \n",
       "\n",
       "  ______________            ______________      ______________    ____________\n",
       " ╱            2            ╱            2      ╱            2    ╱            \n",
       "╱  -4⋅a - 3⋅β₂     β₂⋅β₃⋅╲╱  -4⋅a - 3⋅β₁     ╲╱  -4⋅a - 3⋅β₁  ⋅╲╱  -4⋅a - 3⋅β₂\n",
       "──────────────── + ─────────────────────── + ─────────────────────────────────\n",
       "    4                         4                                        4      \n",
       "\n",
       "__    ______________⎤\n",
       "2    ╱            2 ⎥\n",
       "  ⋅╲╱  -4⋅a - 3⋅β₃  ⎥\n",
       "────────────────────⎥\n",
       "                    ⎦"
      ]
     },
     "execution_count": 77,
     "metadata": {},
     "output_type": "execute_result"
    }
   ],
   "source": [
    "(fact3-fact4).expand().as_poly(x).coeffs()"
   ]
  },
  {
   "cell_type": "code",
   "execution_count": 84,
   "metadata": {},
   "outputs": [],
   "source": [
    "c1=fact1.expand().as_poly(x).coeffs()[-1]\n",
    "c2=fact2.expand().as_poly(x).coeffs()[-1]"
   ]
  },
  {
   "cell_type": "code",
   "execution_count": 85,
   "metadata": {},
   "outputs": [
    {
     "data": {
      "text/latex": [
       "$$\\frac{\\beta_{1} \\beta_{2}}{8} \\beta_{3} - \\frac{\\beta_{1} \\beta_{2}}{8} \\sqrt{- 4 a - 3 \\beta_{3}^{2}} - \\frac{\\beta_{1} \\beta_{3}}{8} \\sqrt{- 4 a - 3 \\beta_{2}^{2}} + \\frac{\\beta_{1}}{8} \\sqrt{- 4 a - 3 \\beta_{2}^{2}} \\sqrt{- 4 a - 3 \\beta_{3}^{2}} - \\frac{\\beta_{2} \\beta_{3}}{8} \\sqrt{- 4 a - 3 \\beta_{1}^{2}} + \\frac{\\beta_{2}}{8} \\sqrt{- 4 a - 3 \\beta_{1}^{2}} \\sqrt{- 4 a - 3 \\beta_{3}^{2}} + \\frac{\\beta_{3}}{8} \\sqrt{- 4 a - 3 \\beta_{1}^{2}} \\sqrt{- 4 a - 3 \\beta_{2}^{2}} - \\frac{1}{8} \\sqrt{- 4 a - 3 \\beta_{1}^{2}} \\sqrt{- 4 a - 3 \\beta_{2}^{2}} \\sqrt{- 4 a - 3 \\beta_{3}^{2}}$$"
      ],
      "text/plain": [
       "                    ______________            ______________         _________\n",
       "                   ╱            2            ╱            2         ╱         \n",
       "β₁⋅β₂⋅β₃   β₁⋅β₂⋅╲╱  -4⋅a - 3⋅β₃     β₁⋅β₃⋅╲╱  -4⋅a - 3⋅β₂     β₁⋅╲╱  -4⋅a - 3\n",
       "──────── - ─────────────────────── - ─────────────────────── + ───────────────\n",
       "   8                  8                         8                             \n",
       "\n",
       "_____    ______________            ______________         ______________    __\n",
       "   2    ╱            2            ╱            2         ╱            2    ╱  \n",
       "⋅β₂  ⋅╲╱  -4⋅a - 3⋅β₃     β₂⋅β₃⋅╲╱  -4⋅a - 3⋅β₁     β₂⋅╲╱  -4⋅a - 3⋅β₁  ⋅╲╱  -\n",
       "─────────────────────── - ─────────────────────── + ──────────────────────────\n",
       "   8                                 8                                8       \n",
       "\n",
       "____________         ______________    ______________      ______________    _\n",
       "          2         ╱            2    ╱            2      ╱            2    ╱ \n",
       "4⋅a - 3⋅β₃     β₃⋅╲╱  -4⋅a - 3⋅β₁  ⋅╲╱  -4⋅a - 3⋅β₂     ╲╱  -4⋅a - 3⋅β₁  ⋅╲╱  \n",
       "──────────── + ────────────────────────────────────── - ──────────────────────\n",
       "                                 8                                            \n",
       "\n",
       "_____________    ______________\n",
       "           2    ╱            2 \n",
       "-4⋅a - 3⋅β₂  ⋅╲╱  -4⋅a - 3⋅β₃  \n",
       "───────────────────────────────\n",
       "    8                          "
      ]
     },
     "execution_count": 85,
     "metadata": {},
     "output_type": "execute_result"
    }
   ],
   "source": [
    "c1"
   ]
  },
  {
   "cell_type": "code",
   "execution_count": 86,
   "metadata": {},
   "outputs": [
    {
     "data": {
      "text/latex": [
       "$$\\frac{\\beta_{1} \\beta_{2}}{8} \\beta_{3} + \\frac{\\beta_{1} \\beta_{2}}{8} \\sqrt{- 4 a - 3 \\beta_{3}^{2}} + \\frac{\\beta_{1} \\beta_{3}}{8} \\sqrt{- 4 a - 3 \\beta_{2}^{2}} + \\frac{\\beta_{1}}{8} \\sqrt{- 4 a - 3 \\beta_{2}^{2}} \\sqrt{- 4 a - 3 \\beta_{3}^{2}} + \\frac{\\beta_{2} \\beta_{3}}{8} \\sqrt{- 4 a - 3 \\beta_{1}^{2}} + \\frac{\\beta_{2}}{8} \\sqrt{- 4 a - 3 \\beta_{1}^{2}} \\sqrt{- 4 a - 3 \\beta_{3}^{2}} + \\frac{\\beta_{3}}{8} \\sqrt{- 4 a - 3 \\beta_{1}^{2}} \\sqrt{- 4 a - 3 \\beta_{2}^{2}} + \\frac{1}{8} \\sqrt{- 4 a - 3 \\beta_{1}^{2}} \\sqrt{- 4 a - 3 \\beta_{2}^{2}} \\sqrt{- 4 a - 3 \\beta_{3}^{2}}$$"
      ],
      "text/plain": [
       "                    ______________            ______________         _________\n",
       "                   ╱            2            ╱            2         ╱         \n",
       "β₁⋅β₂⋅β₃   β₁⋅β₂⋅╲╱  -4⋅a - 3⋅β₃     β₁⋅β₃⋅╲╱  -4⋅a - 3⋅β₂     β₁⋅╲╱  -4⋅a - 3\n",
       "──────── + ─────────────────────── + ─────────────────────── + ───────────────\n",
       "   8                  8                         8                             \n",
       "\n",
       "_____    ______________            ______________         ______________    __\n",
       "   2    ╱            2            ╱            2         ╱            2    ╱  \n",
       "⋅β₂  ⋅╲╱  -4⋅a - 3⋅β₃     β₂⋅β₃⋅╲╱  -4⋅a - 3⋅β₁     β₂⋅╲╱  -4⋅a - 3⋅β₁  ⋅╲╱  -\n",
       "─────────────────────── + ─────────────────────── + ──────────────────────────\n",
       "   8                                 8                                8       \n",
       "\n",
       "____________         ______________    ______________      ______________    _\n",
       "          2         ╱            2    ╱            2      ╱            2    ╱ \n",
       "4⋅a - 3⋅β₃     β₃⋅╲╱  -4⋅a - 3⋅β₁  ⋅╲╱  -4⋅a - 3⋅β₂     ╲╱  -4⋅a - 3⋅β₁  ⋅╲╱  \n",
       "──────────── + ────────────────────────────────────── + ──────────────────────\n",
       "                                 8                                            \n",
       "\n",
       "_____________    ______________\n",
       "           2    ╱            2 \n",
       "-4⋅a - 3⋅β₂  ⋅╲╱  -4⋅a - 3⋅β₃  \n",
       "───────────────────────────────\n",
       "    8                          "
      ]
     },
     "execution_count": 86,
     "metadata": {},
     "output_type": "execute_result"
    }
   ],
   "source": [
    "c2"
   ]
  },
  {
   "cell_type": "code",
   "execution_count": 88,
   "metadata": {},
   "outputs": [
    {
     "data": {
      "text/latex": [
       "$$\\frac{\\beta_{1} \\beta_{2}}{4} \\beta_{3} + \\frac{\\beta_{1}}{4} \\sqrt{- 4 a - 3 \\beta_{2}^{2}} \\sqrt{- 4 a - 3 \\beta_{3}^{2}} + \\frac{\\beta_{2}}{4} \\sqrt{- 4 a - 3 \\beta_{1}^{2}} \\sqrt{- 4 a - 3 \\beta_{3}^{2}} + \\frac{\\beta_{3}}{4} \\sqrt{- 4 a - 3 \\beta_{1}^{2}} \\sqrt{- 4 a - 3 \\beta_{2}^{2}}$$"
      ],
      "text/plain": [
       "                 ______________    ______________         ______________    __\n",
       "                ╱            2    ╱            2         ╱            2    ╱  \n",
       "β₁⋅β₂⋅β₃   β₁⋅╲╱  -4⋅a - 3⋅β₂  ⋅╲╱  -4⋅a - 3⋅β₃     β₂⋅╲╱  -4⋅a - 3⋅β₁  ⋅╲╱  -\n",
       "──────── + ────────────────────────────────────── + ──────────────────────────\n",
       "   4                         4                                        4       \n",
       "\n",
       "____________         ______________    ______________\n",
       "          2         ╱            2    ╱            2 \n",
       "4⋅a - 3⋅β₃     β₃⋅╲╱  -4⋅a - 3⋅β₁  ⋅╲╱  -4⋅a - 3⋅β₂  \n",
       "──────────── + ──────────────────────────────────────\n",
       "                                 4                   "
      ]
     },
     "execution_count": 88,
     "metadata": {},
     "output_type": "execute_result"
    }
   ],
   "source": [
    "c1+c2"
   ]
  },
  {
   "cell_type": "code",
   "execution_count": 1,
   "metadata": {},
   "outputs": [],
   "source": [
    "from mpmath import *"
   ]
  },
  {
   "cell_type": "code",
   "execution_count": 8,
   "metadata": {},
   "outputs": [
    {
     "ename": "TypeError",
     "evalue": "cannot create mpf from 4*x",
     "output_type": "error",
     "traceback": [
      "\u001b[0;31m---------------------------------------------------------------------------\u001b[0m",
      "\u001b[0;31mTypeError\u001b[0m                                 Traceback (most recent call last)",
      "\u001b[0;32m<ipython-input-8-e66331672ebf>\u001b[0m in \u001b[0;36m<module>\u001b[0;34m()\u001b[0m\n\u001b[0;32m----> 1\u001b[0;31m \u001b[0mpolar\u001b[0m\u001b[0;34m(\u001b[0m\u001b[0;36m4\u001b[0m\u001b[0;34m*\u001b[0m\u001b[0mx\u001b[0m\u001b[0;34m)\u001b[0m\u001b[0;34m\u001b[0m\u001b[0m\n\u001b[0m",
      "\u001b[0;32m/nix/store/biylxrh5sdjqg4wp9vf7aa9gv8rsqvav-python3.6-mpmath-0.19/lib/python3.6/site-packages/mpmath/functions/functions.py\u001b[0m in \u001b[0;36mpolar\u001b[0;34m(ctx, z)\u001b[0m\n\u001b[1;32m    276\u001b[0m \u001b[0;34m@\u001b[0m\u001b[0mdefun\u001b[0m\u001b[0;34m\u001b[0m\u001b[0m\n\u001b[1;32m    277\u001b[0m \u001b[0;32mdef\u001b[0m \u001b[0mpolar\u001b[0m\u001b[0;34m(\u001b[0m\u001b[0mctx\u001b[0m\u001b[0;34m,\u001b[0m \u001b[0mz\u001b[0m\u001b[0;34m)\u001b[0m\u001b[0;34m:\u001b[0m\u001b[0;34m\u001b[0m\u001b[0m\n\u001b[0;32m--> 278\u001b[0;31m     \u001b[0;32mreturn\u001b[0m \u001b[0;34m(\u001b[0m\u001b[0mctx\u001b[0m\u001b[0;34m.\u001b[0m\u001b[0mfabs\u001b[0m\u001b[0;34m(\u001b[0m\u001b[0mz\u001b[0m\u001b[0;34m)\u001b[0m\u001b[0;34m,\u001b[0m \u001b[0mctx\u001b[0m\u001b[0;34m.\u001b[0m\u001b[0marg\u001b[0m\u001b[0;34m(\u001b[0m\u001b[0mz\u001b[0m\u001b[0;34m)\u001b[0m\u001b[0;34m)\u001b[0m\u001b[0;34m\u001b[0m\u001b[0m\n\u001b[0m\u001b[1;32m    279\u001b[0m \u001b[0;34m\u001b[0m\u001b[0m\n\u001b[1;32m    280\u001b[0m \u001b[0;34m@\u001b[0m\u001b[0mdefun_wrapped\u001b[0m\u001b[0;34m\u001b[0m\u001b[0m\n",
      "\u001b[0;32m/nix/store/biylxrh5sdjqg4wp9vf7aa9gv8rsqvav-python3.6-mpmath-0.19/lib/python3.6/site-packages/mpmath/functions/functions.py\u001b[0m in \u001b[0;36mfabs\u001b[0;34m(ctx, x)\u001b[0m\n\u001b[1;32m    250\u001b[0m \u001b[0;34m@\u001b[0m\u001b[0mdefun\u001b[0m\u001b[0;34m\u001b[0m\u001b[0m\n\u001b[1;32m    251\u001b[0m \u001b[0;32mdef\u001b[0m \u001b[0mfabs\u001b[0m\u001b[0;34m(\u001b[0m\u001b[0mctx\u001b[0m\u001b[0;34m,\u001b[0m \u001b[0mx\u001b[0m\u001b[0;34m)\u001b[0m\u001b[0;34m:\u001b[0m\u001b[0;34m\u001b[0m\u001b[0m\n\u001b[0;32m--> 252\u001b[0;31m     \u001b[0;32mreturn\u001b[0m \u001b[0mabs\u001b[0m\u001b[0;34m(\u001b[0m\u001b[0mctx\u001b[0m\u001b[0;34m.\u001b[0m\u001b[0mconvert\u001b[0m\u001b[0;34m(\u001b[0m\u001b[0mx\u001b[0m\u001b[0;34m)\u001b[0m\u001b[0;34m)\u001b[0m\u001b[0;34m\u001b[0m\u001b[0m\n\u001b[0m\u001b[1;32m    253\u001b[0m \u001b[0;34m\u001b[0m\u001b[0m\n\u001b[1;32m    254\u001b[0m \u001b[0;34m@\u001b[0m\u001b[0mdefun\u001b[0m\u001b[0;34m\u001b[0m\u001b[0m\n",
      "\u001b[0;32m/nix/store/biylxrh5sdjqg4wp9vf7aa9gv8rsqvav-python3.6-mpmath-0.19/lib/python3.6/site-packages/mpmath/ctx_mp_python.py\u001b[0m in \u001b[0;36mconvert\u001b[0;34m(ctx, x, strings)\u001b[0m\n\u001b[1;32m    660\u001b[0m         \u001b[0;32mif\u001b[0m \u001b[0mhasattr\u001b[0m\u001b[0;34m(\u001b[0m\u001b[0mx\u001b[0m\u001b[0;34m,\u001b[0m \u001b[0;34m'_mpmath_'\u001b[0m\u001b[0;34m)\u001b[0m\u001b[0;34m:\u001b[0m\u001b[0;34m\u001b[0m\u001b[0m\n\u001b[1;32m    661\u001b[0m             \u001b[0;32mreturn\u001b[0m \u001b[0mctx\u001b[0m\u001b[0;34m.\u001b[0m\u001b[0mconvert\u001b[0m\u001b[0;34m(\u001b[0m\u001b[0mx\u001b[0m\u001b[0;34m.\u001b[0m\u001b[0m_mpmath_\u001b[0m\u001b[0;34m(\u001b[0m\u001b[0mprec\u001b[0m\u001b[0;34m,\u001b[0m \u001b[0mrounding\u001b[0m\u001b[0;34m)\u001b[0m\u001b[0;34m)\u001b[0m\u001b[0;34m\u001b[0m\u001b[0m\n\u001b[0;32m--> 662\u001b[0;31m         \u001b[0;32mreturn\u001b[0m \u001b[0mctx\u001b[0m\u001b[0;34m.\u001b[0m\u001b[0m_convert_fallback\u001b[0m\u001b[0;34m(\u001b[0m\u001b[0mx\u001b[0m\u001b[0;34m,\u001b[0m \u001b[0mstrings\u001b[0m\u001b[0;34m)\u001b[0m\u001b[0;34m\u001b[0m\u001b[0m\n\u001b[0m\u001b[1;32m    663\u001b[0m \u001b[0;34m\u001b[0m\u001b[0m\n\u001b[1;32m    664\u001b[0m     \u001b[0;32mdef\u001b[0m \u001b[0misnan\u001b[0m\u001b[0;34m(\u001b[0m\u001b[0mctx\u001b[0m\u001b[0;34m,\u001b[0m \u001b[0mx\u001b[0m\u001b[0;34m)\u001b[0m\u001b[0;34m:\u001b[0m\u001b[0;34m\u001b[0m\u001b[0m\n",
      "\u001b[0;32m/nix/store/biylxrh5sdjqg4wp9vf7aa9gv8rsqvav-python3.6-mpmath-0.19/lib/python3.6/site-packages/mpmath/ctx_mp.py\u001b[0m in \u001b[0;36m_convert_fallback\u001b[0;34m(ctx, x, strings)\u001b[0m\n\u001b[1;32m    612\u001b[0m             \u001b[0;32melse\u001b[0m\u001b[0;34m:\u001b[0m\u001b[0;34m\u001b[0m\u001b[0m\n\u001b[1;32m    613\u001b[0m                 \u001b[0;32mraise\u001b[0m \u001b[0mValueError\u001b[0m\u001b[0;34m(\u001b[0m\u001b[0;34m\"can only create mpf from zero-width interval\"\u001b[0m\u001b[0;34m)\u001b[0m\u001b[0;34m\u001b[0m\u001b[0m\n\u001b[0;32m--> 614\u001b[0;31m         \u001b[0;32mraise\u001b[0m \u001b[0mTypeError\u001b[0m\u001b[0;34m(\u001b[0m\u001b[0;34m\"cannot create mpf from \"\u001b[0m \u001b[0;34m+\u001b[0m \u001b[0mrepr\u001b[0m\u001b[0;34m(\u001b[0m\u001b[0mx\u001b[0m\u001b[0;34m)\u001b[0m\u001b[0;34m)\u001b[0m\u001b[0;34m\u001b[0m\u001b[0m\n\u001b[0m\u001b[1;32m    615\u001b[0m \u001b[0;34m\u001b[0m\u001b[0m\n\u001b[1;32m    616\u001b[0m     \u001b[0;32mdef\u001b[0m \u001b[0mmpmathify\u001b[0m\u001b[0;34m(\u001b[0m\u001b[0mctx\u001b[0m\u001b[0;34m,\u001b[0m \u001b[0;34m*\u001b[0m\u001b[0margs\u001b[0m\u001b[0;34m,\u001b[0m \u001b[0;34m**\u001b[0m\u001b[0mkwargs\u001b[0m\u001b[0;34m)\u001b[0m\u001b[0;34m:\u001b[0m\u001b[0;34m\u001b[0m\u001b[0m\n",
      "\u001b[0;31mTypeError\u001b[0m: cannot create mpf from 4*x"
     ]
    }
   ],
   "source": [
    "polar(4*x)"
   ]
  },
  {
   "cell_type": "code",
   "execution_count": null,
   "metadata": {},
   "outputs": [],
   "source": []
  }
 ],
 "metadata": {
  "kernelspec": {
   "display_name": "Python 3",
   "language": "python",
   "name": "python3"
  },
  "language_info": {
   "codemirror_mode": {
    "name": "ipython",
    "version": 3
   },
   "file_extension": ".py",
   "mimetype": "text/x-python",
   "name": "python",
   "nbconvert_exporter": "python",
   "pygments_lexer": "ipython3",
   "version": "3.6.5"
  }
 },
 "nbformat": 4,
 "nbformat_minor": 2
}

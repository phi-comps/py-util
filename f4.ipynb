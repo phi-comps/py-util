{
 "cells": [
  {
   "cell_type": "code",
   "execution_count": 1,
   "metadata": {},
   "outputs": [],
   "source": [
    "import sympy as sy\n",
    "from sympy import Symbol, Eq, Rational, sqrt, solve\n",
    "from sympy.abc import a, b, c, d, e, f, g, h, m, x, y, alpha, beta, gamma\n",
    "\n",
    "from IPython.display import display, Latex\n",
    "\n",
    "from util import *\n",
    "from transform import *\n",
    "from ec import EllipticCurve, Point\n",
    "\n",
    "__all__ = [\n",
    "    'gammas_at',\n",
    "    'gammas',\n",
    "    'gamma_nice',\n",
    "    'gamma',\n",
    "    'beta',\n",
    "    'beta_',\n",
    "    'aa_',\n",
    "    'bb_',\n",
    "    'qq',\n",
    "    'factor',\n",
    "    'check_newly',\n",
    "    'up55',\n",
    "    'lo55',\n",
    "    'nice',\n",
    "    ]\n",
    "\n",
    "for subscript in range(10):\n",
    "    for var in 'abcdefgh':\n",
    "        name = '{}{}'.format(var, subscript)\n",
    "        globals()[name] = Symbol(name)\n",
    "\n",
    "def displ(*x):\n",
    "    if __name__ == '__main__':\n",
    "        display(*x)\n",
    "\n",
    "def show(eqs):\n",
    "    displ(Latex('\\n'.join(\n",
    "        [r'\\begin{align}']\n",
    "        + list(r'{} &= {} \\\\'.format(sy.latex(eq.lhs), sy.latex(eq.rhs)) for eq in eqs)\n",
    "        + [r'\\end{align}']\n",
    "    )))\n",
    "\n",
    "\n",
    "def mk_p(n, var, alt=False):\n",
    "    assert n > 0\n",
    "    cs = iter(sy.symbols(' '.join(string.ascii_lowercase)))\n",
    "    p = 0\n",
    "    for i in range(n):\n",
    "        t = next(cs)*var**i\n",
    "        if alt and i%2:\n",
    "            t = -t\n",
    "        p += t\n",
    "    return p + var**n"
   ]
  },
  {
   "cell_type": "code",
   "execution_count": 2,
   "metadata": {},
   "outputs": [
    {
     "data": {
      "text/latex": [
       "$$a + b xg + c xg^{2} + d xg^{3} + e xg^{4} + f xg^{5} + g xg^{6} + h xg^{7} + xg^{8}$$"
      ],
      "text/plain": [
       "               2       3       4       5       6       7     8\n",
       "a + b⋅xg + c⋅xg  + d⋅xg  + e⋅xg  + f⋅xg  + g⋅xg  + h⋅xg  + xg "
      ]
     },
     "execution_count": 2,
     "metadata": {},
     "output_type": "execute_result"
    }
   ],
   "source": [
    "p1_ = mk_p(8, xg)\n",
    "p1_"
   ]
  },
  {
   "cell_type": "code",
   "execution_count": 3,
   "metadata": {},
   "outputs": [
    {
     "data": {
      "text/latex": [
       "$$a - b xg + c xg^{2} - d xg^{3} + e xg^{4} - f xg^{5} + g xg^{6} - h xg^{7} + xg^{8}$$"
      ],
      "text/plain": [
       "               2       3       4       5       6       7     8\n",
       "a - b⋅xg + c⋅xg  - d⋅xg  + e⋅xg  - f⋅xg  + g⋅xg  - h⋅xg  + xg "
      ]
     },
     "execution_count": 3,
     "metadata": {},
     "output_type": "execute_result"
    }
   ],
   "source": [
    "p2_ = mk_p(8, xg, alt=True)\n",
    "p2_"
   ]
  },
  {
   "cell_type": "code",
   "execution_count": 4,
   "metadata": {},
   "outputs": [
    {
     "data": {
      "text/latex": [
       "\\begin{align}\n",
       "\\gamma + m^{8} + 4 m^{7} + 6 m^{6} + 6 m^{5} + 5 m^{4} + 2 m^{3} + m^{2} + m &= a^{2} \\\\\n",
       "8 m^{7} + 24 m^{6} + 24 m^{5} + 16 m^{4} + 8 m^{3} &= 2 a c - b^{2} \\\\\n",
       "28 m^{6} + 60 m^{5} + 36 m^{4} + 16 m^{3} + 4 m^{2} &= 2 a e - 2 b d + c^{2} \\\\\n",
       "56 m^{5} + 80 m^{4} + 24 m^{3} + 8 m^{2} &= 2 a g - 2 b f + 2 c e - d^{2} \\\\\n",
       "70 m^{4} + 60 m^{3} + 6 m^{2} + 2 m &= 2 a - 2 b h + 2 c g - 2 d f + e^{2} \\\\\n",
       "56 m^{3} + 24 m^{2} &= 2 c - 2 d h + 2 e g - f^{2} \\\\\n",
       "28 m^{2} + 4 m &= 2 e - 2 f h + g^{2} \\\\\n",
       "8 m &= 2 g - h^{2} \\\\\n",
       "\\end{align}"
      ],
      "text/plain": [
       "<IPython.core.display.Latex object>"
      ]
     },
     "metadata": {},
     "output_type": "display_data"
    }
   ],
   "source": [
    "eqs = nontriv(equate(f_it(4), p1_*p2_, xg))\n",
    "show(eqs)"
   ]
  },
  {
   "cell_type": "code",
   "execution_count": 5,
   "metadata": {},
   "outputs": [
    {
     "data": {
      "text/latex": [
       "\\begin{align}\n",
       "\\gamma + m^{8} + 4 m^{7} + 6 m^{6} + 6 m^{5} + 5 m^{4} + 2 m^{3} + m^{2} + m &= a^{2} \\\\\n",
       "8 m^{7} + 24 m^{6} + 24 m^{5} + 16 m^{4} + 8 m^{3} &= 2 a c - b^{2} \\\\\n",
       "28 m^{6} + 60 m^{5} + 36 m^{4} + 16 m^{3} + 4 m^{2} &= 2 a e - 2 b d + c^{2} \\\\\n",
       "56 m^{5} + 80 m^{4} + 24 m^{3} + 8 m^{2} &= 2 a \\left(\\frac{h^{2}}{2} + 4 m\\right) - 2 b f + 2 c e - d^{2} \\\\\n",
       "70 m^{4} + 60 m^{3} + 6 m^{2} + 2 m &= 2 a - 2 b h + 2 c \\left(\\frac{h^{2}}{2} + 4 m\\right) - 2 d f + e^{2} \\\\\n",
       "56 m^{3} + 24 m^{2} &= 2 c - 2 d h + 2 e \\left(\\frac{h^{2}}{2} + 4 m\\right) - f^{2} \\\\\n",
       "28 m^{2} + 4 m &= 2 e - 2 f h + \\left(\\frac{h^{2}}{2} + 4 m\\right)^{2} \\\\\n",
       "\\end{align}"
      ],
      "text/plain": [
       "<IPython.core.display.Latex object>"
      ]
     },
     "metadata": {},
     "output_type": "display_data"
    }
   ],
   "source": [
    "eqs = nontriv(bigsubs(eqs, g, only(solve(eqs[-1], g))))\n",
    "show(eqs)"
   ]
  },
  {
   "cell_type": "code",
   "execution_count": 6,
   "metadata": {},
   "outputs": [
    {
     "data": {
      "text/latex": [
       "\\begin{align}\n",
       "\\gamma + m^{8} + 4 m^{7} + 6 m^{6} + 6 m^{5} + 5 m^{4} + 2 m^{3} + m^{2} + m &= a^{2} \\\\\n",
       "8 m^{7} + 24 m^{6} + 24 m^{5} + 16 m^{4} + 8 m^{3} &= 2 a c - b^{2} \\\\\n",
       "28 m^{6} + 60 m^{5} + 36 m^{4} + 16 m^{3} + 4 m^{2} &= 2 a \\left(f h + 14 m^{2} + 2 m - \\frac{1}{8} \\left(h^{2} + 8 m\\right)^{2}\\right) - 2 b d + c^{2} \\\\\n",
       "56 m^{5} + 80 m^{4} + 24 m^{3} + 8 m^{2} &= 2 a \\left(\\frac{h^{2}}{2} + 4 m\\right) - 2 b f + 2 c \\left(f h + 14 m^{2} + 2 m - \\frac{1}{8} \\left(h^{2} + 8 m\\right)^{2}\\right) - d^{2} \\\\\n",
       "70 m^{4} + 60 m^{3} + 6 m^{2} + 2 m &= 2 a - 2 b h + 2 c \\left(\\frac{h^{2}}{2} + 4 m\\right) - 2 d f + \\left(f h + 14 m^{2} + 2 m - \\frac{1}{8} \\left(h^{2} + 8 m\\right)^{2}\\right)^{2} \\\\\n",
       "56 m^{3} + 24 m^{2} &= 2 c - 2 d h - f^{2} + 2 \\left(\\frac{h^{2}}{2} + 4 m\\right) \\left(f h + 14 m^{2} + 2 m - \\frac{1}{8} \\left(h^{2} + 8 m\\right)^{2}\\right) \\\\\n",
       "\\end{align}"
      ],
      "text/plain": [
       "<IPython.core.display.Latex object>"
      ]
     },
     "metadata": {},
     "output_type": "display_data"
    }
   ],
   "source": [
    "eqs = nontriv(bigsubs(eqs, e, only(solve(eqs[-1], e))))\n",
    "show(eqs)"
   ]
  },
  {
   "cell_type": "code",
   "execution_count": 7,
   "metadata": {},
   "outputs": [
    {
     "data": {
      "text/latex": [
       "\\begin{align}\n",
       "\\gamma + m^{8} + 4 m^{7} + 6 m^{6} + 6 m^{5} + 5 m^{4} + 2 m^{3} + m^{2} + m &= a^{2} \\\\\n",
       "8 m^{7} + 24 m^{6} + 24 m^{5} + 16 m^{4} + 8 m^{3} &= 2 a \\left(d h + \\frac{f^{2}}{2} - \\frac{f h^{3}}{2} - 4 f h m + \\frac{h^{6}}{16} + \\frac{3 m}{2} h^{4} + 5 h^{2} m^{2} - h^{2} m + 4 m^{3} + 4 m^{2}\\right) - b^{2} \\\\\n",
       "28 m^{6} + 60 m^{5} + 36 m^{4} + 16 m^{3} + 4 m^{2} &= 2 a \\left(f h + 14 m^{2} + 2 m - \\frac{1}{8} \\left(h^{2} + 8 m\\right)^{2}\\right) - 2 b d + \\left(d h + \\frac{f^{2}}{2} - \\frac{f h^{3}}{2} - 4 f h m + \\frac{h^{6}}{16} + \\frac{3 m}{2} h^{4} + 5 h^{2} m^{2} - h^{2} m + 4 m^{3} + 4 m^{2}\\right)^{2} \\\\\n",
       "56 m^{5} + 80 m^{4} + 24 m^{3} + 8 m^{2} &= 2 a \\left(\\frac{h^{2}}{2} + 4 m\\right) - 2 b f - d^{2} + 2 \\left(f h + 14 m^{2} + 2 m - \\frac{1}{8} \\left(h^{2} + 8 m\\right)^{2}\\right) \\left(d h + \\frac{f^{2}}{2} - \\frac{f h^{3}}{2} - 4 f h m + \\frac{h^{6}}{16} + \\frac{3 m}{2} h^{4} + 5 h^{2} m^{2} - h^{2} m + 4 m^{3} + 4 m^{2}\\right) \\\\\n",
       "70 m^{4} + 60 m^{3} + 6 m^{2} + 2 m &= 2 a - 2 b h - 2 d f + 2 \\left(\\frac{h^{2}}{2} + 4 m\\right) \\left(d h + \\frac{f^{2}}{2} - \\frac{f h^{3}}{2} - 4 f h m + \\frac{h^{6}}{16} + \\frac{3 m}{2} h^{4} + 5 h^{2} m^{2} - h^{2} m + 4 m^{3} + 4 m^{2}\\right) + \\left(f h + 14 m^{2} + 2 m - \\frac{1}{8} \\left(h^{2} + 8 m\\right)^{2}\\right)^{2} \\\\\n",
       "\\end{align}"
      ],
      "text/plain": [
       "<IPython.core.display.Latex object>"
      ]
     },
     "metadata": {},
     "output_type": "display_data"
    }
   ],
   "source": [
    "eqs = nontriv(bigsubs(eqs, c, only(solve(eqs[-1], c))))\n",
    "show(eqs)"
   ]
  },
  {
   "cell_type": "code",
   "execution_count": 8,
   "metadata": {},
   "outputs": [
    {
     "data": {
      "text/latex": [
       "\\begin{align}\n",
       "\\gamma + m^{8} + 4 m^{7} + 6 m^{6} + 6 m^{5} + 5 m^{4} + 2 m^{3} + m^{2} + m &= \\left(b h + d f - \\frac{d h^{3}}{2} - 4 d h m - \\frac{3 f^{2}}{4} h^{2} - 2 f^{2} m + \\frac{3 f}{8} h^{5} + 6 f h^{3} m + 10 f h m^{2} - 2 f h m - \\frac{5 h^{8}}{128} - \\frac{5 m}{4} h^{6} - \\frac{39 h^{4}}{4} m^{2} + \\frac{3 m}{4} h^{4} - 10 h^{2} m^{3} + 6 h^{2} m^{2} + m^{4} + 2 m^{3} + m^{2} + m\\right)^{2} \\\\\n",
       "8 m^{7} + 24 m^{6} + 24 m^{5} + 16 m^{4} + 8 m^{3} &= - b^{2} + 2 \\left(d h + \\frac{f^{2}}{2} - \\frac{f h^{3}}{2} - 4 f h m + \\frac{h^{6}}{16} + \\frac{3 m}{2} h^{4} + 5 h^{2} m^{2} - h^{2} m + 4 m^{3} + 4 m^{2}\\right) \\left(b h + d f - \\frac{d h^{3}}{2} - 4 d h m - \\frac{3 f^{2}}{4} h^{2} - 2 f^{2} m + \\frac{3 f}{8} h^{5} + 6 f h^{3} m + 10 f h m^{2} - 2 f h m - \\frac{5 h^{8}}{128} - \\frac{5 m}{4} h^{6} - \\frac{39 h^{4}}{4} m^{2} + \\frac{3 m}{4} h^{4} - 10 h^{2} m^{3} + 6 h^{2} m^{2} + m^{4} + 2 m^{3} + m^{2} + m\\right) \\\\\n",
       "28 m^{6} + 60 m^{5} + 36 m^{4} + 16 m^{3} + 4 m^{2} &= - 2 b d + 2 \\left(f h + 14 m^{2} + 2 m - \\frac{1}{8} \\left(h^{2} + 8 m\\right)^{2}\\right) \\left(b h + d f - \\frac{d h^{3}}{2} - 4 d h m - \\frac{3 f^{2}}{4} h^{2} - 2 f^{2} m + \\frac{3 f}{8} h^{5} + 6 f h^{3} m + 10 f h m^{2} - 2 f h m - \\frac{5 h^{8}}{128} - \\frac{5 m}{4} h^{6} - \\frac{39 h^{4}}{4} m^{2} + \\frac{3 m}{4} h^{4} - 10 h^{2} m^{3} + 6 h^{2} m^{2} + m^{4} + 2 m^{3} + m^{2} + m\\right) + \\left(d h + \\frac{f^{2}}{2} - \\frac{f h^{3}}{2} - 4 f h m + \\frac{h^{6}}{16} + \\frac{3 m}{2} h^{4} + 5 h^{2} m^{2} - h^{2} m + 4 m^{3} + 4 m^{2}\\right)^{2} \\\\\n",
       "56 m^{5} + 80 m^{4} + 24 m^{3} + 8 m^{2} &= - 2 b f - d^{2} + 2 \\left(\\frac{h^{2}}{2} + 4 m\\right) \\left(b h + d f - \\frac{d h^{3}}{2} - 4 d h m - \\frac{3 f^{2}}{4} h^{2} - 2 f^{2} m + \\frac{3 f}{8} h^{5} + 6 f h^{3} m + 10 f h m^{2} - 2 f h m - \\frac{5 h^{8}}{128} - \\frac{5 m}{4} h^{6} - \\frac{39 h^{4}}{4} m^{2} + \\frac{3 m}{4} h^{4} - 10 h^{2} m^{3} + 6 h^{2} m^{2} + m^{4} + 2 m^{3} + m^{2} + m\\right) + 2 \\left(f h + 14 m^{2} + 2 m - \\frac{1}{8} \\left(h^{2} + 8 m\\right)^{2}\\right) \\left(d h + \\frac{f^{2}}{2} - \\frac{f h^{3}}{2} - 4 f h m + \\frac{h^{6}}{16} + \\frac{3 m}{2} h^{4} + 5 h^{2} m^{2} - h^{2} m + 4 m^{3} + 4 m^{2}\\right) \\\\\n",
       "\\end{align}"
      ],
      "text/plain": [
       "<IPython.core.display.Latex object>"
      ]
     },
     "metadata": {},
     "output_type": "display_data"
    }
   ],
   "source": [
    "eqs = nontriv(bigsubs(eqs, a, only(solve(eqs[-1], a))))\n",
    "show(eqs)"
   ]
  },
  {
   "cell_type": "code",
   "execution_count": 9,
   "metadata": {},
   "outputs": [
    {
     "data": {
      "text/latex": [
       "\\begin{align}\n",
       "\\gamma + m^{8} + 4 m^{7} + 6 m^{6} + 6 m^{5} + 5 m^{4} + 2 m^{3} + m^{2} + m &= b^{2} h^{2} + 2 b d f h - b d h^{4} - 8 b d h^{2} m - \\frac{3 b}{2} f^{2} h^{3} - 4 b f^{2} h m + \\frac{3 b}{4} f h^{6} + 12 b f h^{4} m + 20 b f h^{2} m^{2} - 4 b f h^{2} m - \\frac{5 b}{64} h^{9} - \\frac{5 b}{2} h^{7} m - \\frac{39 b}{2} h^{5} m^{2} + \\frac{3 b}{2} h^{5} m - 20 b h^{3} m^{3} + 12 b h^{3} m^{2} + 2 b h m^{4} + 4 b h m^{3} + 2 b h m^{2} + 2 b h m + d^{2} f^{2} - d^{2} f h^{3} - 8 d^{2} f h m + \\frac{d^{2} h^{6}}{4} + 4 d^{2} h^{4} m + 16 d^{2} h^{2} m^{2} - \\frac{3 d}{2} f^{3} h^{2} - 4 d f^{3} m + \\frac{3 d}{2} f^{2} h^{5} + 20 d f^{2} h^{3} m + 36 d f^{2} h m^{2} - 4 d f^{2} h m - \\frac{29 d}{64} f h^{8} - \\frac{23 d}{2} f h^{6} m - \\frac{155 d}{2} f h^{4} m^{2} + \\frac{7 d}{2} f h^{4} m - 100 d f h^{2} m^{3} + 28 d f h^{2} m^{2} + 2 d f m^{4} + 4 d f m^{3} + 2 d f m^{2} + 2 d f m + \\frac{5 d}{128} h^{11} + \\frac{25 d}{16} h^{9} m + \\frac{79 d}{4} h^{7} m^{2} - \\frac{3 d}{4} h^{7} m + 88 d h^{5} m^{3} - 12 d h^{5} m^{2} + 79 d h^{3} m^{4} - 50 d h^{3} m^{3} - d h^{3} m^{2} - d h^{3} m - 8 d h m^{5} - 16 d h m^{4} - 8 d h m^{3} - 8 d h m^{2} + \\frac{9 f^{4}}{16} h^{4} + 3 f^{4} h^{2} m + 4 f^{4} m^{2} - \\frac{9 f^{3}}{16} h^{7} - \\frac{21 m}{2} f^{3} h^{5} - 39 f^{3} h^{3} m^{2} + 3 f^{3} h^{3} m - 40 f^{3} h m^{3} + 8 f^{3} h m^{2} + \\frac{51 f^{2}}{256} h^{10} + \\frac{209 m}{32} f^{2} h^{8} + \\frac{505 f^{2}}{8} h^{6} m^{2} - \\frac{21 m}{8} f^{2} h^{6} + 174 f^{2} h^{4} m^{3} - 36 f^{2} h^{4} m^{2} + \\frac{277 f^{2}}{2} h^{2} m^{4} - 67 f^{2} h^{2} m^{3} + \\frac{5 f^{2}}{2} h^{2} m^{2} - \\frac{3 m}{2} f^{2} h^{2} - 4 f^{2} m^{5} - 8 f^{2} m^{4} - 4 f^{2} m^{3} - 4 f^{2} m^{2} - \\frac{15 f}{512} h^{13} - \\frac{45 f}{32} h^{11} m - \\frac{739 f}{32} h^{9} m^{2} + \\frac{23 f}{32} h^{9} m - \\frac{299 f}{2} h^{7} m^{3} + \\frac{37 f}{2} h^{7} m^{2} - \\frac{1257 f}{4} h^{5} m^{4} + \\frac{255 f}{2} h^{5} m^{3} - \\frac{9 f}{4} h^{5} m^{2} + \\frac{3 f}{4} h^{5} m - 188 f h^{3} m^{5} + 184 f h^{3} m^{4} - 12 f h^{3} m^{3} + 12 f h^{3} m^{2} + 20 f h m^{6} + 36 f h m^{5} + 12 f h m^{4} + 16 f h m^{3} - 4 f h m^{2} + \\frac{25 h^{16}}{16384} + \\frac{25 m}{256} h^{14} + \\frac{595 h^{12}}{256} m^{2} - \\frac{15 m}{256} h^{12} + \\frac{805 h^{10}}{32} m^{3} - \\frac{75 h^{10}}{32} m^{2} + \\frac{7679 h^{8}}{64} m^{4} - \\frac{953 h^{8}}{32} m^{3} + \\frac{31 h^{8}}{64} m^{2} - \\frac{5 m}{64} h^{8} + \\frac{385 h^{6}}{2} m^{5} - 137 h^{6} m^{4} + \\frac{13 h^{6}}{2} m^{3} - \\frac{5 h^{6}}{2} m^{2} + \\frac{161 h^{4}}{2} m^{6} - \\frac{315 h^{4}}{2} m^{5} + \\frac{39 h^{4}}{2} m^{4} - 18 h^{4} m^{3} + \\frac{3 h^{4}}{2} m^{2} - 20 h^{2} m^{7} - 28 h^{2} m^{6} + 4 h^{2} m^{5} - 8 h^{2} m^{4} + 12 h^{2} m^{3} + m^{8} + 4 m^{7} + 6 m^{6} + 6 m^{5} + 5 m^{4} + 2 m^{3} + m^{2} \\\\\n",
       "8 m^{7} + 24 m^{6} + 24 m^{5} + 16 m^{4} + 8 m^{3} &= - b^{2} + 2 b d h^{2} + b f^{2} h - b f h^{4} - 8 b f h^{2} m + \\frac{b h^{7}}{8} + 3 b h^{5} m + 10 b h^{3} m^{2} - 2 b h^{3} m + 8 b h m^{3} + 8 b h m^{2} + 2 d^{2} f h - d^{2} h^{4} - 8 d^{2} h^{2} m + d f^{3} - 3 d f^{2} h^{3} - 16 d f^{2} h m + \\frac{11 d}{8} f h^{6} + 23 d f h^{4} m + 62 d f h^{2} m^{2} - 6 d f h^{2} m + 8 d f m^{3} + 8 d f m^{2} - \\frac{9 d}{64} h^{9} - \\frac{9 d}{2} h^{7} m - \\frac{73 d}{2} h^{5} m^{2} + \\frac{5 d}{2} h^{5} m - 64 d h^{3} m^{3} + 16 d h^{3} m^{2} - 30 d h m^{4} - 28 d h m^{3} + 2 d h m^{2} + 2 d h m - \\frac{3 f^{4}}{4} h^{2} - 2 f^{4} m + \\frac{9 f^{3}}{8} h^{5} + 14 f^{3} h^{3} m + 26 f^{3} h m^{2} - 2 f^{3} h m - \\frac{65 f^{2}}{128} h^{8} - \\frac{51 m}{4} f^{2} h^{6} - \\frac{325 f^{2}}{4} h^{4} m^{2} + \\frac{17 m}{4} f^{2} h^{4} - 116 f^{2} h^{2} m^{3} + 20 f^{2} h^{2} m^{2} - 15 f^{2} m^{4} - 14 f^{2} m^{3} + f^{2} m^{2} + f^{2} m + \\frac{11 f}{128} h^{11} + \\frac{55 f}{16} h^{9} m + \\frac{171 f}{4} h^{7} m^{2} - \\frac{7 f}{4} h^{7} m + 181 f h^{5} m^{3} - 27 f h^{5} m^{2} + 227 f h^{3} m^{4} - 42 f h^{3} m^{3} + 3 f h^{3} m^{2} - f h^{3} m + 72 f h m^{5} + 48 f h m^{4} - 24 f h m^{3} - 8 f h m^{2} - \\frac{5 h^{14}}{1024} - \\frac{35 m}{128} h^{12} - \\frac{343 h^{10}}{64} m^{2} + \\frac{11 m}{64} h^{10} - \\frac{693 h^{8}}{16} m^{3} + \\frac{83 h^{8}}{16} m^{2} - \\frac{1099 h^{6}}{8} m^{4} + \\frac{141 h^{6}}{4} m^{3} - \\frac{11 h^{6}}{8} m^{2} + \\frac{h^{6} m}{8} - 175 h^{4} m^{5} + 14 h^{4} m^{4} - 3 h^{4} m^{3} + 3 h^{4} m^{2} - 70 h^{2} m^{6} - 14 h^{2} m^{5} + 54 h^{2} m^{4} + 8 h^{2} m^{3} - 2 h^{2} m^{2} + 8 m^{7} + 24 m^{6} + 24 m^{5} + 16 m^{4} + 8 m^{3} \\\\\n",
       "28 m^{6} + 60 m^{5} + 36 m^{4} + 16 m^{3} + 4 m^{2} &= - 2 b d + 2 b f h^{2} - \\frac{b h^{5}}{4} - 4 b h^{3} m + 12 b h m^{2} + 4 b h m + d^{2} h^{2} + 3 d f^{2} h - \\frac{9 d}{4} f h^{4} - 20 d f h^{2} m + 12 d f m^{2} + 4 d f m + \\frac{d h^{7}}{4} + 6 d h^{5} m + 20 d h^{3} m^{2} - 4 d h^{3} m - 40 d h m^{3} - 8 d h m^{2} + \\frac{f^{4}}{4} - 2 f^{3} h^{3} - 8 f^{3} h m + \\frac{5 f^{2}}{4} h^{6} + 21 f^{2} h^{4} m + 40 f^{2} h^{2} m^{2} - 8 f^{2} h^{2} m - 20 f^{2} m^{3} - 4 f^{2} m^{2} - \\frac{15 f}{64} h^{9} - \\frac{15 f}{2} h^{7} m - \\frac{117 f}{2} h^{5} m^{2} + \\frac{9 f}{2} h^{5} m - 32 f h^{3} m^{3} + 48 f h^{3} m^{2} + 90 f h m^{4} - 12 f h m^{3} - 6 f h m^{2} + 2 f h m + \\frac{7 h^{12}}{512} + \\frac{21 m}{32} h^{10} + \\frac{315 h^{8}}{32} m^{2} - \\frac{15 m}{32} h^{8} + 42 h^{6} m^{3} - 12 h^{6} m^{2} - \\frac{161 h^{4}}{4} m^{4} - \\frac{105 h^{4}}{2} m^{3} + \\frac{15 h^{4}}{4} m^{2} - \\frac{h^{4} m}{4} - 84 h^{2} m^{5} + 56 h^{2} m^{4} + 12 h^{2} m^{3} - 4 h^{2} m^{2} + 28 m^{6} + 60 m^{5} + 36 m^{4} + 16 m^{3} + 4 m^{2} \\\\\n",
       "56 m^{5} + 80 m^{4} + 24 m^{3} + 8 m^{2} &= - 2 b f + b h^{3} + 8 b h m - d^{2} + 3 d f h^{2} + 8 d f m - \\frac{3 d}{4} h^{5} - 12 d h^{3} m - 20 d h m^{2} + 4 d h m + f^{3} h - \\frac{15 f^{2}}{8} h^{4} - 18 f^{2} h^{2} m - 10 f^{2} m^{2} + 2 f^{2} m + \\frac{5 f}{8} h^{7} + 15 f h^{5} m + 78 f h^{3} m^{2} - 6 f h^{3} m + 40 f h m^{3} - 24 f h m^{2} - \\frac{7 h^{10}}{128} - \\frac{35 m}{16} h^{8} - \\frac{105 h^{6}}{4} m^{2} + \\frac{5 m}{4} h^{6} - 91 h^{4} m^{3} + 21 h^{4} m^{2} - 35 h^{2} m^{4} + 42 h^{2} m^{3} - 3 h^{2} m^{2} + h^{2} m + 56 m^{5} + 80 m^{4} + 24 m^{3} + 8 m^{2} \\\\\n",
       "\\end{align}"
      ],
      "text/plain": [
       "<IPython.core.display.Latex object>"
      ]
     },
     "metadata": {},
     "output_type": "display_data"
    }
   ],
   "source": [
    "show(Eq(e.lhs, e.rhs.expand()) for e in eqs)"
   ]
  },
  {
   "cell_type": "code",
   "execution_count": 10,
   "metadata": {},
   "outputs": [
    {
     "data": {
      "text/latex": [
       "$$\\left [ \\frac{3 f}{2} h^{2} + 4 f m - \\frac{3 h^{5}}{8} - 6 h^{3} m - 10 h m^{2} + 2 h m - \\frac{1}{16} \\sqrt{- 512 b f + 256 b h^{3} + 2048 b h m + 256 f^{3} h + 96 f^{2} h^{4} - 1536 f^{2} h^{2} m + 1536 f^{2} m^{2} + 512 f^{2} m - 128 f h^{7} - 1536 f h^{5} m - 10240 f h m^{3} - 2048 f h m^{2} + 22 h^{10} + 592 h^{8} m + 4416 h^{6} m^{2} - 64 h^{6} m + 7424 h^{4} m^{3} - 768 h^{4} m^{2} + 16640 h^{2} m^{4} + 512 h^{2} m^{3} + 256 h^{2} m^{2} + 256 h^{2} m}, \\quad \\frac{3 f}{2} h^{2} + 4 f m - \\frac{3 h^{5}}{8} - 6 h^{3} m - 10 h m^{2} + 2 h m + \\frac{1}{16} \\sqrt{- 512 b f + 256 b h^{3} + 2048 b h m + 256 f^{3} h + 96 f^{2} h^{4} - 1536 f^{2} h^{2} m + 1536 f^{2} m^{2} + 512 f^{2} m - 128 f h^{7} - 1536 f h^{5} m - 10240 f h m^{3} - 2048 f h m^{2} + 22 h^{10} + 592 h^{8} m + 4416 h^{6} m^{2} - 64 h^{6} m + 7424 h^{4} m^{3} - 768 h^{4} m^{2} + 16640 h^{2} m^{4} + 512 h^{2} m^{3} + 256 h^{2} m^{2} + 256 h^{2} m}\\right ]$$"
      ],
      "text/plain": [
       "⎡                                                      _______________________\n",
       "⎢     2              5                                ╱                   3   \n",
       "⎢3⋅f⋅h            3⋅h       3           2           ╲╱  -512⋅b⋅f + 256⋅b⋅h  + \n",
       "⎢────── + 4⋅f⋅m - ──── - 6⋅h ⋅m - 10⋅h⋅m  + 2⋅h⋅m - ──────────────────────────\n",
       "⎣  2               8                                                          \n",
       "\n",
       "______________________________________________________________________________\n",
       "                  3         2  4         2  2           2  2        2         \n",
       "2048⋅b⋅h⋅m + 256⋅f ⋅h + 96⋅f ⋅h  - 1536⋅f ⋅h ⋅m + 1536⋅f ⋅m  + 512⋅f ⋅m - 128⋅\n",
       "──────────────────────────────────────────────────────────────────────────────\n",
       "                                                                              \n",
       "\n",
       "______________________________________________________________________________\n",
       "   7           5                3             2       10        8           6 \n",
       "f⋅h  - 1536⋅f⋅h ⋅m - 10240⋅f⋅h⋅m  - 2048⋅f⋅h⋅m  + 22⋅h   + 592⋅h ⋅m + 4416⋅h ⋅\n",
       "──────────────────────────────────────────────────────────────────────────────\n",
       "                              16                                              \n",
       "\n",
       "______________________________________________________________________________\n",
       " 2       6           4  3        4  2          2  4        2  3        2  2   \n",
       "m  - 64⋅h ⋅m + 7424⋅h ⋅m  - 768⋅h ⋅m  + 16640⋅h ⋅m  + 512⋅h ⋅m  + 256⋅h ⋅m  + \n",
       "──────────────────────────────────────────────────────────────────────────────\n",
       "                                                                              \n",
       "\n",
       "_________                                                        _____________\n",
       "     2          2              5                                ╱             \n",
       "256⋅h ⋅m   3⋅f⋅h            3⋅h       3           2           ╲╱  -512⋅b⋅f + 2\n",
       "─────────, ────── + 4⋅f⋅m - ──── - 6⋅h ⋅m - 10⋅h⋅m  + 2⋅h⋅m + ────────────────\n",
       "             2               8                                                \n",
       "\n",
       "______________________________________________________________________________\n",
       "      3                     3         2  4         2  2           2  2        \n",
       "56⋅b⋅h  + 2048⋅b⋅h⋅m + 256⋅f ⋅h + 96⋅f ⋅h  - 1536⋅f ⋅h ⋅m + 1536⋅f ⋅m  + 512⋅f\n",
       "──────────────────────────────────────────────────────────────────────────────\n",
       "                                                                              \n",
       "\n",
       "______________________________________________________________________________\n",
       "2            7           5                3             2       10        8   \n",
       " ⋅m - 128⋅f⋅h  - 1536⋅f⋅h ⋅m - 10240⋅f⋅h⋅m  - 2048⋅f⋅h⋅m  + 22⋅h   + 592⋅h ⋅m \n",
       "──────────────────────────────────────────────────────────────────────────────\n",
       "                                        16                                    \n",
       "\n",
       "______________________________________________________________________________\n",
       "        6  2       6           4  3        4  2          2  4        2  3     \n",
       "+ 4416⋅h ⋅m  - 64⋅h ⋅m + 7424⋅h ⋅m  - 768⋅h ⋅m  + 16640⋅h ⋅m  + 512⋅h ⋅m  + 25\n",
       "──────────────────────────────────────────────────────────────────────────────\n",
       "                                                                              \n",
       "\n",
       "___________________⎤\n",
       "   2  2        2   ⎥\n",
       "6⋅h ⋅m  + 256⋅h ⋅m ⎥\n",
       "───────────────────⎥\n",
       "                   ⎦"
      ]
     },
     "execution_count": 10,
     "metadata": {},
     "output_type": "execute_result"
    }
   ],
   "source": [
    "solve(eqs[-1], d)"
   ]
  },
  {
   "cell_type": "code",
   "execution_count": 11,
   "metadata": {},
   "outputs": [],
   "source": [
    "# eqs = nontriv(bigsubs(eqs, b, only(solve(eqs[-1], b))))\n",
    "# show(eqs)"
   ]
  },
  {
   "cell_type": "code",
   "execution_count": 12,
   "metadata": {},
   "outputs": [
    {
     "data": {
      "text/latex": [
       "\\begin{align}\n",
       "\\gamma + m^{8} + 4 m^{7} + 6 m^{6} + 6 m^{5} + 5 m^{4} + 2 m^{3} + m^{2} + m &= \\left(d f - 2 f^{2} m + m^{4} + 2 m^{3} + m^{2} + m\\right)^{2} \\\\\n",
       "8 m^{7} + 24 m^{6} + 24 m^{5} + 16 m^{4} + 8 m^{3} &= - b^{2} + 2 \\left(\\frac{f^{2}}{2} + 4 m^{3} + 4 m^{2}\\right) \\left(d f - 2 f^{2} m + m^{4} + 2 m^{3} + m^{2} + m\\right) \\\\\n",
       "28 m^{6} + 60 m^{5} + 36 m^{4} + 16 m^{3} + 4 m^{2} &= - 2 b d + 2 \\left(6 m^{2} + 2 m\\right) \\left(d f - 2 f^{2} m + m^{4} + 2 m^{3} + m^{2} + m\\right) + \\left(\\frac{f^{2}}{2} + 4 m^{3} + 4 m^{2}\\right)^{2} \\\\\n",
       "56 m^{5} + 80 m^{4} + 24 m^{3} + 8 m^{2} &= - 2 b f - d^{2} + 8 m \\left(d f - 2 f^{2} m + m^{4} + 2 m^{3} + m^{2} + m\\right) + 2 \\left(6 m^{2} + 2 m\\right) \\left(\\frac{f^{2}}{2} + 4 m^{3} + 4 m^{2}\\right) \\\\\n",
       "\\end{align}"
      ],
      "text/plain": [
       "<IPython.core.display.Latex object>"
      ]
     },
     "metadata": {},
     "output_type": "display_data"
    }
   ],
   "source": [
    "eqs = nontriv(bigsubs(eqs, h, 0))\n",
    "show(eqs)"
   ]
  },
  {
   "cell_type": "code",
   "execution_count": 13,
   "metadata": {},
   "outputs": [
    {
     "data": {
      "text/latex": [
       "\\begin{align}\n",
       "\\gamma + m^{8} + 4 m^{7} + 6 m^{6} + 6 m^{5} + 5 m^{4} + 2 m^{3} + m^{2} + m &= d^{2} f^{2} - 4 d f^{3} m + 2 d f m^{4} + 4 d f m^{3} + 2 d f m^{2} + 2 d f m + 4 f^{4} m^{2} - 4 f^{2} m^{5} - 8 f^{2} m^{4} - 4 f^{2} m^{3} - 4 f^{2} m^{2} + m^{8} + 4 m^{7} + 6 m^{6} + 6 m^{5} + 5 m^{4} + 2 m^{3} + m^{2} \\\\\n",
       "8 m^{7} + 24 m^{6} + 24 m^{5} + 16 m^{4} + 8 m^{3} &= - b^{2} + d f^{3} + 8 d f m^{3} + 8 d f m^{2} - 2 f^{4} m - 15 f^{2} m^{4} - 14 f^{2} m^{3} + f^{2} m^{2} + f^{2} m + 8 m^{7} + 24 m^{6} + 24 m^{5} + 16 m^{4} + 8 m^{3} \\\\\n",
       "28 m^{6} + 60 m^{5} + 36 m^{4} + 16 m^{3} + 4 m^{2} &= - 2 b d + 12 d f m^{2} + 4 d f m + \\frac{f^{4}}{4} - 20 f^{2} m^{3} - 4 f^{2} m^{2} + 28 m^{6} + 60 m^{5} + 36 m^{4} + 16 m^{3} + 4 m^{2} \\\\\n",
       "56 m^{5} + 80 m^{4} + 24 m^{3} + 8 m^{2} &= - 2 b f - d^{2} + 8 d f m - 10 f^{2} m^{2} + 2 f^{2} m + 56 m^{5} + 80 m^{4} + 24 m^{3} + 8 m^{2} \\\\\n",
       "\\end{align}"
      ],
      "text/plain": [
       "<IPython.core.display.Latex object>"
      ]
     },
     "metadata": {},
     "output_type": "display_data"
    }
   ],
   "source": [
    "show(Eq(e.lhs, e.rhs.expand()) for e in eqs)"
   ]
  },
  {
   "cell_type": "code",
   "execution_count": 14,
   "metadata": {},
   "outputs": [
    {
     "data": {
      "text/latex": [
       "\\begin{align}\n",
       "0 &= d^{2} f^{2} - 4 d f^{3} m + 2 d f m^{4} + 4 d f m^{3} + 2 d f m^{2} + 2 d f m + 4 f^{4} m^{2} - 4 f^{2} m^{5} - 8 f^{2} m^{4} - 4 f^{2} m^{3} - 4 f^{2} m^{2} - \\gamma - m \\\\\n",
       "0 &= - b^{2} + d f^{3} + 8 d f m^{3} + 8 d f m^{2} - 2 f^{4} m - 15 f^{2} m^{4} - 14 f^{2} m^{3} + f^{2} m^{2} + f^{2} m \\\\\n",
       "0 &= - 2 b d + 12 d f m^{2} + 4 d f m + \\frac{f^{4}}{4} - 20 f^{2} m^{3} - 4 f^{2} m^{2} \\\\\n",
       "0 &= - 2 b f - d^{2} + 8 d f m - 10 f^{2} m^{2} + 2 f^{2} m \\\\\n",
       "\\end{align}"
      ],
      "text/plain": [
       "<IPython.core.display.Latex object>"
      ]
     },
     "metadata": {},
     "output_type": "display_data"
    }
   ],
   "source": [
    "eqss = [ Eq(0, e.rhs.expand()-e.lhs) for e in eqs ]\n",
    "show(eqss)"
   ]
  },
  {
   "cell_type": "code",
   "execution_count": 15,
   "metadata": {},
   "outputs": [
    {
     "data": {
      "text/latex": [
       "$$d f^{3} + 8 d f m^{3} + 8 d f m^{2} - 2 f^{4} m - 15 f^{2} m^{4} - 14 f^{2} m^{3} + f^{2} m^{2} + f^{2} m$$"
      ],
      "text/plain": [
       "   3          3          2      4         2  4       2  3    2  2    2  \n",
       "d⋅f  + 8⋅d⋅f⋅m  + 8⋅d⋅f⋅m  - 2⋅f ⋅m - 15⋅f ⋅m  - 14⋅f ⋅m  + f ⋅m  + f ⋅m"
      ]
     },
     "execution_count": 15,
     "metadata": {},
     "output_type": "execute_result"
    }
   ],
   "source": [
    "b_2_ = eqss[1].rhs+b**2\n",
    "b_2_"
   ]
  },
  {
   "cell_type": "code",
   "execution_count": 16,
   "metadata": {},
   "outputs": [
    {
     "data": {
      "text/latex": [
       "$$d^{2} f^{2} - 4 d f^{3} m + 2 d f m^{4} + 4 d f m^{3} + 2 d f m^{2} + 2 d f m + 4 f^{4} m^{2} - 4 f^{2} m^{5} - 8 f^{2} m^{4} - 4 f^{2} m^{3} - 4 f^{2} m^{2} - m$$"
      ],
      "text/plain": [
       " 2  2        3            4          3          2                4  2      2  \n",
       "d ⋅f  - 4⋅d⋅f ⋅m + 2⋅d⋅f⋅m  + 4⋅d⋅f⋅m  + 2⋅d⋅f⋅m  + 2⋅d⋅f⋅m + 4⋅f ⋅m  - 4⋅f ⋅m\n",
       "\n",
       "5      2  4      2  3      2  2    \n",
       "  - 8⋅f ⋅m  - 4⋅f ⋅m  - 4⋅f ⋅m  - m"
      ]
     },
     "execution_count": 16,
     "metadata": {},
     "output_type": "execute_result"
    }
   ],
   "source": [
    "ga_ = eqss[0].rhs+gamma\n",
    "ga_"
   ]
  },
  {
   "cell_type": "code",
   "execution_count": 17,
   "metadata": {},
   "outputs": [
    {
     "data": {
      "text/latex": [
       "$$\\operatorname{Poly}{\\left( d \\left(f^{3} + 8 f m^{3} + 8 f m^{2}\\right) - 2 f^{4} m - 15 f^{2} m^{4} - 14 f^{2} m^{3} + f^{2} m^{2} + f^{2} m, d, domain=\\mathbb{Z}\\left[f, m\\right] \\right)}$$"
      ],
      "text/plain": [
       "Poly((f**3 + 8*f*m**3 + 8*f*m**2)*d - 2*f**4*m - 15*f**2*m**4 - 14*f**2*m**3 +\n",
       " f**2*m**2 + f**2*m, d, domain='ZZ[f,m]')"
      ]
     },
     "execution_count": 17,
     "metadata": {},
     "output_type": "execute_result"
    }
   ],
   "source": [
    "b_2_.as_poly(d)"
   ]
  },
  {
   "cell_type": "code",
   "execution_count": 23,
   "metadata": {},
   "outputs": [
    {
     "data": {
      "text/latex": [
       "\\begin{align}\n",
       "0 &= d^{2} f^{2} - 4 d f^{3} m + 2 d f m^{4} + 4 d f m^{3} + 2 d f m^{2} + 2 d f m + 4 f^{4} m^{2} - 4 f^{2} m^{5} - 8 f^{2} m^{4} - 4 f^{2} m^{3} - 4 f^{2} m^{2} - \\gamma - m \\\\\n",
       "0 &= - \\frac{d^{4}}{4 f^{2}} + \\frac{4 m}{f} d^{3} - 21 d^{2} m^{2} + d^{2} m + d f^{3} + 48 d f m^{3} - 2 f^{4} m - 40 f^{2} m^{4} - 4 f^{2} m^{3} + f^{2} m \\\\\n",
       "0 &= \\frac{d^{3}}{f} - 8 d^{2} m + 22 d f m^{2} + 2 d f m + \\frac{f^{4}}{4} - 20 f^{2} m^{3} - 4 f^{2} m^{2} \\\\\n",
       "\\end{align}"
      ],
      "text/plain": [
       "<IPython.core.display.Latex object>"
      ]
     },
     "metadata": {},
     "output_type": "display_data"
    }
   ],
   "source": [
    "eqsss = [ Eq(e.lhs, e.rhs.expand()) for e in nontriv(bigsubs(eqss, b, only(solve(eqss[-1], b)))) ]\n",
    "show(eqsss)"
   ]
  },
  {
   "cell_type": "code",
   "execution_count": 24,
   "metadata": {},
   "outputs": [
    {
     "data": {
      "text/latex": [
       "\\begin{align}\n",
       "0 &= d^{2} f^{2} - \\gamma \\\\\n",
       "0 &= - b^{2} + d f^{3} \\\\\n",
       "0 &= - 2 b d + \\frac{f^{4}}{4} \\\\\n",
       "0 &= - 2 b f - d^{2} \\\\\n",
       "\\end{align}"
      ],
      "text/plain": [
       "<IPython.core.display.Latex object>"
      ]
     },
     "metadata": {},
     "output_type": "display_data"
    }
   ],
   "source": [
    "show(nontriv(bigsubs(eqss, m, 0)))"
   ]
  },
  {
   "cell_type": "code",
   "execution_count": null,
   "metadata": {},
   "outputs": [],
   "source": []
  }
 ],
 "metadata": {
  "kernelspec": {
   "display_name": "Python 3",
   "language": "python",
   "name": "python3"
  },
  "language_info": {
   "codemirror_mode": {
    "name": "ipython",
    "version": 3
   },
   "file_extension": ".py",
   "mimetype": "text/x-python",
   "name": "python",
   "nbconvert_exporter": "python",
   "pygments_lexer": "ipython3",
   "version": "3.6.4"
  }
 },
 "nbformat": 4,
 "nbformat_minor": 2
}
